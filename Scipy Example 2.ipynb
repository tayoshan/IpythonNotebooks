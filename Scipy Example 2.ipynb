{
 "metadata": {
  "name": ""
 },
 "nbformat": 3,
 "nbformat_minor": 0,
 "worksheets": [
  {
   "cells": [
    {
     "cell_type": "code",
     "collapsed": false,
     "input": [
      "import pySI as SI\n",
      "import pandas as pd\n",
      "import numpy as np\n",
      "import matplotlib.pyplot as plt\n",
      "import time\n",
      "%pylab inline\n",
      "\n"
     ],
     "language": "python",
     "metadata": {},
     "outputs": [
      {
       "output_type": "stream",
       "stream": "stdout",
       "text": [
        "Populating the interactive namespace from numpy and matplotlib\n"
       ]
      }
     ],
     "prompt_number": 1
    },
    {
     "cell_type": "code",
     "collapsed": false,
     "input": [
      "data= pd.DataFrame(pd.read_csv('http://dl.dropbox.com/u/8649795/AT_Austria.csv'))\n",
      "\n",
      "t0 = time.time()\n",
      "\n",
      "O = 'Origin'\n",
      "D = 'Destination'\n",
      "T = 'Data'\n",
      "S = 'Dij'\n",
      "C = 'exp'\n",
      "#F = {}\n",
      "CS = {'production':'Origin', 'attraction':'Destination'}\n",
      "\n",
      "model = SI.calibrate(data=data, origins=O, destinations=D, trips=T, sep=S, cost=C, constraints=CS)\n",
      "\n",
      "regressionResults = model.regression()\n",
      "\t\n",
      "#mleResults = model.mle(initialParams={'beta':0})\n",
      "\n",
      "t1 = time.time()\n",
      "print t1-t0"
     ],
     "language": "python",
     "metadata": {},
     "outputs": [
      {
       "output_type": "stream",
       "stream": "stdout",
       "text": [
        "0.987351034731 0.974862065785\n",
        "0.486999988556\n"
       ]
      }
     ],
     "prompt_number": 7
    },
    {
     "cell_type": "code",
     "collapsed": false,
     "input": [
      "plt.scatter(mleResults.results.Data, mleResults.results.SIM_Estimates)\n",
      "plt.xlim(xmin=0)\n",
      "plt.ylim(ymin=0)\n",
      "plt.xlabel('Observed Flows')\n",
      "plt.ylabel('Predicted Flows')\n",
      "plt.plot([0,50000], [0,50000])\n",
      "plt.draw()\n"
     ],
     "language": "python",
     "metadata": {},
     "outputs": [
      {
       "metadata": {},
       "output_type": "display_data",
       "png": "[encoded data removed]",
       "text": [
        "<matplotlib.figure.Figure at 0x14b80358>"
       ]
      }
     ],
     "prompt_number": 4
    },
    {
     "cell_type": "code",
     "collapsed": false,
     "input": [
      "predictionModel = SI.simulate(data=data, origins=O, destinations=D, trips=T, sep=S, cost=C, constraints=CS)\n",
      "\n",
      "nodes = ['AT11']\n",
      "setParams={'beta':0}\n",
      "setFactors={'Data':[('Destinations','AT11',50), ('Origins','AT11',5)]}\n",
      "\n",
      "predictionModel.entropy(removeNode=nodes, setParams=setParams, setFactors=setFactors)"
     ],
     "language": "python",
     "metadata": {},
     "outputs": [],
     "prompt_number": 8
    },
    {
     "cell_type": "code",
     "collapsed": false,
     "input": [
      "regressionResults.summary()"
     ],
     "language": "python",
     "metadata": {},
     "outputs": [
      {
       "output_type": "stream",
       "stream": "stdout",
       "text": [
        "                 Generalized Linear Model Regression Results                  \n",
        "==============================================================================\n",
        "Dep. Variable:                   Data   No. Observations:                   72\n",
        "Model:                            GLM   Df Residuals:                       54\n",
        "Model Family:                 Poisson   Df Model:                           17\n",
        "Link Function:                    log   Scale:                             1.0\n",
        "Method:                          IRLS   Log-Likelihood:                -4970.6\n",
        "Date:                Wed, 09 Jul 2014   Deviance:                       9360.5\n",
        "Time:                        00:07:28   Pearson chi2:                 9.99e+03\n",
        "No. Iterations:                    11                                         \n",
        "=======================================================================================\n",
        "                          coef    std err          t      P>|t|      [95.0% Conf. Int.]\n",
        "---------------------------------------------------------------------------------------\n",
        "Intercept               6.2047      0.022    277.010      0.000         6.161     6.249\n",
        "Destination[T.AT12]     1.4971      0.016     96.125      0.000         1.467     1.528\n",
        "Destination[T.AT13]     2.1849      0.016    134.493      0.000         2.153     2.217\n",
        "Destination[T.AT21]     0.1878      0.021      8.818      0.000         0.146     0.230\n",
        "Destination[T.AT22]     0.6643      0.018     37.296      0.000         0.629     0.699\n",
        "Destination[T.AT31]     0.7426      0.018     41.102      0.000         0.707     0.778\n",
        "Destination[T.AT32]     0.2133      0.020     10.477      0.000         0.173     0.253\n",
        "Destination[T.AT33]     0.6677      0.023     29.656      0.000         0.624     0.712\n",
        "Destination[T.AT34]     0.3999      0.028     14.068      0.000         0.344     0.456\n",
        "Origin[T.AT12]          1.5449      0.018     87.769      0.000         1.510     1.579\n",
        "Origin[T.AT13]          2.4414      0.018    137.373      0.000         2.407     2.476\n",
        "Origin[T.AT21]          0.6992      0.022     32.128      0.000         0.657     0.742\n",
        "Origin[T.AT22]          0.9487      0.019     49.012      0.000         0.911     0.987\n",
        "Origin[T.AT31]          1.2897      0.019     68.493      0.000         1.253     1.327\n",
        "Origin[T.AT32]          0.7427      0.021     35.424      0.000         0.702     0.784\n",
        "Origin[T.AT33]          1.1947      0.023     51.018      0.000         1.149     1.241\n",
        "Origin[T.AT34]          0.9887      0.029     34.646      0.000         0.933     1.045\n",
        "Dij                    -0.0079   5.06e-05   -156.355      0.000        -0.008    -0.008\n",
        "=======================================================================================\n"
       ]
      }
     ],
     "prompt_number": 9
    },
    {
     "cell_type": "code",
     "collapsed": false,
     "input": [
      "regressionResults.rsquared()"
     ],
     "language": "python",
     "metadata": {},
     "outputs": [
      {
       "output_type": "stream",
       "stream": "stdout",
       "text": [
        "0.974862065785\n"
       ]
      }
     ],
     "prompt_number": 10
    },
    {
     "cell_type": "code",
     "collapsed": false,
     "input": [],
     "language": "python",
     "metadata": {},
     "outputs": [],
     "prompt_number": 12
    },
    {
     "cell_type": "code",
     "collapsed": false,
     "input": [],
     "language": "python",
     "metadata": {},
     "outputs": [],
     "prompt_number": 12
    },
    {
     "cell_type": "code",
     "collapsed": false,
     "input": [],
     "language": "python",
     "metadata": {},
     "outputs": []
    }
   ],
   "metadata": {}
  }
 ]
}