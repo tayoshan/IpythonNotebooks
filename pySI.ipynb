{
 "metadata": {
  "name": ""
 },
 "nbformat": 3,
 "nbformat_minor": 0,
 "worksheets": [
  {
   "cells": [
    {
     "cell_type": "code",
     "collapsed": false,
     "input": [
      "class calibrate():\n",
      "    def __init__(self, data, method, cost, rgrString='', multModel=''):\n",
      "        self.data = data\n",
      "        self.method = method\n",
      "        if self.cost in ('invpow','negexp'):\n",
      "            self.cost = cost\n",
      "        if self.method in ('regression', 'Regression'):\n",
      "            self.model = rgrString\n",
      "        if self.method in ('MLE', 'mle'):\n",
      "            self.model = miltModel\n",
      "            \n",
      "            \n",
      "    \n",
      "    def method(self):\n",
      "        return self.data, self.method, self.cost, self.model\n",
      "        \n",
      "        \n",
      "        \n"
     ],
     "language": "python",
     "metadata": {},
     "outputs": [],
     "prompt_number": 21
    }
   ],
   "metadata": {}
  }
 ]
}