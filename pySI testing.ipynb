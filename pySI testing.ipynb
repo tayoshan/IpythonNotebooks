{
 "metadata": {
  "name": ""
 },
 "nbformat": 3,
 "nbformat_minor": 0,
 "worksheets": [
  {
   "cells": [
    {
     "cell_type": "code",
     "collapsed": false,
     "input": [
      "import pySI as SI\n",
      "import pandas as pd\n",
      "import numpy as np\n",
      "import time\n",
      "import numdifftools as ndt\n",
      "#data= pd.DataFrame(pd.read_csv('http://dl.dropbox.com/u/8649795/AT_Austria.csv'))\n",
      "data = pd.DataFrame(pd.read_csv(\"C:\\\\Users\\\\Taylor\\\\Documents\\\\london_flows.csv\"))\n",
      "from scipy.optimize import newton\n"
     ],
     "language": "python",
     "metadata": {},
     "outputs": [],
     "prompt_number": 1
    },
    {
     "cell_type": "code",
     "collapsed": false,
     "input": [
      "t0 = time.time()\n",
      "\n",
      "model = SI.calibrate(data=data, trips='Data', sep='distance', cost='invpow', constraints={'production':'Origin', 'attraction':'Destination'})\n",
      "\n",
      "results = model.mle(initialParams={'beta':0})\n",
      "\n",
      "t1 = time.time()\n",
      "print t1-t0\n"
     ],
     "language": "python",
     "metadata": {},
     "outputs": [
      {
       "output_type": "stream",
       "stream": "stdout",
       "text": [
        "doubly constrained model chosen\n",
        "17069770.9572 16470774.6459\n",
        "[-1.92431639]"
       ]
      },
      {
       "output_type": "stream",
       "stream": "stdout",
       "text": [
        " 598996.311338\n",
        "[-1.92431639] 0.000124264508486\n",
        "[-1.92431639]"
       ]
      },
      {
       "output_type": "stream",
       "stream": "stdout",
       "text": [
        " 2.75876373053e-05\n",
        "[-1.92431639] 2.52891331911e-05\n",
        "[-1.92431639]"
       ]
      },
      {
       "output_type": "stream",
       "stream": "stdout",
       "text": [
        " 2.52071768045e-05\n",
        "[-1.92431639] 2.52313911915e-05\n",
        "[-1.92431639]"
       ]
      },
      {
       "output_type": "stream",
       "stream": "stdout",
       "text": [
        " 2.51960009336e-05\n",
        "[-1.92431639] 2.52407044172e-05\n",
        "[-1.92431639]"
       ]
      },
      {
       "output_type": "stream",
       "stream": "stdout",
       "text": [
        " 2.52071768045e-05\n",
        "[-1.92431639] 2.52146273851e-05\n",
        "[-1.92431639]"
       ]
      },
      {
       "output_type": "stream",
       "stream": "stdout",
       "text": [
        " 2.52071768045e-05\n",
        "[-1.92431639] 2.52146273851e-05\n",
        "[-1.92431639]"
       ]
      },
      {
       "output_type": "stream",
       "stream": "stdout",
       "text": [
        " 2.52053141594e-05\n",
        "[-1.92431639] 2.521276474e-05\n",
        "[-1.92431639]"
       ]
      },
      {
       "output_type": "stream",
       "stream": "stdout",
       "text": [
        " 2.52071768045e-05\n",
        "[-1.92431639] 2.52146273851e-05\n",
        "[-1.92431639]"
       ]
      },
      {
       "output_type": "stream",
       "stream": "stdout",
       "text": [
        " 2.521276474e-05\n",
        "[-1.92431639] 2.521276474e-05\n",
        "[-1.92431639]"
       ]
      },
      {
       "output_type": "stream",
       "stream": "stdout",
       "text": [
        " 2.521276474e-05\n",
        "[-1.92431639] 2.521276474e-05\n",
        "[-1.92431639]"
       ]
      },
      {
       "output_type": "stream",
       "stream": "stdout",
       "text": [
        " 2.521276474e-05\n",
        "[-1.92431639] 2.521276474e-05\n",
        "[-1.92431639]"
       ]
      },
      {
       "output_type": "stream",
       "stream": "stdout",
       "text": [
        " 2.521276474e-05\n",
        "[-1.92431639] 2.521276474e-05\n",
        "[-1.92431639]"
       ]
      },
      {
       "output_type": "stream",
       "stream": "stdout",
       "text": [
        " 2.521276474e-05\n",
        "[-1.92431639] 2.521276474e-05\n",
        "After 26 runs, beta is : -1.9243163917\n",
        "0.878000020981\n"
       ]
      }
     ],
     "prompt_number": 2
    },
    {
     "cell_type": "code",
     "collapsed": false,
     "input": [],
     "language": "python",
     "metadata": {},
     "outputs": [],
     "prompt_number": "*"
    },
    {
     "cell_type": "code",
     "collapsed": false,
     "input": [],
     "language": "python",
     "metadata": {},
     "outputs": [
      {
       "metadata": {},
       "output_type": "pyout",
       "prompt_number": 34,
       "text": [
        "1800429.9999999986"
       ]
      }
     ],
     "prompt_number": 34
    },
    {
     "cell_type": "code",
     "collapsed": false,
     "input": [
      "results.results.SIM_Estimates"
     ],
     "language": "python",
     "metadata": {},
     "outputs": [
      {
       "metadata": {},
       "output_type": "pyout",
       "prompt_number": 58,
       "text": [
        "0       4.178718\n",
        "1      14.753446\n",
        "2       3.464348\n",
        "3      13.593302\n",
        "4       8.327135\n",
        "5     226.346944\n",
        "6       9.109631\n",
        "7      11.101193\n",
        "8       8.800738\n",
        "9       9.949501\n",
        "10     82.513758\n",
        "11     35.066312\n",
        "12     22.701007\n",
        "13      4.878912\n",
        "14      3.423593\n",
        "...\n",
        "1041     257.913463\n",
        "1042    2751.181222\n",
        "1043    6793.011551\n",
        "1044     106.959710\n",
        "1045    1021.878391\n",
        "1046     175.264689\n",
        "1047     197.607978\n",
        "1048     153.033294\n",
        "1049      89.358487\n",
        "1050     171.796784\n",
        "1051    1174.568773\n",
        "1052      79.333234\n",
        "1053    1154.622551\n",
        "1054     119.727422\n",
        "1055     894.851575\n",
        "Name: SIM_Estimates, Length: 1056, dtype: float64"
       ]
      }
     ],
     "prompt_number": 58
    },
    {
     "cell_type": "code",
     "collapsed": false,
     "input": [
      "model = SI.calibrate(data=data, trips='Data', sep='distance', cost='invpow', constraints={'production':'Origin', 'attraction':'Destination'})\n",
      "\n",
      "results = model.regression()"
     ],
     "language": "python",
     "metadata": {},
     "outputs": [],
     "prompt_number": 5
    },
    {
     "cell_type": "code",
     "collapsed": false,
     "input": [],
     "language": "python",
     "metadata": {},
     "outputs": [],
     "prompt_number": 5
    },
    {
     "cell_type": "code",
     "collapsed": false,
     "input": [
      "results.results.rsquared"
     ],
     "language": "python",
     "metadata": {},
     "outputs": [
      {
       "metadata": {},
       "output_type": "pyout",
       "prompt_number": 6,
       "text": [
        "0.85467441711333447"
       ]
      }
     ],
     "prompt_number": 6
    },
    {
     "cell_type": "code",
     "collapsed": false,
     "input": [
      "results.results.regstr"
     ],
     "language": "python",
     "metadata": {},
     "outputs": [
      {
       "metadata": {},
       "output_type": "pyout",
       "prompt_number": 7,
       "text": [
        "'Data~Destination+Origin+np.log(distance)'"
       ]
      }
     ],
     "prompt_number": 7
    },
    {
     "cell_type": "code",
     "collapsed": false,
     "input": [
      "results.results.params"
     ],
     "language": "python",
     "metadata": {},
     "outputs": [
      {
       "metadata": {},
       "output_type": "pyout",
       "prompt_number": 8,
       "text": [
        "Intercept                                24.627390\n",
        "Destination[T.Barnet]                     0.987073\n",
        "Destination[T.Bexley]                    -0.041350\n",
        "Destination[T.Brent]                      0.792785\n",
        "Destination[T.Bromley]                    0.990955\n",
        "Destination[T.Camden]                     2.011773\n",
        "Destination[T.City of London]             2.229849\n",
        "Destination[T.Croydon]                    0.973018\n",
        "Destination[T.Ealing]                     1.042375\n",
        "Destination[T.Enfield]                    0.634737\n",
        "Destination[T.Greenwich]                  0.195273\n",
        "Destination[T.Hackney]                    0.588226\n",
        "Destination[T.Hammersmith and Fulham]     1.059109\n",
        "Destination[T.Haringey]                   0.463790\n",
        "Destination[T.Harrow]                     0.538186\n",
        "...\n",
        "Origin[T.Kensington and Chelsea]   -2.099315\n",
        "Origin[T.Kingston upon Thames]     -0.255488\n",
        "Origin[T.Lambeth]                  -0.334005\n",
        "Origin[T.Lewisham]                 -0.070835\n",
        "Origin[T.Merton]                   -0.185795\n",
        "Origin[T.Newham]                   -0.366721\n",
        "Origin[T.Redbridge]                 0.383383\n",
        "Origin[T.Richmond upon Thames]     -0.286616\n",
        "Origin[T.Southwark]                -0.767044\n",
        "Origin[T.Sutton]                   -0.079102\n",
        "Origin[T.Tower Hamlets]            -1.256700\n",
        "Origin[T.Waltham Forest]           -0.128074\n",
        "Origin[T.Wandsworth]               -0.184244\n",
        "Origin[T.Westminster]              -1.605803\n",
        "np.log(distance)                   -1.924316\n",
        "Length: 66, dtype: float64"
       ]
      }
     ],
     "prompt_number": 8
    },
    {
     "cell_type": "code",
     "collapsed": false,
     "input": [
      "np.sum(results.data.Data)"
     ],
     "language": "python",
     "metadata": {},
     "outputs": [
      {
       "metadata": {},
       "output_type": "pyout",
       "prompt_number": 9,
       "text": [
        "1800430"
       ]
      }
     ],
     "prompt_number": 9
    },
    {
     "cell_type": "code",
     "collapsed": false,
     "input": [
      "np.sum(results.results.fittedvalues)"
     ],
     "language": "python",
     "metadata": {},
     "outputs": [
      {
       "metadata": {},
       "output_type": "pyout",
       "prompt_number": 25,
       "text": [
        "1800430.0000000135"
       ]
      }
     ],
     "prompt_number": 25
    },
    {
     "cell_type": "code",
     "collapsed": false,
     "input": [],
     "language": "python",
     "metadata": {},
     "outputs": []
    }
   ],
   "metadata": {}
  }
 ]
}