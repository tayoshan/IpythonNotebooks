{
 "metadata": {
  "name": ""
 },
 "nbformat": 3,
 "nbformat_minor": 0,
 "worksheets": [
  {
   "cells": [
    {
     "cell_type": "code",
     "collapsed": false,
     "input": [
      "import pySI as SI\n",
      "import pandas as pd\n",
      "import numpy as np\n",
      "import time\n",
      "import numdifftools as ndt\n",
      "data= pd.DataFrame(pd.read_csv('http://dl.dropbox.com/u/8649795/AT_Austria.csv'))\n",
      "#data = pd.DataFrame(pd.read_csv(\"C:\\\\Users\\\\Taylor\\\\Documents\\\\london_flows.csv\"))\n",
      "from scipy.optimize import newton\n"
     ],
     "language": "python",
     "metadata": {},
     "outputs": [],
     "prompt_number": 3
    },
    {
     "cell_type": "code",
     "collapsed": false,
     "input": [
      "\n",
      "\n",
      "t0 = time.time()\n",
      "\n",
      "model = SI.calibrate(data=data, trips='Data', sep='Dij', cost='exp', constraints={'production':'Origin', 'attraction':'Destination'})\n",
      "\n",
      "results = model.mle(initialParams={'beta':0})\n",
      "\n",
      "t1 = time.time()\n",
      "print t1-t0\n"
     ],
     "language": "python",
     "metadata": {},
     "outputs": [
      {
       "output_type": "stream",
       "stream": "stdout",
       "text": [
        "After 3 runs, beta is : -0.0079153\n",
        "0.361999988556\n"
       ]
      }
     ],
     "prompt_number": 6
    },
    {
     "cell_type": "code",
     "collapsed": false,
     "input": [],
     "language": "python",
     "metadata": {},
     "outputs": [],
     "prompt_number": "*"
    },
    {
     "cell_type": "code",
     "collapsed": false,
     "input": [],
     "language": "python",
     "metadata": {},
     "outputs": [
      {
       "metadata": {},
       "output_type": "pyout",
       "prompt_number": 34,
       "text": [
        "1800429.9999999986"
       ]
      }
     ],
     "prompt_number": 34
    },
    {
     "cell_type": "code",
     "collapsed": false,
     "input": [
      "results.results.SIM_Estimates"
     ],
     "language": "python",
     "metadata": {},
     "outputs": [
      {
       "metadata": {},
       "output_type": "pyout",
       "prompt_number": 58,
       "text": [
        "0       4.178718\n",
        "1      14.753446\n",
        "2       3.464348\n",
        "3      13.593302\n",
        "4       8.327135\n",
        "5     226.346944\n",
        "6       9.109631\n",
        "7      11.101193\n",
        "8       8.800738\n",
        "9       9.949501\n",
        "10     82.513758\n",
        "11     35.066312\n",
        "12     22.701007\n",
        "13      4.878912\n",
        "14      3.423593\n",
        "...\n",
        "1041     257.913463\n",
        "1042    2751.181222\n",
        "1043    6793.011551\n",
        "1044     106.959710\n",
        "1045    1021.878391\n",
        "1046     175.264689\n",
        "1047     197.607978\n",
        "1048     153.033294\n",
        "1049      89.358487\n",
        "1050     171.796784\n",
        "1051    1174.568773\n",
        "1052      79.333234\n",
        "1053    1154.622551\n",
        "1054     119.727422\n",
        "1055     894.851575\n",
        "Name: SIM_Estimates, Length: 1056, dtype: float64"
       ]
      }
     ],
     "prompt_number": 58
    },
    {
     "cell_type": "code",
     "collapsed": false,
     "input": [
      "model = SI.calibrate(data=data, trips='Data', sep='Dij', cost='invpow', constraints={'production':'Origin', 'attraction':'Destination'})\n",
      "\n",
      "results = model.regression()"
     ],
     "language": "python",
     "metadata": {},
     "outputs": [],
     "prompt_number": 4
    },
    {
     "cell_type": "code",
     "collapsed": false,
     "input": [],
     "language": "python",
     "metadata": {},
     "outputs": [],
     "prompt_number": 5
    },
    {
     "cell_type": "code",
     "collapsed": false,
     "input": [
      "results.results.rsquared"
     ],
     "language": "python",
     "metadata": {},
     "outputs": [
      {
       "metadata": {},
       "output_type": "pyout",
       "prompt_number": 6,
       "text": [
        "0.85467441711333447"
       ]
      }
     ],
     "prompt_number": 6
    },
    {
     "cell_type": "code",
     "collapsed": false,
     "input": [
      "results.results.regstr"
     ],
     "language": "python",
     "metadata": {},
     "outputs": [
      {
       "metadata": {},
       "output_type": "pyout",
       "prompt_number": 7,
       "text": [
        "'Data~Destination+Origin+np.log(distance)'"
       ]
      }
     ],
     "prompt_number": 7
    },
    {
     "cell_type": "code",
     "collapsed": false,
     "input": [
      "results.results.params"
     ],
     "language": "python",
     "metadata": {},
     "outputs": [
      {
       "metadata": {},
       "output_type": "pyout",
       "prompt_number": 5,
       "text": [
        "Intercept              11.440688\n",
        "Destination[T.AT12]     1.148273\n",
        "Destination[T.AT13]     1.864296\n",
        "Destination[T.AT21]     0.118524\n",
        "Destination[T.AT22]     0.720114\n",
        "Destination[T.AT31]     0.794225\n",
        "Destination[T.AT32]     0.118424\n",
        "Destination[T.AT33]     0.557933\n",
        "Destination[T.AT34]     0.059753\n",
        "Origin[T.AT12]          1.170041\n",
        "Origin[T.AT13]          2.093312\n",
        "Origin[T.AT21]          0.636324\n",
        "Origin[T.AT22]          1.021971\n",
        "Origin[T.AT31]          1.352547\n",
        "Origin[T.AT32]          0.664832\n",
        "Origin[T.AT33]          1.039042\n",
        "Origin[T.AT34]          0.580780\n",
        "np.log(Dij)            -1.264083\n",
        "dtype: float64"
       ]
      }
     ],
     "prompt_number": 5
    },
    {
     "cell_type": "code",
     "collapsed": false,
     "input": [
      "np.sum(results.data.Data)"
     ],
     "language": "python",
     "metadata": {},
     "outputs": [
      {
       "metadata": {},
       "output_type": "pyout",
       "prompt_number": 9,
       "text": [
        "1800430"
       ]
      }
     ],
     "prompt_number": 9
    },
    {
     "cell_type": "code",
     "collapsed": false,
     "input": [
      "np.sum(results.results.fittedvalues)"
     ],
     "language": "python",
     "metadata": {},
     "outputs": [
      {
       "metadata": {},
       "output_type": "pyout",
       "prompt_number": 25,
       "text": [
        "1800430.0000000135"
       ]
      }
     ],
     "prompt_number": 25
    },
    {
     "cell_type": "code",
     "collapsed": false,
     "input": [
      "results.results.bse"
     ],
     "language": "python",
     "metadata": {},
     "outputs": [
      {
       "metadata": {},
       "output_type": "pyout",
       "prompt_number": 6,
       "text": [
        "Intercept              0.042327\n",
        "Destination[T.AT12]    0.016105\n",
        "Destination[T.AT13]    0.016481\n",
        "Destination[T.AT21]    0.021254\n",
        "Destination[T.AT22]    0.017896\n",
        "Destination[T.AT31]    0.018123\n",
        "Destination[T.AT32]    0.020435\n",
        "Destination[T.AT33]    0.021928\n",
        "Destination[T.AT34]    0.027655\n",
        "Origin[T.AT12]         0.018137\n",
        "Origin[T.AT13]         0.018054\n",
        "Origin[T.AT21]         0.021673\n",
        "Origin[T.AT22]         0.019438\n",
        "Origin[T.AT31]         0.018876\n",
        "Origin[T.AT32]         0.020958\n",
        "Origin[T.AT33]         0.022841\n",
        "Origin[T.AT34]         0.027652\n",
        "np.log(Dij)            0.007429\n",
        "dtype: float64"
       ]
      }
     ],
     "prompt_number": 6
    },
    {
     "cell_type": "code",
     "collapsed": false,
     "input": [],
     "language": "python",
     "metadata": {},
     "outputs": []
    }
   ],
   "metadata": {}
  }
 ]
}