{
 "metadata": {
  "name": ""
 },
 "nbformat": 3,
 "nbformat_minor": 0,
 "worksheets": [
  {
   "cells": [
    {
     "cell_type": "code",
     "collapsed": false,
     "input": [
      "import pandas as pd\n",
      "import numpy as np\n",
      "import statsmodels.formula.api as smf\n",
      "import statsmodels.api as sm\n",
      "from scipy.stats.stats import pearsonr\n",
      "from scipy.optimize import newton\n",
      "from scipy.optimize import minimize\n",
      "import math\n",
      "import patsy\n",
      "import time\n",
      "import sympy as sp\n",
      "import numdifftools as ndt\n",
      "\n",
      "data= pd.DataFrame(pd.read_csv('http://dl.dropbox.com/u/8649795/AT_Austria.csv'))\n",
      "#data= pd.DataFrame(pd.read_csv('C:\\Users\\Taylor\\Documents\\SI_Data_Dunfermline.csv'))\n",
      "data = data[data[\"Origin\"] != data[\"Destination\"]]\n",
      "data = data.reset_index(level = 0, drop = True)\n",
      "\n"
     ],
     "language": "python",
     "metadata": {},
     "outputs": [],
     "prompt_number": 1
    },
    {
     "cell_type": "code",
     "collapsed": false,
     "input": [
      "#This function will need to establish all the elements of the model\n",
      "#Step 1: Function to Calculate Sum of all Products of observed flows and log distances for unique pairs\n",
      "def setup(data):\n",
      "    #Observed will always be the sum of the data itself multiplied by the log the attributes for which parameters are being estimated\n",
      "    observed = np.sum(data[\"Data\"]*np.log(data[\"Dij\"]*data[\"Oi\"]*data[\"Dj\"])) \n",
      "    #Initial parameter values - closer guesses will be more efficient\n",
      "    data[\"beta\"] = .001\n",
      "    data[\"mu\"] = 1\n",
      "    data[\"sigma\"] = 1\n",
      "    #Initial balancing factor estimates - always the same\n",
      "    data[\"Bj\"] = 1.0\n",
      "    data[\"Ai\"] = 1.0\n",
      "    data[\"OldAi\"] = 10.0000000000\n",
      "    data[\"OldBj\"] = 10.000000000\n",
      "    data[\"diff\"] = abs((data[\"OldAi\"] - data[\"Ai\"])/data[\"OldAi\"])\n",
      "    return observed, data\n",
      "\n",
      "#Check to make sure these equations are correct and they will need to build dynamically    \n",
      "#Step 2: Function to Calculate Ai values\n",
      "def calcAi(data):\n",
      "    data[\"Ai\"] = data[\"Bj\"]*(data[\"Dj\"]**data[\"sigma\"])*np.exp(data[\"Dij\"]*data[\"beta\"])\n",
      "\n",
      "#Step 3: Function to Calculate Bj values\n",
      "def calcBj(data):\n",
      "    data[\"Bj\"] = data[\"Ai\"]*(data[\"Oi\"]**data[\"mu\"])*np.exp(data[\"Dij\"]*data[\"beta\"])\n",
      "    \n",
      "\n",
      "#Labels need to be dynamic such as \"Origin\"\n",
      "#Step 4: Function to check if Ai and Bj have stabilised, if not return to step 2\n",
      "def balanceFactors(data):\n",
      "    its = 0\n",
      "    cnvg = 1\n",
      "\n",
      "    while cnvg > .0001:\n",
      "        its = its + 1\n",
      "        calcAi(data)\n",
      "        AiBF = (data.groupby(\"Origin\").aggregate({\"Ai\": np.sum}))\n",
      "        AiBF[\"Ai\"] = 1/AiBF[\"Ai\"]\n",
      "        updates = AiBF.ix[pd.match(data[\"Origin\"], AiBF.index), \"Ai\"]\n",
      "        data[\"Ai\"] = updates.reset_index(level=0, drop=True) if(updates.notnull().any()) else data[\"Ai\"]\n",
      "        if its == 1:\n",
      "            data[\"OldAi\"] = data[\"Ai\"]\n",
      "        else:\n",
      "            data[\"diff\"] = abs((data[\"OldAi\"] - data[\"Ai\"])/data[\"OldAi\"])\n",
      "            data[\"OldAi\"] = data[\"Ai\"]\n",
      "        \n",
      "        calcBj(data)\n",
      "        BjBF = data.groupby(\"Destination\").aggregate({\"Bj\": np.sum})\n",
      "        BjBF[\"Bj\"] = 1/BjBF[\"Bj\"]    \n",
      "        updates = BjBF.ix[pd.match(data[\"Destination\"], BjBF.index), \"Bj\"]\n",
      "        data[\"Bj\"] = updates.reset_index(level=0, drop=True) if(updates.notnull().any()) else data[\"Bj\"]\n",
      "        if its == 1:\n",
      "            data[\"OldBj\"] = data[\"Bj\"]\n",
      "        else:\n",
      "            data[\"diff\"] = abs((data[\"OldBj\"] - data[\"Bj\"])/data[\"OldBj\"])\n",
      "            data[\"OldBj\"] = data[\"Bj\"]\n",
      "        cnvg = np.sum(data[\"diff\"])\n",
      "        #print its, cnvg, data.beta.ix[0]\n",
      "    return data\n",
      "\n",
      "#Equation for calculating estimates will need to be build dynamically\n",
      "#Step 5: Function to Calculate Tij' (flow estimates)\n",
      "def estimateFlows(data):\n",
      "    data[\"SIM_Estimates\"] = (data[\"Oi\"]**data[\"mu\"])*data[\"Ai\"]*(data[\"Dj\"]**data[\"sigma\"])*data[\"Bj\"]*np.exp(data[\"Dij\"]*data[\"beta\"])\n",
      "    return data\n",
      "\n",
      "#Equation for estimating terms in the overal constraint will need to be built dynamically\n",
      "#Step 6: Function to Calculate Sum of all products of Tij' and log distances\n",
      "def estimateCum(data):\n",
      "    return np.sum(data[\"SIM_Estimates\"]*np.log(data[\"Dij\"]*data[\"Oi\"]*data[\"Dj\"]))\n",
      "   \n",
      "#Function to compute the Jacobian matrix of parameter values\n",
      "def Jac(initParams, data):\n",
      "    #N by 1 array of functions representing the constraints which need to be met to obtain parameters\n",
      "    functionBk = np.array([computef1(initParams, data), computef2(initParams, data), computef3(initParams, data)])\n",
      "    \n",
      "    #Three N by 1 arrays of Jacobian terms which are stacked into an N by N Matrix (jac)\n",
      "    f1Jac = ndt.Jacobian(lambda x: np.sum((data.Oi**x[1])*data.Ai*data.Bj*(data.Dj**x[2])*np.exp(data.Dij*x[0])*np.log(data.Dij))- (np.sum(data.Data*np.log(data.Dij))))\n",
      "    f2Jac = ndt.Jacobian(lambda x: np.sum((data.Oi**x[1])*data.Ai*data.Bj*(data.Dj**x[2])*np.exp(data.Dij*x[0])*np.log(data.Oi))- (np.sum(data.Data*np.log(data.Oi))))\n",
      "    f3Jac = ndt.Jacobian(lambda x: np.sum((data.Oi**x[1])*data.Ai*data.Bj*(data.Dj**x[2])*np.exp(data.Dij*x[0])*np.log(data.Dj))- (np.sum(data.Data*np.log(data.Dj))))\n",
      "    f1 = f1Jac(initParams).flatten() \n",
      "    f2 = f2Jac(initParams).flatten()\n",
      "    f3 = f3Jac(initParams).flatten()\n",
      "    jac = np.array([f1,f2,f3])\n",
      "    \n",
      "    #N by 1 array of current parameter values\n",
      "    Bk = np.array([initParams[0], initParams[1], initParams[2]])\n",
      "\n",
      "    #Get new parameter estimates by subtracting from the original estimates the inverse of the product of the jacobian matrix and array of constraints\n",
      "    print Bk, jac, functionBk\n",
      "    return Bk - np.dot(np.linalg.inv(jac),functionBk)\n",
      "   \n",
      "\n",
      "#Commputes the value of one    \n",
      "def computef1(x, data):\n",
      "    return (np.sum((data.Oi**x[1])*data.Ai*data.Bj*(data.Dj**x[2])*np.exp(data.Dij*x[0])*np.log(data.Dij))- (np.sum(data.Data*np.log(data.Dij))))\n",
      "    \n",
      "def computef2(x, data):\n",
      "    return (np.sum((data.Oi**x[1])*data.Ai*data.Bj*(data.Dj**x[2])*np.exp(data.Dij*x[0])*np.log(data.Oi))- (np.sum(data.Data*np.log(data.Oi))))\n",
      "\n",
      "def computef3(x, data):\n",
      "    return (np.sum((data.Oi**x[1])*data.Ai*data.Bj*(data.Dj**x[2])*np.exp(data.Dij*x[0])*np.log(data.Dj))- (np.sum(data.Data*np.log(data.Dj))))\n",
      "\n",
      "'''\n",
      "def standErrors(params, data):\n",
      "    logLike = np.sum(data[\"Data\"] * np.log((data[\"SIM_Estimates\"]/np.sum(data[\"SIM_Estimates\"]))))\n",
      "    \n",
      "def altSig(params, data):\n",
      "    for each param in params:\n",
      "        logLike = np.sum(data[\"Data\"] * np.log((data[\"SIM_Estimates\"]/np.sum(data[\"SIM_Estimates\"]))))\n",
      "        sig = 2 * np.sum(data[\"Data\"]) * ()\n",
      "        '''"
     ],
     "language": "python",
     "metadata": {},
     "outputs": [
      {
       "metadata": {},
       "output_type": "pyout",
       "prompt_number": 2,
       "text": [
        "'\\ndef standErrors(params, data):\\n    logLike = np.sum(data[\"Data\"] * np.log((data[\"SIM_Estimates\"]/np.sum(data[\"SIM_Estimates\"]))))\\n    \\ndef altSig(params, data):\\n    for each param in params:\\n        logLike = np.sum(data[\"Data\"] * np.log((data[\"SIM_Estimates\"]/np.sum(data[\"SIM_Estimates\"]))))\\n        sig = 2 * np.sum(data[\"Data\"]) * ()\\n        '"
       ]
      }
     ],
     "prompt_number": 2
    },
    {
     "cell_type": "code",
     "collapsed": false,
     "input": [
      "def dConstrain(data):\n",
      "    its = 0\n",
      "    observed, data = setup(data)\n",
      "    data = balanceFactors(data)\n",
      "    data = estimateFlows(data)\n",
      "    estimates = estimateCum(data)\n",
      "    print abs(estimates-observed)\n",
      "    while abs(estimates - observed) > .0001:\n",
      "        #print abs(estimates-observed)\n",
      "        jac =  Jac([data[\"beta\"].ix[0],data[\"mu\"].ix[0],data[\"sigma\"].ix[0]], data)\n",
      "        data[\"beta\"], data[\"mu\"], data[\"sigma\"] = jac[0], jac[1], jac[2]\n",
      "        #data[\"beta\"] = newton(function, data[\"beta\"].ix[0], args=(data.Data, data.Dij, data.Oi, data.Ai, data.Dj, data.Bj))\n",
      "        data = balanceFactors(data)\n",
      "        data = estimateFlows(data)\n",
      "        estimates = estimateCum(data)\n",
      "        its += 1\n",
      "\n",
      "    print \"After \" + str(its) + \" runs, beta is : \" + str(data[\"beta\"].ix[0])\n",
      "    return data\n"
     ],
     "language": "python",
     "metadata": {},
     "outputs": [],
     "prompt_number": 3
    },
    {
     "cell_type": "code",
     "collapsed": false,
     "input": [
      "\n",
      "t0 = time.time()\n",
      "data = dConstrain(data)\n",
      "t1 = time.time()\n",
      "print t1-t0\n"
     ],
     "language": "python",
     "metadata": {},
     "outputs": [
      {
       "output_type": "stream",
       "stream": "stdout",
       "text": [
        "25521.9303352\n",
        "[ 0.001  1.     1.   ]"
       ]
      },
      {
       "output_type": "stream",
       "stream": "stdout",
       "text": [
        " [[  7.78414651e+07   4.11754876e+06   4.13540142e+06]\n",
        " [  1.36369733e+08   8.15809219e+06   8.12975804e+06]\n",
        " [  1.37048569e+08   8.12975804e+06   8.23309388e+06]] [  2.55219401e+04  -9.75464727e-03   3.49245965e-10]\n",
        "[-0.00192302  1.02334647  1.02560337]"
       ]
      },
      {
       "output_type": "stream",
       "stream": "stdout",
       "text": [
        " [[  9.03305520e+07   5.16648774e+06   5.19195052e+06]\n",
        " [  1.60282755e+08   1.04451055e+07   1.04236011e+07]\n",
        " [  1.61307376e+08   1.04236011e+07   1.05507911e+07]] [ 135952.79396124  237706.10927637  239233.05049052]\n",
        "[-0.00359141  1.02455466  1.02724267]"
       ]
      },
      {
       "output_type": "stream",
       "stream": "stdout",
       "text": [
        " [[  8.66023088e+07   5.19430721e+06   5.22389651e+06]\n",
        " [  1.54905088e+08   1.05998825e+07   1.05898909e+07]\n",
        " [  1.56133441e+08   1.05898909e+07   1.07198152e+07]] [ 139261.30305241  254377.99779741  256667.1426844 ]\n",
        "[-0.0049419   1.02509713  1.02243339]"
       ]
      },
      {
       "output_type": "stream",
       "stream": "stdout",
       "text": [
        " [[  7.83462589e+07   4.91804369e+06   4.94514020e+06]\n",
        " [  1.41389702e+08   1.01210679e+07   1.01139764e+07]\n",
        " [  1.42514167e+08   1.01139764e+07   1.02315065e+07]] [ 110148.82012892  204491.34486801  206295.92380173]\n",
        "[-0.00604494  1.02509928  1.01763262]"
       ]
      },
      {
       "output_type": "stream",
       "stream": "stdout",
       "text": [
        " [[  7.13558470e+07   4.66418392e+06   4.68814328e+06]\n",
        " [  1.29875693e+08   9.66746276e+06   9.66085604e+06]\n",
        " [  1.30857852e+08   9.66085604e+06   9.76636707e+06]] [  83298.4922587   157094.4755708   158302.03176127]\n",
        "[-0.00689695  1.02388317  1.0140427 ]"
       ]
      },
      {
       "output_type": "stream",
       "stream": "stdout",
       "text": [
        " [[  6.64222961e+07   4.48282483e+06   4.50435681e+06]\n",
        " [  1.21748968e+08   9.34242712e+06   9.33573028e+06]\n",
        " [  1.22617298e+08   9.33573028e+06   9.43249337e+06]] [  64088.18779035  123095.47179541  123844.37665121]\n",
        "[-0.00751726  1.02115137  1.01168053]"
       ]
      },
      {
       "output_type": "stream",
       "stream": "stdout",
       "text": [
        " [[  6.32271891e+07   4.36627407e+06   4.38642387e+06]\n",
        " [  1.16488767e+08   9.13406921e+06   9.12762023e+06]\n",
        " [  1.17289779e+08   9.12762023e+06   9.21908938e+06]] [  51754.60522883  101327.53717961  101816.24363925]\n",
        "[-0.00795156  1.01739961  1.00987646]"
       ]
      },
      {
       "output_type": "stream",
       "stream": "stdout",
       "text": [
        " [[  6.10341028e+07   4.28067202e+06   4.30014879e+06]\n",
        " [  1.12838198e+08   8.97689331e+06   8.97105056e+06]\n",
        " [  1.13604716e+08   8.97105056e+06   9.05938085e+06]] [ 42728.62371213  84967.55131508  85328.79366656]\n",
        "[-0.00825221  1.01345411  1.00813478]"
       ]
      },
      {
       "output_type": "stream",
       "stream": "stdout",
       "text": [
        " [[  5.93126489e+07   4.20276248e+06   4.22186626e+06]\n",
        " [  1.09903932e+08   8.82685541e+06   8.82169789e+06]\n",
        " [  1.10651111e+08   8.82169789e+06   8.90783610e+06]] [ 34539.18279081  69394.22607416  69682.58773089]\n",
        "[-0.00846136  1.00993943  1.00639091]"
       ]
      },
      {
       "output_type": "stream",
       "stream": "stdout",
       "text": [
        " [[  5.78689214e+07   4.12847130e+06   4.14728281e+06]\n",
        " [  1.07388019e+08   8.67891592e+06   8.67432185e+06]\n",
        " [  1.08121013e+08   8.67432185e+06   8.75865514e+06]] [ 26738.01539671  54049.62870673  54278.9376679 ]\n",
        "[-0.00860779  1.00712252  1.00479104]"
       ]
      },
      {
       "output_type": "stream",
       "stream": "stdout",
       "text": [
        " [[  5.66840245e+07   4.06257318e+06   4.08111864e+06]\n",
        " [  1.05293711e+08   8.54540094e+06   8.54119892e+06]\n",
        " [  1.06014625e+08   8.54119892e+06   8.62400407e+06]] [ 19818.18659892  40199.33043558  40374.2736888 ]\n",
        "[-0.00871037  1.00500854  1.00346416]"
       ]
      },
      {
       "output_type": "stream",
       "stream": "stdout",
       "text": [
        " [[  5.57631973e+07   4.00916818e+06   4.02748353e+06]\n",
        " [  1.03653310e+08   8.43628061e+06   8.43233208e+06]\n",
        " [  1.04364136e+08   8.43233208e+06   8.51390896e+06]] [ 14208.92325849  28876.538561    29004.43922698]\n",
        "[-0.00878192  1.00348254  1.00244592]"
       ]
      },
      {
       "output_type": "stream",
       "stream": "stdout",
       "text": [
        " [[  5.50828538e+07   3.96883252e+06   3.98696562e+06]\n",
        " [  1.02436253e+08   8.35352033e+06   8.34973383e+06]\n",
        " [  1.03139208e+08   8.34973383e+06   8.43038232e+06]] [  9971.48246188  20287.13198074  20377.84010894]\n",
        "[-0.00883151  1.00240482  1.0017028 ]"
       ]
      },
      {
       "output_type": "stream",
       "stream": "stdout",
       "text": [
        " [[  5.45974388e+07   3.93971425e+06   3.95771227e+06]\n",
        " [  1.01565957e+08   8.29364767e+06   8.28996657e+06]\n",
        " [  1.02263112e+08   8.28996657e+06   8.36994423e+06]] [  6912.06702486  14072.32755129  14135.51139627]\n",
        "[-0.00886567  1.001653    1.00117591]"
       ]
      },
      {
       "output_type": "stream",
       "stream": "stdout",
       "text": [
        " [[  5.42580978e+07   3.91922229e+06   3.93712406e+06]\n",
        " [  1.00956775e+08   8.25146163e+06   8.24785054e+06]\n",
        " [  1.01649806e+08   8.24785054e+06   8.32735632e+06]] [ 4758.84465577  9693.08367619  9736.67514464]\n",
        "[-0.00888908  1.00113243  1.0008081 ]"
       ]
      },
      {
       "output_type": "stream",
       "stream": "stdout",
       "text": [
        " [[  5.40234251e+07   3.90499109e+06   3.92282568e+06]\n",
        " [  1.00535145e+08   8.22214200e+06   8.21857803e+06]\n",
        " [  1.01225302e+08   8.21857803e+06   8.29775652e+06]] [ 3263.423907    6649.36091903  6679.28418664]\n",
        "[-0.00890509  1.00077386  1.00055353]"
       ]
      },
      {
       "output_type": "stream",
       "stream": "stdout",
       "text": [
        " [[  5.38620571e+07   3.89517641e+06   3.91296458e+06]\n",
        " [  1.00245052e+08   8.20191056e+06   8.19837849e+06]\n",
        " [  1.00933223e+08   8.19837849e+06   8.27733158e+06]] [ 2232.07243317  4549.05537429  4569.53605558]\n",
        "[-0.008916    1.00052782  1.00037826]"
       ]
      },
      {
       "output_type": "stream",
       "stream": "stdout",
       "text": [
        " [[  5.37514660e+07   3.88843552e+06   3.90619178e+06]\n",
        " [  1.00046155e+08   8.18800976e+06   8.18449933e+06]\n",
        " [  1.00732963e+08   8.18449933e+06   8.26329779e+06]] [ 1523.71521994  3105.94053128  3119.9301405 ]\n",
        "[-0.00892343  1.00035952  1.00025801]"
       ]
      },
      {
       "output_type": "stream",
       "stream": "stdout",
       "text": [
        " [[  5.36758509e+07   3.88381923e+06   3.90155362e+06]\n",
        " [  9.99101195e+07   8.17848744e+06   8.17499168e+06]\n",
        " [  1.00595993e+08   8.17499168e+06   8.25368434e+06]] [ 1038.61388901  2117.36980112  2126.91079262]\n",
        "[-0.00892849  1.00024464  1.00017576]"
       ]
      },
      {
       "output_type": "stream",
       "stream": "stdout",
       "text": [
        " [[  5.36242439e+07   3.88066506e+06   3.89838449e+06]\n",
        " [  9.98172548e+07   8.17197979e+06   8.16849398e+06]\n",
        " [  1.00502490e+08   8.16849398e+06   8.24711439e+06]] [  707.15686072  1441.76504709  1448.26412579]\n",
        "[-0.00893193  1.00016636  1.00011961]"
       ]
      },
      {
       "output_type": "stream",
       "stream": "stdout",
       "text": [
        " [[  5.35890727e+07   3.87851375e+06   3.89622297e+06]\n",
        " [  9.97539559e+07   8.16754059e+06   8.16406153e+06]\n",
        " [  1.00438755e+08   8.16406153e+06   8.24263266e+06]] [ 481.08414283  980.8979786   985.32087388]\n",
        "[-0.00893427  1.00011308  1.00008134]"
       ]
      },
      {
       "output_type": "stream",
       "stream": "stdout",
       "text": [
        " [[  5.35651289e+07   3.87704841e+06   3.89475068e+06]\n",
        " [  9.97108590e+07   8.16451660e+06   8.16104211e+06]\n",
        " [  1.00395361e+08   8.16104211e+06   8.23957969e+06]] [ 327.09707512  666.95316046  669.96109566]\n",
        "[-0.00893586  1.00007684  1.00005529]"
       ]
      },
      {
       "output_type": "stream",
       "stream": "stdout",
       "text": [
        " [[  5.35488414e+07   3.87605128e+06   3.89374881e+06]\n",
        " [  9.96815407e+07   8.16245871e+06   8.15898733e+06]\n",
        " [  1.00365841e+08   8.15898733e+06   8.23750208e+06]] [ 222.31196485  453.30654766  455.35123311]\n",
        "[-0.00893694  1.0000522   1.00003757]"
       ]
      },
      {
       "output_type": "stream",
       "stream": "stdout",
       "text": [
        " [[  5.35377681e+07   3.87537320e+06   3.89306752e+06]\n",
        " [  9.96616073e+07   8.16105923e+06   8.15758996e+06]\n",
        " [  1.00345770e+08   8.15758996e+06   8.23608919e+06]] [ 151.05539339  308.01534987  309.40481366]\n",
        "[-0.00893768  1.00003546  1.00002553]"
       ]
      },
      {
       "output_type": "stream",
       "stream": "stdout",
       "text": [
        " [[  5.35302425e+07   3.87491230e+06   3.89260443e+06]\n",
        " [  9.96480597e+07   8.16010796e+06   8.15664012e+06]\n",
        " [  1.00332129e+08   8.15664012e+06   8.23512879e+06]] [ 102.62072374  209.25501517  210.19902611]\n",
        "[-0.00893817  1.00002409  1.00001734]"
       ]
      },
      {
       "output_type": "stream",
       "stream": "stdout",
       "text": [
        " [[  5.35251291e+07   3.87459911e+06   3.89228974e+06]\n",
        " [  9.96388547e+07   8.15946153e+06   8.15599466e+06]\n",
        " [  1.00322861e+08   8.15599466e+06   8.23447617e+06]] [  69.70829102  142.14395844  142.78523712]\n",
        "[-0.00893851  1.00001636  1.00001178]"
       ]
      },
      {
       "output_type": "stream",
       "stream": "stdout",
       "text": [
        " [[  5.35216554e+07   3.87438633e+06   3.89207595e+06]\n",
        " [  9.96326012e+07   8.15902235e+06   8.15555614e+06]\n",
        " [  1.00316564e+08   8.15555614e+06   8.23403278e+06]] [ 47.34789334  96.54877917  96.98436796]\n",
        "[-0.00893874  1.00001111  1.000008  ]"
       ]
      },
      {
       "output_type": "stream",
       "stream": "stdout",
       "text": [
        " [[  5.35192959e+07   3.87424179e+06   3.89193073e+06]\n",
        " [  9.96283533e+07   8.15872401e+06   8.15525825e+06]\n",
        " [  1.00312287e+08   8.15525825e+06   8.23373158e+06]] [ 32.15840234  65.57556794  65.87142354]\n",
        "[-0.0089389   1.00000755  1.00000543]"
       ]
      },
      {
       "output_type": "stream",
       "stream": "stdout",
       "text": [
        " [[  5.35176932e+07   3.87414361e+06   3.89183208e+06]\n",
        " [  9.96254680e+07   8.15852137e+06   8.15505591e+06]\n",
        " [  1.00309382e+08   8.15505591e+06   8.23352699e+06]] [ 21.84102342  44.53706387  44.73800308]\n",
        "[-0.008939    1.00000513  1.00000369]"
       ]
      },
      {
       "output_type": "stream",
       "stream": "stdout",
       "text": [
        " [[  5.35166047e+07   3.87407693e+06   3.89176508e+06]\n",
        " [  9.96235084e+07   8.15838373e+06   8.15491848e+06]\n",
        " [  1.00307409e+08   8.15491848e+06   8.23338803e+06]] [ 14.83341172  30.24755884  30.38402884]\n",
        "[-0.00893908  1.00000348  1.00000251]"
       ]
      },
      {
       "output_type": "stream",
       "stream": "stdout",
       "text": [
        " [[  5.35158654e+07   3.87403164e+06   3.89171957e+06]\n",
        " [  9.96221774e+07   8.15829025e+06   8.15482514e+06]\n",
        " [  1.00306068e+08   8.15482514e+06   8.23329365e+06]] [ 10.07400056  20.54242509  20.63510831]\n",
        "[-0.00893913  1.00000236  1.0000017 ]"
       ]
      },
      {
       "output_type": "stream",
       "stream": "stdout",
       "text": [
        " [[  5.35153633e+07   3.87400088e+06   3.89168867e+06]\n",
        " [  9.96212735e+07   8.15822676e+06   8.15476174e+06]\n",
        " [  1.00305158e+08   8.15476174e+06   8.23322955e+06]] [  6.8416053   13.95108774  14.01403245]\n",
        "[-0.00893916  1.00000161  1.00000116]"
       ]
      },
      {
       "output_type": "stream",
       "stream": "stdout",
       "text": [
        " [[  5.35150223e+07   3.87397999e+06   3.89166768e+06]\n",
        " [  9.96206597e+07   8.15818364e+06   8.15471869e+06]\n",
        " [  1.00304540e+08   8.15471869e+06   8.23318602e+06]] [ 4.64633739  9.47460274  9.51735051]\n",
        "[-0.00893918  1.00000109  1.00000079]"
       ]
      },
      {
       "output_type": "stream",
       "stream": "stdout",
       "text": [
        " [[  5.35147907e+07   3.87396580e+06   3.89165342e+06]\n",
        " [  9.96202427e+07   8.15815436e+06   8.15468945e+06]\n",
        " [  1.00304120e+08   8.15468945e+06   8.23315646e+06]] [ 3.15544935  6.43445287  6.46348405]\n",
        "[-0.0089392   1.00000074  1.00000053]"
       ]
      },
      {
       "output_type": "stream",
       "stream": "stdout",
       "text": [
        " [[  5.35146334e+07   3.87395617e+06   3.89164374e+06]\n",
        " [  9.96199596e+07   8.15813447e+06   8.15466959e+06]\n",
        " [  1.00303835e+08   8.15466959e+06   8.23313638e+06]] [ 2.14294075  4.36979105  4.38950684]\n",
        "[-0.00893921  1.0000005   1.00000036]"
       ]
      },
      {
       "output_type": "stream",
       "stream": "stdout",
       "text": [
        " [[  5.35145266e+07   3.87394962e+06   3.89163717e+06]\n",
        " [  9.96197673e+07   8.15812096e+06   8.15465611e+06]\n",
        " [  1.00303642e+08   8.15465611e+06   8.23312274e+06]] [ 1.4553186   2.9676225   2.98101195]\n",
        "[-0.00893921  1.00000034  1.00000025]"
       ]
      },
      {
       "output_type": "stream",
       "stream": "stdout",
       "text": [
        " [[  5.35144541e+07   3.87394518e+06   3.89163270e+06]\n",
        " [  9.96196367e+07   8.15811179e+06   8.15464695e+06]\n",
        " [  1.00303510e+08   8.15464695e+06   8.23311348e+06]] [ 0.98833758  2.01537528  2.02446834]\n",
        "[-0.00893922  1.00000023  1.00000017]"
       ]
      },
      {
       "output_type": "stream",
       "stream": "stdout",
       "text": [
        " [[  5.35144048e+07   3.87394216e+06   3.89162967e+06]\n",
        " [  9.96195481e+07   8.15810556e+06   8.15464073e+06]\n",
        " [  1.00303421e+08   8.15464073e+06   8.23310719e+06]] [ 0.67120012  1.36868238  1.37485767]\n",
        "[-0.00893922  1.00000016  1.00000011]"
       ]
      },
      {
       "output_type": "stream",
       "stream": "stdout",
       "text": [
        " [[  5.35143714e+07   3.87394011e+06   3.89162761e+06]\n",
        " [  9.96194878e+07   8.15810133e+06   8.15463650e+06]\n",
        " [  1.00303360e+08   8.15463650e+06   8.23310292e+06]] [ 0.45582535  0.92949947  0.93369323]\n",
        "[-0.00893922  1.00000011  1.00000008]"
       ]
      },
      {
       "output_type": "stream",
       "stream": "stdout",
       "text": [
        " [[  5.35143487e+07   3.87393872e+06   3.89162621e+06]\n",
        " [  9.96194469e+07   8.15809846e+06   8.15463364e+06]\n",
        " [  1.00303319e+08   8.15463364e+06   8.23310002e+06]] [ 0.30955988  0.63124122  0.63408929]\n",
        "[-0.00893923  1.00000007  1.00000005]"
       ]
      },
      {
       "output_type": "stream",
       "stream": "stdout",
       "text": [
        " [[  5.35143332e+07   3.87393777e+06   3.89162526e+06]\n",
        " [  9.96194192e+07   8.15809651e+06   8.15463169e+06]\n",
        " [  1.00303291e+08   8.15463169e+06   8.23309805e+06]] [ 0.21022803  0.42868798  0.43062216]\n",
        "[-0.00893923  1.00000005  1.00000004]"
       ]
      },
      {
       "output_type": "stream",
       "stream": "stdout",
       "text": [
        " [[  5.35143227e+07   3.87393713e+06   3.89162462e+06]\n",
        " [  9.96194003e+07   8.15809518e+06   8.15463036e+06]\n",
        " [  1.00303272e+08   8.15463036e+06   8.23309672e+06]] [ 0.14276989  0.29113024  0.29244378]\n",
        "[-0.00893923  1.00000003  1.00000002]"
       ]
      },
      {
       "output_type": "stream",
       "stream": "stdout",
       "text": [
        " [[  5.35143156e+07   3.87393670e+06   3.89162418e+06]\n",
        " [  9.96193875e+07   8.15809428e+06   8.15462947e+06]\n",
        " [  1.00303259e+08   8.15462947e+06   8.23309581e+06]] [ 0.09695774  0.19771208  0.19860413]\n",
        "[-0.00893923  1.00000002  1.00000002]"
       ]
      },
      {
       "output_type": "stream",
       "stream": "stdout",
       "text": [
        " [[  5.35143108e+07   3.87393640e+06   3.89162388e+06]\n",
        " [  9.96193788e+07   8.15809367e+06   8.15462886e+06]\n",
        " [  1.00303250e+08   8.15462886e+06   8.23309519e+06]] [ 0.06584583  0.13427     0.13487581]\n",
        "[-0.00893923  1.00000002  1.00000001]"
       ]
      },
      {
       "output_type": "stream",
       "stream": "stdout",
       "text": [
        " [[  5.35143075e+07   3.87393620e+06   3.89162368e+06]\n",
        " [  9.96193729e+07   8.15809326e+06   8.15462844e+06]\n",
        " [  1.00303244e+08   8.15462844e+06   8.23309477e+06]] [ 0.04471717  0.09118534  0.09159675]\n",
        "[-0.00893923  1.00000001  1.00000001]"
       ]
      },
      {
       "output_type": "stream",
       "stream": "stdout",
       "text": [
        " [[  5.35143053e+07   3.87393606e+06   3.89162354e+06]\n",
        " [  9.96193689e+07   8.15809298e+06   8.15462816e+06]\n",
        " [  1.00303240e+08   8.15462816e+06   8.23309449e+06]] [ 0.03036824  0.06192561  0.06220501]\n",
        "[-0.00893923  1.00000001  1.00000001]"
       ]
      },
      {
       "output_type": "stream",
       "stream": "stdout",
       "text": [
        " [[  5.35143038e+07   3.87393597e+06   3.89162345e+06]\n",
        " [  9.96193661e+07   8.15809278e+06   8.15462797e+06]\n",
        " [  1.00303238e+08   8.15462797e+06   8.23309429e+06]] [ 0.02062365  0.04205486  0.04224461]\n",
        "[-0.00893923  1.          1.        ]"
       ]
      },
      {
       "output_type": "stream",
       "stream": "stdout",
       "text": [
        " [[  5.35143027e+07   3.87393591e+06   3.89162339e+06]\n",
        " [  9.96193643e+07   8.15809265e+06   8.15462784e+06]\n",
        " [  1.00303236e+08   8.15462784e+06   8.23309416e+06]] [ 0.01400591  0.02856026  0.02868911]\n",
        "[-0.00893923  1.          1.        ]"
       ]
      },
      {
       "output_type": "stream",
       "stream": "stdout",
       "text": [
        " [[  5.35143020e+07   3.87393586e+06   3.89162335e+06]\n",
        " [  9.96193630e+07   8.15809257e+06   8.15462775e+06]\n",
        " [  1.00303235e+08   8.15462775e+06   8.23309407e+06]] [ 0.00951172  0.0193959   0.01948341]\n",
        "[-0.00893923  1.          1.        ]"
       ]
      },
      {
       "output_type": "stream",
       "stream": "stdout",
       "text": [
        " [[  5.35143016e+07   3.87393583e+06   3.89162332e+06]\n",
        " [  9.96193622e+07   8.15809251e+06   8.15462769e+06]\n",
        " [  1.00303234e+08   8.15462769e+06   8.23309401e+06]] [ 0.00645956  0.01317205  0.01323148]\n",
        "[-0.00893923  1.          1.        ]"
       ]
      },
      {
       "output_type": "stream",
       "stream": "stdout",
       "text": [
        " [[  5.35143013e+07   3.87393582e+06   3.89162330e+06]\n",
        " [  9.96193616e+07   8.15809246e+06   8.15462765e+06]\n",
        " [  1.00303233e+08   8.15462765e+06   8.23309397e+06]] [ 0.00438681  0.0089454   0.00898576]\n",
        "[-0.00893923  1.          1.        ]"
       ]
      },
      {
       "output_type": "stream",
       "stream": "stdout",
       "text": [
        " [[  5.35143010e+07   3.87393580e+06   3.89162328e+06]\n",
        " [  9.96193612e+07   8.15809244e+06   8.15462762e+06]\n",
        " [  1.00303233e+08   8.15462762e+06   8.23309394e+06]] [ 0.00297918  0.00607501  0.00610242]\n",
        "[-0.00893923  1.          1.        ]"
       ]
      },
      {
       "output_type": "stream",
       "stream": "stdout",
       "text": [
        " [[  5.35143009e+07   3.87393579e+06   3.89162327e+06]\n",
        " [  9.96193609e+07   8.15809242e+06   8.15462760e+06]\n",
        " [  1.00303232e+08   8.15462760e+06   8.23309392e+06]] [ 0.00202319  0.00412561  0.00414422]\n",
        "[-0.00893923  1.          1.        ]"
       ]
      },
      {
       "output_type": "stream",
       "stream": "stdout",
       "text": [
        " [[  5.35143008e+07   3.87393579e+06   3.89162327e+06]\n",
        " [  9.96193608e+07   8.15809241e+06   8.15462759e+06]\n",
        " [  1.00303232e+08   8.15462759e+06   8.23309391e+06]] [ 0.00137401  0.00280182  0.00281446]\n",
        "[-0.00893923  1.          1.        ]"
       ]
      },
      {
       "output_type": "stream",
       "stream": "stdout",
       "text": [
        " [[  5.35143007e+07   3.87393578e+06   3.89162326e+06]\n",
        " [  9.96193606e+07   8.15809240e+06   8.15462758e+06]\n",
        " [  1.00303232e+08   8.15462758e+06   8.23309390e+06]] [ 0.0009331   0.00190274  0.00191133]\n",
        "[-0.00893923  1.          1.        ]"
       ]
      },
      {
       "output_type": "stream",
       "stream": "stdout",
       "text": [
        " [[  5.35143007e+07   3.87393578e+06   3.89162326e+06]\n",
        " [  9.96193605e+07   8.15809239e+06   8.15462758e+06]\n",
        " [  1.00303232e+08   8.15462758e+06   8.23309390e+06]] [ 0.00063368  0.00129217  0.001298  ]\n",
        "[-0.00893923  1.          1.        ]"
       ]
      },
      {
       "output_type": "stream",
       "stream": "stdout",
       "text": [
        " [[  5.35143006e+07   3.87393578e+06   3.89162326e+06]\n",
        " [  9.96193605e+07   8.15809239e+06   8.15462757e+06]\n",
        " [  1.00303232e+08   8.15462757e+06   8.23309389e+06]] [ 0.00043036  0.00087758  0.00088154]\n",
        "[-0.00893923  1.          1.        ]"
       ]
      },
      {
       "output_type": "stream",
       "stream": "stdout",
       "text": [
        " [[  5.35143006e+07   3.87393578e+06   3.89162326e+06]\n",
        " [  9.96193605e+07   8.15809238e+06   8.15462757e+06]\n",
        " [  1.00303232e+08   8.15462757e+06   8.23309389e+06]] [ 0.00029227  0.00059599  0.00059868]\n",
        "[-0.00893923  1.          1.        ]"
       ]
      },
      {
       "output_type": "stream",
       "stream": "stdout",
       "text": [
        " [[  5.35143006e+07   3.87393578e+06   3.89162326e+06]\n",
        " [  9.96193604e+07   8.15809238e+06   8.15462757e+06]\n",
        " [  1.00303232e+08   8.15462757e+06   8.23309389e+06]] [ 0.00019846  0.00040469  0.00040651]\n",
        "[-0.00893923  1.          1.        ]"
       ]
      },
      {
       "output_type": "stream",
       "stream": "stdout",
       "text": [
        " [[  5.35143006e+07   3.87393577e+06   3.89162326e+06]\n",
        " [  9.96193604e+07   8.15809238e+06   8.15462757e+06]\n",
        " [  1.00303232e+08   8.15462757e+06   8.23309389e+06]] [ 0.00013478  0.00027484  0.00027608]\n",
        "[-0.00893923  1.          1.        ]"
       ]
      },
      {
       "output_type": "stream",
       "stream": "stdout",
       "text": [
        " [[  5.35143006e+07   3.87393577e+06   3.89162326e+06]\n",
        " [  9.96193604e+07   8.15809238e+06   8.15462757e+06]\n",
        " [  1.00303232e+08   8.15462757e+06   8.23309389e+06]] [  9.15049459e-05   1.86591526e-04   1.87432626e-04]\n",
        "[-0.00893923  1.          1.        ]"
       ]
      },
      {
       "output_type": "stream",
       "stream": "stdout",
       "text": [
        " [[  5.35143006e+07   3.87393577e+06   3.89162325e+06]\n",
        " [  9.96193604e+07   8.15809238e+06   8.15462757e+06]\n",
        " [  1.00303232e+08   8.15462757e+06   8.23309389e+06]] [  6.21846411e-05   1.26805389e-04   1.27377454e-04]\n",
        "[-0.00893923  1.          1.        ]"
       ]
      },
      {
       "output_type": "stream",
       "stream": "stdout",
       "text": [
        " [[  5.35143006e+07   3.87393577e+06   3.89162325e+06]\n",
        " [  9.96193604e+07   8.15809238e+06   8.15462757e+06]\n",
        " [  1.00303232e+08   8.15462757e+06   8.23309388e+06]] [  4.22306475e-05   8.61156732e-05   8.65048496e-05]\n",
        "[-0.00893923  1.          1.        ]"
       ]
      },
      {
       "output_type": "stream",
       "stream": "stdout",
       "text": [
        " [[  5.35143006e+07   3.87393577e+06   3.89162325e+06]\n",
        " [  9.96193604e+07   8.15809238e+06   8.15462757e+06]\n",
        " [  1.00303232e+08   8.15462757e+06   8.23309388e+06]] [  2.86467257e-05   5.84140653e-05   5.86771639e-05]\n",
        "After 64 runs, beta is : -0.00893922891964\n",
        "18.0590000153\n"
       ]
      }
     ],
     "prompt_number": 4
    },
    {
     "cell_type": "code",
     "collapsed": false,
     "input": [
      "#data[\"SIM_Estimates\"] = data[\"Oi\"]*data[\"Ai\"]*data[\"Dj\"]*data[\"Bj\"]*np.exp(data[\"Dij\"]*-.9024551)\n",
      "\n",
      "cor = pearsonr(data[\"Data\"], (data[\"SIM_Estimates\"]))[0]\n",
      "print cor*cor\n"
     ],
     "language": "python",
     "metadata": {},
     "outputs": [
      {
       "output_type": "stream",
       "stream": "stdout",
       "text": [
        "0.976580709196\n"
       ]
      }
     ],
     "prompt_number": 6
    },
    {
     "cell_type": "code",
     "collapsed": false,
     "input": [],
     "language": "python",
     "metadata": {},
     "outputs": [],
     "prompt_number": 5
    },
    {
     "cell_type": "code",
     "collapsed": false,
     "input": [],
     "language": "python",
     "metadata": {},
     "outputs": []
    }
   ],
   "metadata": {}
  }
 ]
}