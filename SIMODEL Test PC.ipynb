{
 "metadata": {
  "name": ""
 },
 "nbformat": 3,
 "nbformat_minor": 0,
 "worksheets": [
  {
   "cells": [
    {
     "cell_type": "code",
     "collapsed": false,
     "input": [
      "import pySI as SI\n",
      "import pandas as pd\n",
      "import numpy as np\n",
      "import time\n",
      "import sympy\n",
      "\n",
      "data = pd.DataFrame(pd.read_csv(\"C:\\\\Users\\\\Taylor\\\\Documents\\\\SIMODELTESTDATA2.csv\"))\n",
      "data[['Origin', 'Destination']] = data[['Origin', 'Destination']].astype(str)\n",
      "\n"
     ],
     "language": "python",
     "metadata": {},
     "outputs": [],
     "prompt_number": 1
    },
    {
     "cell_type": "code",
     "collapsed": false,
     "input": [
      "t0 = time.time()\n",
      "\n",
      "model = SI.calibrate(data=data, trips='Data', sep='Dij', cost='invpow', factors={'destinations':['Pop']}, constraints={'production':'Origin'})\n",
      "\n",
      "results = model.mle(initialParams={'beta':0, 'Pop':1})\n",
      "\n",
      "\n",
      "#results = model.regression()\n",
      "\n",
      "t1 = time.time()\n",
      "print t1-t0\n"
     ],
     "language": "python",
     "metadata": {},
     "outputs": [
      {
       "output_type": "stream",
       "stream": "stdout",
       "text": [
        "Model selected: prodConstrained\n",
        "5304259.37551 5217731.2682\n",
        "[-0.73650985  0.7818262 ] 86528.1073082\n",
        "3.1781"
       ]
      },
      {
       "output_type": "stream",
       "stream": "stdout",
       "text": [
        "\n",
        "3.0063\n",
        "2.8736\n",
        "0.1718\n",
        "0.3045\n",
        "0.1327\n",
        "0.5642\n",
        "1.39664e-06\n",
        "2.55421e-06\n",
        "66.7614\n",
        "After 1 runs, beta is : -0.7365098\n",
        "\n",
        "Model type:  prodConstrained\n",
        "With 1 origins and 24 destinations.\n",
        "\n",
        "The observed mean trip length:  736\n",
        "The predicted mean trip length:  734.409742048\n",
        "\n",
        "Maximum Likelihood beta parameter:  -0.7365098\n",
        "\n",
        "Maximum Likelihood Pop parameter:  0.7818262\n",
        "\n",
        "After  1 iterations of the calibration routine with a cost/distance function of:  invpow\n",
        "\n",
        "The number of origin-destination pairs considered =  24\n",
        "\n",
        "The total interactions observed:  242873\n",
        "The total interactions predicted:  242873.0\n",
        "\n",
        "The Asymmetry Index for this interaction data:  N/A\n",
        "\n",
        "Regressing the observed interactions on the predicted interactions yields and r-squared value of:  0.60516003721\n",
        "\n",
        "T statistic for regression: still needs to be computed\n",
        "\n",
        "Percentage deviation of observed interaction from the mean:  57.9653083436\n",
        "\n",
        "Percentage deviation of observed interaction from the observed interaction:  42.1892969412\n",
        "\n",
        "Percentage reduction in deviation:  37.3933972503\n",
        "\n",
        "Ayeni S Information Statistic (psi) =  0.0617061961253\n",
        "\n",
        "Minimum Discriminant Information Statistic: still needs to be computed\n",
        "\n",
        "The standardied root mean square error statistic:  0.578732067181\n",
        "\n",
        "The maximum entropy for  24  cases:  3.1781\n",
        "The entropy of the predicted interactions:  3.0063\n",
        "The entropy of the observed interactions:  2.8736\n",
        "\n",
        "Maximum entropy - entropy of predicted interactions:  0.1718\n",
        "\n",
        "Entropy of predicted interactions - entropy of observed interactions:  0.1327\n",
        "\n",
        "Entropy ratio statistic:  0.5642\n",
        "\n",
        "Variance of the entropy of predicted interactions:  1.39664e-06\n",
        "\n",
        "Variance of the entropy of observed interactions:  2.55421e-06\n",
        "\n",
        "T statistic for the absolute entropy difference:  66.7614\n",
        "\n",
        "Information gain statistic:  0.132705733873\n",
        "\n",
        "Average distance traveled in system:  736\n",
        "Average origin-destination separation:  851\n",
        "\n",
        "Standard error of the  beta  parameter:  0.00976711781963\n",
        "\n",
        "Standard error of the  Pop  parameter:  0.00329957153598\n",
        "\n",
        "\n",
        "0.0709998607635\n"
       ]
      }
     ],
     "prompt_number": 2
    },
    {
     "cell_type": "code",
     "collapsed": false,
     "input": [
      "results.data.SIM_Estimates \n"
     ],
     "language": "python",
     "metadata": {},
     "outputs": [
      {
       "metadata": {},
       "output_type": "pyout",
       "prompt_number": 5,
       "text": [
        "0      9476.392542\n",
        "1      9635.388792\n",
        "2     23858.440054\n",
        "3      9312.645548\n",
        "4      9662.197958\n",
        "5      9078.839175\n",
        "6      3675.500078\n",
        "7     16637.255910\n",
        "8      8052.685102\n",
        "9      5729.371261\n",
        "10    10110.366683\n",
        "11     6983.064042\n",
        "12     6305.009789\n",
        "13     6515.203610\n",
        "14     6949.595875\n",
        "15    30924.735537\n",
        "16    16384.904730\n",
        "17     2480.702271\n",
        "18    11373.424818\n",
        "19    12127.726224\n",
        "20     4621.080700\n",
        "21     2652.653897\n",
        "22     7364.305981\n",
        "23    12961.509424\n",
        "Name: SIM_Estimates, dtype: float64"
       ]
      }
     ],
     "prompt_number": 5
    },
    {
     "cell_type": "code",
     "collapsed": false,
     "input": [
      "results.results.params"
     ],
     "language": "python",
     "metadata": {},
     "outputs": [
      {
       "metadata": {},
       "output_type": "pyout",
       "prompt_number": 5,
       "text": [
        "Intercept      12.942757\n",
        "Pop             0.000000\n",
        "np.log(Dij)    -0.672587\n",
        "dtype: float64"
       ]
      }
     ],
     "prompt_number": 5
    },
    {
     "cell_type": "code",
     "collapsed": false,
     "input": [
      "results.results.bse"
     ],
     "language": "python",
     "metadata": {},
     "outputs": [
      {
       "metadata": {},
       "output_type": "pyout",
       "prompt_number": 6,
       "text": [
        "Intercept      3.248360e-02\n",
        "Pop            5.296053e-10\n",
        "np.log(Dij)    5.078882e-03\n",
        "dtype: float64"
       ]
      }
     ],
     "prompt_number": 6
    },
    {
     "cell_type": "code",
     "collapsed": false,
     "input": [],
     "language": "python",
     "metadata": {},
     "outputs": []
    }
   ],
   "metadata": {}
  }
 ]
}