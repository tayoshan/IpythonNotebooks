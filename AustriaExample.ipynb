{
 "metadata": {
  "name": ""
 },
 "nbformat": 3,
 "nbformat_minor": 0,
 "worksheets": [
  {
   "cells": [
    {
     "cell_type": "code",
     "collapsed": false,
     "input": [
      "import pySI as SI\n",
      "import pandas as pd\n",
      "import numpy as np\n",
      "import itertools as it\n",
      "\n"
     ],
     "language": "python",
     "metadata": {},
     "outputs": [],
     "prompt_number": 1
    },
    {
     "cell_type": "code",
     "collapsed": false,
     "input": [
      "data= pd.DataFrame(pd.read_csv('http://dl.dropbox.com/u/8649795/AT_Austria.csv'))\n",
      "\n",
      "O = 'Origin'\n",
      "D = 'Destination'\n",
      "T = 'Data'\n",
      "S = 'Dij'\n",
      "C = 'exp'\n",
      "#F = {}\n",
      "CS = {'production':'Origin', 'attraction':'Destination'}\n",
      "\n",
      "model = SI.calibrate(data=data, origins=O, destinations=D, trips=T, sep=S, cost=C, constraints=CS)\n",
      "\n",
      "#regressionResults = model.regression()\n",
      "\t\n",
      "mleResults = model.mle(initialParams={'beta':0})\n",
      "\n",
      "predictionModel = SI.simulate(data=data, origins=O, destinations=D, trips=T, sep=S, cost=C, constraints=CS)\n",
      "\n",
      "nodes = ['AT11']\n",
      "setParams={'beta':0}\n",
      "setFactors={'Data':[('Destinations','AT11',50), ('Origins','AT11',5)]}\n",
      "\n",
      "predictionModel.entropy(removeNode=nodes, setParams=setParams, setFactors=setFactors)"
     ],
     "language": "python",
     "metadata": {},
     "outputs": [
      {
<<<<<<< HEAD
       "output_type": "stream",
       "stream": "stdout",
       "text": [
        "14353978.5642 11109295.7467\n",
        "After 4 runs, beta is : -0.00791533316185"
       ]
      },
      {
       "output_type": "stream",
       "stream": "stdout",
       "text": [
        "\n",
        "1\n",
        "a\n",
        "pairs: 72\n",
        "b\n",
        "c\n",
        "d\n",
        "2\n",
        "r-squared 0.974862065765\n",
        "\n",
        "\n",
        "Model type: dConstrained\n",
        "With 9 origins and 9 destinations.\n",
        "\n",
        "After 4 iterations of the calibration routine,\n",
        "With a cost/distance function of: exp\n",
        "\n",
        "The number of origin-destination pairs considered = 72\n",
        "\n",
        "System Descriptive Statistics\n",
        "+-------------------------------+---------------+\n",
        "| Statistic                     | Value         |\n",
        "+-------------------------------+---------------+\n",
        "| Observed Mean Trip Length     | 124.022280175 |\n",
        "| Predicted Mean Trip Length    | 124.022280173 |\n",
        "| # of Origin-Destination Pairs | 72            |\n",
        "| Total Observed Interaction    | 89575         |\n",
        "| Total Predicted Interaction   | 89575.0       |\n",
        "| Asymmetry Index               | N/A           |\n",
        "+-------------------------------+---------------+\n",
        "\n",
        "Parameter Estimates and Associated Statistics\n",
        "+--------------------------------+-------------------+\n",
        "| Statistic                      | Value             |\n",
        "+--------------------------------+-------------------+\n",
        "| beta Parameter Estimate        | -0.0079153        |\n",
        "| Standard Error of beta         | 5.04706024975e-05 |\n",
        "| Log-Likelihood with All Params | -3.34932623186    |\n",
        "| Log-Likelihood without beta    | -3.49874037101    |\n",
        "| Lambda LL Statistic for beta   | 26767.5430288     |\n",
        "+--------------------------------+-------------------+\n",
        "\n",
        "Goodness-of-fit Statistics\n",
        "+---------------------------------------------+-----------------+\n",
        "| Statistic                                   | Value           |\n",
        "+---------------------------------------------+-----------------+\n",
        "| R-Squared                                   | 0.974862065765  |\n",
        "| T-Statistic of R-Squared                    | Not computed    |\n",
        "| % Deviation of Observed from Mean           | 96.454          |\n",
        "| % Deviation of Predicted from Observed      | 23.094          |\n",
        "| % Reductin in Deviation                     | 76.0569805296   |\n",
        "| Ayeni S Information Statistic (PSI)         | 0.0257486630677 |\n",
        "| Minimum Discriminant Information Stat       | 4612.87298858   |\n",
        "| SRMSE Statistic                             | 0.379286183507  |\n",
        "| Max Entropy for 72 Cases                    | 4.2767          |\n",
        "| The Entropy of Predicted Data               | 3.3493          |\n",
        "| The Entropy of Observed Data                | 3.2971          |\n",
        "| Max Entropy - Predicted Data Entropy        | 0.9274          |\n",
        "| Entropy of Predicted - Entropy of Observed  | 0.0522          |\n",
        "| Entropy Ratio Statistic                     | 0.9467          |\n",
        "| Variance of Entropy of Predicted Data       | 2.156306e-05    |\n",
        "| Variance of Entropy of Observed Data        | 2.320811e-05    |\n",
        "| T-Statistic for Absolute Entropy Difference | 7.8014          |\n",
        "| Information Gain Statistic                  | 0.0522494138232 |\n",
        "| Rho-Squared Statistic                       | 0.0423460047525 |\n",
        "| Adjusted Rho-Squared Statistic              | 0.0288579203124 |\n",
        "| Likelihood Value of Mean Model              | -4.27666611902  |\n",
        "+---------------------------------------------+-----------------+\n"
       ]
      },
      {
       "output_type": "stream",
       "stream": "stderr",
       "text": [
        "C:\\Python27\\lib\\site-packages\\scipy\\optimize\\minpack.py:236: RuntimeWarning: The iteration is not making good progress, as measured by the \n",
        "  improvement from the last ten iterations.\n",
        "  warnings.warn(msg, RuntimeWarning)\n"
       ]
      }
     ],
     "prompt_number": 2
    },
    {
     "cell_type": "code",
     "collapsed": false,
     "input": [
      "mleResults.status\n"
     ],
     "language": "python",
     "metadata": {},
     "outputs": [
=======
<<<<<<< HEAD
       "ename": "AttributeError",
       "evalue": "simulate instance has no attribute 'data'",
       "output_type": "pyerr",
       "traceback": [
        "\u001b[1;31m---------------------------------------------------------------------------\u001b[0m\n\u001b[1;31mAttributeError\u001b[0m                            Traceback (most recent call last)",
        "\u001b[1;32m<ipython-input-3-6e0217b0f307>\u001b[0m in \u001b[0;36m<module>\u001b[1;34m()\u001b[0m\n\u001b[0;32m     15\u001b[0m \u001b[0mmleResults\u001b[0m \u001b[1;33m=\u001b[0m \u001b[0mmodel\u001b[0m\u001b[1;33m.\u001b[0m\u001b[0mmle\u001b[0m\u001b[1;33m(\u001b[0m\u001b[0minitialParams\u001b[0m\u001b[1;33m=\u001b[0m\u001b[1;33m{\u001b[0m\u001b[1;34m'beta'\u001b[0m\u001b[1;33m:\u001b[0m\u001b[1;36m0\u001b[0m\u001b[1;33m}\u001b[0m\u001b[1;33m)\u001b[0m\u001b[1;33m\u001b[0m\u001b[0m\n\u001b[0;32m     16\u001b[0m \u001b[1;33m\u001b[0m\u001b[0m\n\u001b[1;32m---> 17\u001b[1;33m \u001b[0mpredictionModel\u001b[0m \u001b[1;33m=\u001b[0m \u001b[0mSI\u001b[0m\u001b[1;33m.\u001b[0m\u001b[0msimulate\u001b[0m\u001b[1;33m(\u001b[0m\u001b[0mdata\u001b[0m\u001b[1;33m=\u001b[0m\u001b[0mdata\u001b[0m\u001b[1;33m,\u001b[0m \u001b[0morigins\u001b[0m\u001b[1;33m=\u001b[0m\u001b[0mO\u001b[0m\u001b[1;33m,\u001b[0m \u001b[0mdestinations\u001b[0m\u001b[1;33m=\u001b[0m\u001b[0mD\u001b[0m\u001b[1;33m,\u001b[0m \u001b[0mtrips\u001b[0m\u001b[1;33m=\u001b[0m\u001b[0mT\u001b[0m\u001b[1;33m,\u001b[0m \u001b[0msep\u001b[0m\u001b[1;33m=\u001b[0m\u001b[0mS\u001b[0m\u001b[1;33m,\u001b[0m \u001b[0mcost\u001b[0m\u001b[1;33m=\u001b[0m\u001b[0mC\u001b[0m\u001b[1;33m,\u001b[0m \u001b[0mconstraints\u001b[0m\u001b[1;33m=\u001b[0m\u001b[0mCS\u001b[0m\u001b[1;33m)\u001b[0m\u001b[1;33m\u001b[0m\u001b[0m\n\u001b[0m\u001b[0;32m     18\u001b[0m \u001b[1;33m\u001b[0m\u001b[0m\n\u001b[0;32m     19\u001b[0m \u001b[0mnodes\u001b[0m \u001b[1;33m=\u001b[0m \u001b[1;33m[\u001b[0m\u001b[1;34m'AT11'\u001b[0m\u001b[1;33m]\u001b[0m\u001b[1;33m\u001b[0m\u001b[0m\n",
        "\u001b[1;32mC:\\Ipython Notebooks\\IpythonNotebooks\\pySI.pyc\u001b[0m in \u001b[0;36m__init__\u001b[1;34m(self, calibratedModel, **inputs)\u001b[0m\n\u001b[0;32m    146\u001b[0m         \u001b[0mself\u001b[0m\u001b[1;33m.\u001b[0m\u001b[0mcalibratedModel\u001b[0m \u001b[1;33m=\u001b[0m \u001b[0mcalibratedModel\u001b[0m\u001b[1;33m\u001b[0m\u001b[0m\n\u001b[0;32m    147\u001b[0m         \u001b[0mself\u001b[0m\u001b[1;33m.\u001b[0m\u001b[0minputs\u001b[0m \u001b[1;33m=\u001b[0m \u001b[0minputs\u001b[0m\u001b[1;33m\u001b[0m\u001b[0m\n\u001b[1;32m--> 148\u001b[1;33m         \u001b[0mself\u001b[0m\u001b[1;33m.\u001b[0m\u001b[0misCalibrated\u001b[0m\u001b[1;33m(\u001b[0m\u001b[1;33m)\u001b[0m\u001b[1;33m\u001b[0m\u001b[0m\n\u001b[0m\u001b[0;32m    149\u001b[0m \u001b[1;33m\u001b[0m\u001b[0m\n\u001b[0;32m    150\u001b[0m     \u001b[1;32mdef\u001b[0m \u001b[0mentropy\u001b[0m\u001b[1;33m(\u001b[0m\u001b[0mself\u001b[0m\u001b[1;33m,\u001b[0m \u001b[0mremoveNode\u001b[0m\u001b[1;33m=\u001b[0m\u001b[1;33m[\u001b[0m\u001b[1;33m]\u001b[0m\u001b[1;33m,\u001b[0m \u001b[0msetParams\u001b[0m\u001b[1;33m=\u001b[0m\u001b[1;33m{\u001b[0m\u001b[1;33m}\u001b[0m\u001b[1;33m,\u001b[0m \u001b[0msetFactors\u001b[0m\u001b[1;33m=\u001b[0m\u001b[1;33m{\u001b[0m\u001b[1;33m}\u001b[0m\u001b[1;33m)\u001b[0m\u001b[1;33m:\u001b[0m\u001b[1;33m\u001b[0m\u001b[0m\n",
        "\u001b[1;32mC:\\Ipython Notebooks\\IpythonNotebooks\\pySI.pyc\u001b[0m in \u001b[0;36misCalibrated\u001b[1;34m(self)\u001b[0m\n\u001b[0;32m    133\u001b[0m \u001b[1;33m\u001b[0m\u001b[0m\n\u001b[0;32m    134\u001b[0m         \u001b[1;32melse\u001b[0m\u001b[1;33m:\u001b[0m\u001b[1;33m\u001b[0m\u001b[0m\n\u001b[1;32m--> 135\u001b[1;33m                 \u001b[0mself\u001b[0m\u001b[1;33m.\u001b[0m\u001b[0mdata\u001b[0m\u001b[1;33m[\u001b[0m\u001b[1;34m\"Bj\"\u001b[0m\u001b[1;33m]\u001b[0m \u001b[1;33m=\u001b[0m \u001b[1;36m1.0\u001b[0m\u001b[1;33m\u001b[0m\u001b[0m\n\u001b[0m\u001b[0;32m    136\u001b[0m                 \u001b[0mself\u001b[0m\u001b[1;33m.\u001b[0m\u001b[0mdata\u001b[0m\u001b[1;33m[\u001b[0m\u001b[1;34m\"Ai\"\u001b[0m\u001b[1;33m]\u001b[0m \u001b[1;33m=\u001b[0m \u001b[1;36m1.0\u001b[0m\u001b[1;33m\u001b[0m\u001b[0m\n\u001b[0;32m    137\u001b[0m                 \u001b[0mself\u001b[0m\u001b[1;33m.\u001b[0m\u001b[0mdata\u001b[0m\u001b[1;33m[\u001b[0m\u001b[1;34m\"OldAi\"\u001b[0m\u001b[1;33m]\u001b[0m \u001b[1;33m=\u001b[0m \u001b[1;36m10.000000000\u001b[0m\u001b[1;33m\u001b[0m\u001b[0m\n",
        "\u001b[1;31mAttributeError\u001b[0m: simulate instance has no attribute 'data'"
       ]
      },
>>>>>>> origin/master
      {
       "output_type": "stream",
       "stream": "stdout",
       "text": [
        "After 4 runs, beta is : -0.00791533316185\n"
       ]
      }
     ],
     "prompt_number": 3
=======
       "output_type": "stream",
       "stream": "stdout",
       "text": [
        "Estimated values are equal to observed data flows. Ensure model type is not production/attraction constrained with only one origin/destination representing the total out/in flow\n"
       ]
      }
     ],
     "prompt_number": 8
>>>>>>> origin/master
    },
    {
     "cell_type": "code",
     "collapsed": false,
     "input": [
      "predictionModel.data.SIM_Estimates\n"
     ],
     "language": "python",
     "metadata": {},
     "outputs": [
      {
       "metadata": {},
       "output_type": "pyout",
       "prompt_number": 3,
       "text": [
        "0     5645.612898\n",
        "1     5756.414647\n",
        "2      928.624178\n",
        "3     1811.367714\n",
        "4     1857.018952\n",
        "5     1117.423016\n",
        "6      896.737132\n",
        "7      433.801462\n",
        "8     8214.554985\n",
        "9     8375.775223\n",
        "10    1351.179138\n",
        "11    2635.600413\n",
        "12    2702.024486\n",
        "13    1625.887742\n",
        "14    1304.782423\n",
        "...\n",
        "49    1327.467225\n",
        "50     214.146867\n",
        "51     417.713355\n",
        "52     428.240832\n",
        "53     257.685126\n",
        "54     206.793504\n",
        "55     100.037482\n",
        "56     658.302886\n",
        "57     671.222850\n",
        "58     108.281596\n",
        "59     211.213311\n",
        "60     216.536443\n",
        "61     130.296358\n",
        "62     104.563429\n",
        "63      50.583127\n",
        "Name: SIM_Estimates, Length: 64, dtype: float64"
       ]
      }
     ],
     "prompt_number": 3
    },
    {
     "cell_type": "code",
     "collapsed": false,
     "input": [],
     "language": "python",
     "metadata": {},
     "outputs": [],
     "prompt_number": 7
    },
    {
     "cell_type": "code",
     "collapsed": false,
     "input": [],
     "language": "python",
     "metadata": {},
     "outputs": [],
     "prompt_number": 7
    },
    {
     "cell_type": "code",
     "collapsed": false,
     "input": [],
     "language": "python",
     "metadata": {},
     "outputs": []
    }
   ],
   "metadata": {}
  }
 ]
}