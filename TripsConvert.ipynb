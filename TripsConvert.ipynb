{
 "metadata": {
  "name": ""
 },
 "nbformat": 3,
 "nbformat_minor": 0,
 "worksheets": [
  {
   "cells": [
    {
     "cell_type": "code",
     "collapsed": false,
     "input": [
      "import pandas as pd\n",
      "import numpy as np\n",
      "import statsmodels.formula.api as smf\n",
      "import statsmodels.api as sm\n",
      "from scipy.stats.stats import pearsonr\n",
      "import math\n",
      "import patsy\n",
      "\n",
      "#Load table of trips (Origin zone code, destination zone code)\n",
      "trips = pd.DataFrame(pd.read_csv('C:\\\\Users\\\\Taylor\\\\Documents\\\\Dunfermline_Trips_Home_to_All.csv'))\n",
      "\n",
      "\n",
      "#Load table with all codes and names for datazones in an area of interes (AOO))\n",
      "dZones = pd.DataFrame(pd.read_csv('C:\\Users\\Taylor\\Documents\\datazones_dunfermline.csv'))\n",
      "\n",
      "\n",
      "dists = pd.read_csv('C:\\\\Users\\\\Taylor\\\\Documents\\\\distance_datazones.csv')\n",
      "\n",
      "dists = pd.DataFrame(dists)\n"
     ],
     "language": "python",
     "metadata": {},
     "outputs": [],
     "prompt_number": 156
    },
    {
     "cell_type": "code",
     "collapsed": false,
     "input": [
      "\n",
      "#Match all trips origin and destination codes to their proper names - if there is no match then indicate that this trips is outside AOI and is an error\n",
      "origins, destinations = [], []\n",
      "for i, row in trips.T.iteritems():\n",
      "    if (len(dZones.DZ_NAME[dZones.DZ_CODE == trips.D_DZ[i]].values) != 1) | (len(dZones.DZ_NAME[dZones.DZ_CODE == trips.O_DZ[i]].values) != 1):\n",
      "        print \"Either Origin or Destination is outside of area of interest -- no matching code exists. Also possible that there is more than one match\"\n",
      "        origins.append(\"Outside AOI\")\n",
      "        destinations.append(\"Outside AOI\")\n",
      "    else:\n",
      "        #print dZones.DZ_NAME[dZones.DZ_CODE == trips.D_DZ[i]].values[0]\n",
      "        origins.append(dZones.DZ_NAME[dZones.DZ_CODE == trips.O_DZ[i]].values[0])\n",
      "        destinations.append(dZones.DZ_NAME[dZones.DZ_CODE == trips.D_DZ[i]].values[0])   \n",
      "\n",
      "#Add Origin and Destination Name fields to trips table       \n",
      "trips[\"Origin\"] = origins\n",
      "trips[\"Destination\"] = destinations   "
     ],
     "language": "python",
     "metadata": {},
     "outputs": [
      {
       "output_type": "stream",
       "stream": "stdout",
       "text": [
        "Either Origin or Destination is outside of area of interest -- no matching code exists. Also possible that there is more than one match\n"
       ]
      }
     ],
     "prompt_number": 157
    },
    {
     "cell_type": "code",
     "collapsed": false,
     "input": [
      "#Function to drop all trips with either origin or destination otuside the AOI\n",
      "for i, row in trips.T.iteritems():\n",
      "    if (trips[\"Origin\"].ix[i] == \"Outside AOI\") | (trips[\"Destination\"].ix[i] == \"Outside AOI\"):\n",
      "        trips = trips.drop(i)"
     ],
     "language": "python",
     "metadata": {},
     "outputs": [],
     "prompt_number": 158
    },
    {
     "cell_type": "code",
     "collapsed": false,
     "input": [
      "#Get all unique origins and destinations \n",
      "locations = list((set(list(trips.Origin) + list(trips.Destination))))\n",
      "\n"
     ],
     "language": "python",
     "metadata": {},
     "outputs": [],
     "prompt_number": 159
    },
    {
     "cell_type": "code",
     "collapsed": false,
     "input": [
      "#Tally trip counts between all possible combinations and make internal flows zero\n",
      "data = []\n",
      "\n",
      "\n",
      "for origin in locations:\n",
      "    for destination in locations:\n",
      "        if origin == destination:\n",
      "            data.append((origin, destination, 0))\n",
      "        else:\n",
      "            data.append((origin, destination, len(trips[(trips[\"Origin\"] == origin) & (trips[\"Destination\"] ==  destination)]) ))\n",
      "        \n",
      "        \n",
      "data = pd.DataFrame(data, columns = [\"Origin\", \"Destination\", \"Data\"])\n"
     ],
     "language": "python",
     "metadata": {},
     "outputs": [],
     "prompt_number": 160
    },
    {
     "cell_type": "code",
     "collapsed": false,
     "input": [
      "#Count the total inflow and outflow for origins and destinations respectively\n",
      "data[\"Oi\"] = np.nan\n",
      "data[\"Dj\"] = np.nan\n",
      "\n",
      "\n",
      "for i,row in data.T.iteritems():\n",
      "    if (sum(data[\"Data\"][data[\"Origin\"] == row[0]]) == 0) & (sum(data[\"Data\"][data[\"Destination\"] == row[1]]) == 0):\n",
      "        data = data.drop(i)\n",
      "    else:\n",
      "        data[\"Oi\"].ix[i] = sum(data[\"Data\"][data[\"Origin\"] == row[0]])\n",
      "        data[\"Dj\"].ix[i] = sum(data[\"Data\"][data[\"Destination\"] == row[1]])\n",
      "    \n",
      "print sum(data[\"Oi\"]), sum(data[\"Dj\"])"
     ],
     "language": "python",
     "metadata": {},
     "outputs": [
      {
       "output_type": "stream",
       "stream": "stdout",
       "text": [
        "20007.0 20007.0\n"
       ]
      }
     ],
     "prompt_number": 161
    },
    {
     "cell_type": "code",
     "collapsed": false,
     "input": [
      "data[\"Dij\"] = np.nan\n",
      "\n",
      "#Add the distances\n",
      "for i,row in data.T.iteritems():\n",
      "    if row[0] == row[1]:\n",
      "        data[\"Dij\"].ix[i] = 0\n",
      "    else:\n",
      "        data[\"Dij\"].ix[i] = dists.Distance[(dists.InputID == dZones.DZ_CODE[dZones.DZ_NAME == row[0]].values[0]) & (dists.TargetID == dZones.DZ_CODE[dZones.DZ_NAME == row[1]].values[0])].values[0]\n",
      "        "
     ],
     "language": "python",
     "metadata": {},
     "outputs": [],
     "prompt_number": 162
    },
    {
     "cell_type": "code",
     "collapsed": false,
     "input": [],
     "language": "python",
     "metadata": {},
     "outputs": [],
     "prompt_number": 162
    },
    {
     "cell_type": "code",
     "collapsed": false,
     "input": [
      "print sum(data.Data)"
     ],
     "language": "python",
     "metadata": {},
     "outputs": [
      {
       "output_type": "stream",
       "stream": "stdout",
       "text": [
        "351\n"
       ]
      }
     ],
     "prompt_number": 163
    },
    {
     "cell_type": "code",
     "collapsed": false,
     "input": [
      "Data = data[data[\"Origin\"] != data[\"Destination\"]]\n",
      "#Data[Data[\"Dij\"] < .00001] = 1e-300\n",
      "\n",
      "\n",
      "#Models using inverse power distance function\n",
      "unConstrained = smf.glm('Data~np.log(Dij)', data=Data, family=sm.families.Poisson(link=sm.families.links.log)).fit()\n",
      "originConstrained = smf.glm('Data~Origin+np.log(Dij)', data=Data, family=sm.families.Poisson(link=sm.families.links.log)).fit()\n",
      "destConstrained = smf.glm('Data~Destination+np.log(Dij)', data=Data, family=sm.families.Poisson(link=sm.families.links.log)).fit()\n",
      "doubleConstrained = smf.glm('Data~Origin+Destination+np.log(Dij)', data=Data, family=sm.families.Poisson(link=sm.families.links.log)).fit()\n",
      "\n",
      "print \"MODEL RESULTS USING INVERSE POWER DISTANCE FUNCTION\"\n",
      "\n",
      "cor = pearsonr(unConstrained.fittedvalues, Data[\"Data\"])[0]\n",
      "print \"R-squared for unconstrained model is: \" + str(cor*cor)\n",
      "\n",
      "\n",
      "cor = pearsonr(originConstrained.fittedvalues, Data[\"Data\"])[0]\n",
      "print \"R-squared for origin-constrained model is: \" + str(cor*cor)\n",
      "\n",
      "cor = pearsonr(destConstrained.fittedvalues, Data[\"Data\"])[0]\n",
      "print \"R-squared for destination-constrained model is: \" + str(cor*cor)\n",
      "\n",
      "cor = pearsonr(doubleConstrained.fittedvalues, Data[\"Data\"])[0]\n",
      "print \"R-squared for doubly-constrained model is: \" + str(cor*cor)\n",
      "\n",
      "\n",
      "#Models using negative exponential distance function\n",
      "unConstrained = smf.glm('Data~Dij', data=Data, family=sm.families.Poisson(link=sm.families.links.log)).fit()\n",
      "originConstrained = smf.glm('Data~Origin+Dij', data=Data, family=sm.families.Poisson(link=sm.families.links.log)).fit()\n",
      "destConstrained = smf.glm('Data~Destination+Dij', data=Data, family=sm.families.Poisson(link=sm.families.links.log)).fit(maxiter = 5000)\n",
      "doubleConstrained = smf.glm('Data~Origin+Destination+Dij', data=Data, family=sm.families.Poisson(link=sm.families.links.log)).fit(maxiter=5000)\n",
      "print \"MODEL RESULTS USING NEGATIVE EXPONENTIAL DISTANCE FUNCTION\"\n",
      "\n",
      "cor = pearsonr(unConstrained.fittedvalues, Data[\"Data\"])[0]\n",
      "print \"R-squared for unconstrained model is: \" + str(cor*cor)\n",
      "\n",
      "\n",
      "cor = pearsonr(originConstrained.fittedvalues, Data[\"Data\"])[0]\n",
      "print \"R-squared for origin-constrained model is: \" + str(cor*cor)\n",
      "\n",
      "\n",
      "cor = pearsonr(destConstrained.fittedvalues, Data[\"Data\"])[0]\n",
      "print \"R-squared for destination-constrained model is: \" + str(cor*cor)\n",
      "\n",
      "cor = pearsonr(doubleConstrained.fittedvalues, Data[\"Data\"])[0]\n",
      "print \"R-squared for doubly-constrained model is: \" + str(cor*cor)"
     ],
     "language": "python",
     "metadata": {},
     "outputs": [
      {
       "output_type": "stream",
       "stream": "stdout",
       "text": [
        "MODEL RESULTS USING INVERSE POWER DISTANCE FUNCTION\n",
        "R-squared for unconstrained model is: 0.0409215518126\n",
        "R-squared for origin-constrained model is: 0.214362334691\n",
        "R-squared for destination-constrained model is: 0.131974902457\n",
        "R-squared for doubly-constrained model is: 0.393013919876\n",
        "MODEL RESULTS USING NEGATIVE EXPONENTIAL DISTANCE FUNCTION"
       ]
      },
      {
       "output_type": "stream",
       "stream": "stdout",
       "text": [
        "\n",
        "R-squared for unconstrained model is: 0.0354903163966\n",
        "R-squared for origin-constrained model is: 0.193761967383\n",
        "R-squared for destination-constrained model is: 0.113679722307\n",
        "R-squared for doubly-constrained model is: 0.387205091307\n"
       ]
      }
     ],
     "prompt_number": 172
    },
    {
     "cell_type": "code",
     "collapsed": false,
     "input": [
      "unConstrained.params\n",
      "originConstrained.params\n",
      "destConstrained.params\n",
      "doubleConstrained.params"
     ],
     "language": "python",
     "metadata": {},
     "outputs": [
      {
       "metadata": {},
       "output_type": "pyout",
       "prompt_number": 176,
       "text": [
        "Intercept                                      0.266118\n",
        "Origin[T.Abbeyview East]                      -3.054746\n",
        "Origin[T.Abbeyview Linburn]                   -2.654827\n",
        "Origin[T.Abbeyview North]                     -1.555804\n",
        "Origin[T.Abbeyview South East]                -2.195679\n",
        "Origin[T.Abbeyview West]                      -3.241121\n",
        "Origin[T.Baldridgeburn North]                -10.604151\n",
        "Origin[T.Baldridgeburn South]                 -1.709533\n",
        "Origin[T.Bellyeoman North]                    -0.979795\n",
        "Origin[T.Bellyeoman South]                    -3.716623\n",
        "Origin[T.Bellyeoman South West]               -1.337188\n",
        "Origin[T.Berrylaw]                            -1.594093\n",
        "Origin[T.Beveridgewell East]                  -1.499315\n",
        "Origin[T.Beveridgewell West]                 -10.432327\n",
        "Origin[T.Beveridgewell Western & Parkneuk]   -10.145857\n",
        "...\n",
        "Destination[T.Pitcorthie North]                 1.322878\n",
        "Destination[T.Pitcorthie North East]           -0.414853\n",
        "Destination[T.Pitcorthie North West]           -0.526953\n",
        "Destination[T.Pitcorthie South]                -0.114966\n",
        "Destination[T.Pitcorthie South East]            2.345634\n",
        "Destination[T.Pitcorthie West]                  2.227545\n",
        "Destination[T.Pitreavie]                        1.414001\n",
        "Destination[T.Pittencrieff & Crossford East]   -7.159155\n",
        "Destination[T.Touch]                            1.923757\n",
        "Destination[T.Townhill & Moncur]                0.107935\n",
        "Destination[T.Transy]                           0.033779\n",
        "Destination[T.Woodmill North]                  -1.190616\n",
        "Destination[T.Woodmill South]                   1.271786\n",
        "Destination[T.Woodmill West]                   -0.523740\n",
        "Dij                                            -0.000986\n",
        "Length: 114, dtype: float64"
       ]
      }
     ],
     "prompt_number": 176
    },
    {
     "cell_type": "code",
     "collapsed": false,
     "input": [
      "ori"
     ],
     "language": "python",
     "metadata": {},
     "outputs": []
    }
   ],
   "metadata": {}
  }
 ]
}