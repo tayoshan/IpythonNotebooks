{
 "metadata": {
  "name": ""
 },
 "nbformat": 3,
 "nbformat_minor": 0,
 "worksheets": [
  {
   "cells": [
    {
     "cell_type": "code",
     "collapsed": false,
     "input": [
      "import pySI as SI\n",
      "import pandas as pd\n",
      "import numpy as np\n",
      "import time\n",
      "\n",
      "#data= pd.DataFrame(pd.read_csv('http://dl.dropbox.com/u/8649795/AT_Austria.csv'))\n",
      "data = pd.DataFrame(pd.read_csv(\"C:\\\\Users\\\\Taylor\\\\Documents\\\\SIMODELTESTDATA1.csv\"))\n",
      "data[['Origin', 'Destination']] = data[['Origin', 'Destination']].astype(str)\n"
     ],
     "language": "python",
     "metadata": {},
     "outputs": [],
     "prompt_number": 1
    },
    {
     "cell_type": "code",
     "collapsed": false,
     "input": [
      "t0 = time.time()\n",
      "\n",
      "model = SI.calibrate(data=data, trips='Data', sep='Dij', cost='negexp', constraints={'production':'Origin', 'attraction':'Destination'})\n",
      "\n",
      "#results = model.mle(initialParams={'beta':-.000825})\n",
      "results = model.regression()\n",
      "\n",
      "t1 = time.time()\n",
      "print t1-t0"
     ],
     "language": "python",
     "metadata": {},
     "outputs": [
      {
       "output_type": "stream",
       "stream": "stdout",
       "text": [
        "0.116999864578\n"
       ]
      }
     ],
     "prompt_number": 7
    },
    {
     "cell_type": "code",
     "collapsed": false,
     "input": [
      "results.results.rsquared"
     ],
     "language": "python",
     "metadata": {},
     "outputs": [
      {
       "metadata": {},
       "output_type": "pyout",
       "prompt_number": 8,
       "text": [
        "0.89682406681611448"
       ]
      }
     ],
     "prompt_number": 8
    },
    {
     "cell_type": "code",
     "collapsed": false,
     "input": [
      "results.results.params"
     ],
     "language": "python",
     "metadata": {},
     "outputs": [
      {
       "metadata": {},
       "output_type": "pyout",
       "prompt_number": 9,
       "text": [
        "Intercept           11.448836\n",
        "Destination[T.2]     0.637154\n",
        "Destination[T.3]     0.964032\n",
        "Destination[T.4]     0.225959\n",
        "Destination[T.5]     1.454816\n",
        "Destination[T.6]     0.030930\n",
        "Destination[T.7]     0.591884\n",
        "Destination[T.8]     0.537601\n",
        "Destination[T.9]     1.997514\n",
        "Origin[T.2]          0.996608\n",
        "Origin[T.3]          1.049487\n",
        "Origin[T.4]          0.361108\n",
        "Origin[T.5]          1.146618\n",
        "Origin[T.6]          0.114941\n",
        "Origin[T.7]          0.414284\n",
        "Origin[T.8]          0.267321\n",
        "Origin[T.9]          1.582179\n",
        "Dij                 -0.000737\n",
        "dtype: float64"
       ]
      }
     ],
     "prompt_number": 9
    },
    {
     "cell_type": "code",
     "collapsed": false,
     "input": [],
     "language": "python",
     "metadata": {},
     "outputs": []
    }
   ],
   "metadata": {}
  }
 ]
}