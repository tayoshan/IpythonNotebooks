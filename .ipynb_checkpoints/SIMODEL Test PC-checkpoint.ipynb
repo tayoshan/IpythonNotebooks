{
 "metadata": {
  "name": ""
 },
 "nbformat": 3,
 "nbformat_minor": 0,
 "worksheets": [
  {
   "cells": [
    {
     "cell_type": "code",
     "collapsed": false,
     "input": [
      "import pySI as SI\n",
      "import pandas as pd\n",
      "import numpy as np\n",
      "import time\n",
      "import sympy\n",
      "\n",
      "data = pd.DataFrame(pd.read_csv(\"C:\\\\Users\\\\Taylor\\\\Documents\\\\SIMODELTESTDATA2.csv\"))\n",
      "data[['Origin', 'Destination']] = data[['Origin', 'Destination']].astype(str)\n",
      "\n"
     ],
     "language": "python",
     "metadata": {},
     "outputs": [],
     "prompt_number": 2
    },
    {
     "cell_type": "code",
     "collapsed": false,
     "input": [
      "t0 = time.time()\n",
      "\n",
      "model = SI.calibrate(data=data, trips='Data', sep='Dij', cost='invpow', factors={'destinations':['Pop']}, constraints={'production':'Origin'})\n",
      "\n",
      "results = model.mle(initialParams={'beta':-.75, 'Pop':4})\n",
      "\n",
      "\n",
      "#results = model.regression()\n",
      "\n",
      "t1 = time.time()\n",
      "print t1-t0\n"
     ],
     "language": "python",
     "metadata": {},
     "outputs": [
      {
       "output_type": "stream",
       "stream": "stdout",
       "text": [
        "production constrained model chosen\n",
        "[-0.73650985  0.7818262 ]"
       ]
      },
      {
       "output_type": "stream",
       "stream": "stdout",
       "text": [
        " 0 121731.31037\n",
        "[-0.73650985  0.7818262 ] 1 121731.31037\n",
        "After 2 runs, beta is : -0.736509847672\n",
        "0.0920000076294\n"
       ]
      }
     ],
     "prompt_number": 4
    },
    {
     "cell_type": "code",
     "collapsed": false,
     "input": [
      "results.results.rsquared\n"
     ],
     "language": "python",
     "metadata": {},
     "outputs": [
      {
       "metadata": {},
       "output_type": "pyout",
       "prompt_number": 3,
       "text": [
        "0.60517103654756943"
       ]
      }
     ],
     "prompt_number": 3
    },
    {
     "cell_type": "code",
     "collapsed": false,
     "input": [],
     "language": "python",
     "metadata": {},
     "outputs": [],
     "prompt_number": 4
    },
    {
     "cell_type": "code",
     "collapsed": false,
     "input": [],
     "language": "python",
     "metadata": {},
     "outputs": []
    }
   ],
   "metadata": {}
  }
 ]
}