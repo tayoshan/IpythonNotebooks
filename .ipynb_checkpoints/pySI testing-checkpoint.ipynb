{
 "metadata": {
  "name": ""
 },
 "nbformat": 3,
 "nbformat_minor": 0,
 "worksheets": [
  {
   "cells": [
    {
     "cell_type": "code",
     "collapsed": false,
     "input": [
      "import pySI as SI\n",
      "import pandas as pd\n",
      "data= pd.DataFrame(pd.read_csv('http://dl.dropbox.com/u/8649795/AT_Austria.csv'))"
     ],
     "language": "python",
     "metadata": {},
     "outputs": [],
     "prompt_number": 2
    },
    {
     "cell_type": "code",
     "collapsed": false,
     "input": [
      "model = SI.calibrate(data, 'Data', 'Dij', cost='negexp', constraints={'production': data['Dj']}).regression()"
     ],
     "language": "python",
     "metadata": {},
     "outputs": [
      {
       "output_type": "stream",
       "stream": "stdout",
       "text": [
        "Data~Dj+Dij Data~Dij\n"
       ]
      }
     ],
     "prompt_number": 10
    },
    {
     "cell_type": "code",
     "collapsed": false,
     "input": [
      "model.results.summary()\n"
     ],
     "language": "python",
     "metadata": {},
     "outputs": [
      {
       "html": [
        "<table class=\"simpletable\">\n",
        "<caption>Generalized Linear Model Regression Results</caption>\n",
        "<tr>\n",
        "  <th>Dep. Variable:</th>        <td>Data</td>       <th>  No. Observations:  </th>  <td>    72</td> \n",
        "</tr>\n",
        "<tr>\n",
        "  <th>Model:</th>                 <td>GLM</td>       <th>  Df Residuals:      </th>  <td>    69</td> \n",
        "</tr>\n",
        "<tr>\n",
        "  <th>Model Family:</th>        <td>Poisson</td>     <th>  Df Model:          </th>  <td>     2</td> \n",
        "</tr>\n",
        "<tr>\n",
        "  <th>Link Function:</th>         <td>log</td>       <th>  Scale:             </th>    <td>1.0</td>  \n",
        "</tr>\n",
        "<tr>\n",
        "  <th>Method:</th>               <td>IRLS</td>       <th>  Log-Likelihood:    </th> <td> -24150.</td>\n",
        "</tr>\n",
        "<tr>\n",
        "  <th>Date:</th>           <td>Mon, 10 Mar 2014</td> <th>  Deviance:          </th> <td>  47719.</td>\n",
        "</tr>\n",
        "<tr>\n",
        "  <th>Time:</th>               <td>11:58:11</td>     <th>  Pearson chi2:      </th> <td>5.92e+04</td>\n",
        "</tr>\n",
        "<tr>\n",
        "  <th>No. Iterations:</th>         <td>8</td>        <th>                     </th>     <td> </td>   \n",
        "</tr>\n",
        "</table>\n",
        "<table class=\"simpletable\">\n",
        "<tr>\n",
        "      <td></td>         <th>coef</th>     <th>std err</th>      <th>t</th>      <th>P>|t|</th> <th>[95.0% Conf. Int.]</th> \n",
        "</tr>\n",
        "<tr>\n",
        "  <th>Intercept</th> <td>    7.8612</td> <td>    0.010</td> <td>  776.093</td> <td> 0.000</td> <td>    7.841     7.881</td>\n",
        "</tr>\n",
        "<tr>\n",
        "  <th>Dj</th>        <td> 6.844e-05</td> <td> 3.41e-07</td> <td>  200.444</td> <td> 0.000</td> <td> 6.78e-05  6.91e-05</td>\n",
        "</tr>\n",
        "<tr>\n",
        "  <th>Dij</th>       <td>   -0.0101</td> <td> 4.87e-05</td> <td> -208.563</td> <td> 0.000</td> <td>   -0.010    -0.010</td>\n",
        "</tr>\n",
        "</table>"
       ],
       "metadata": {},
       "output_type": "pyout",
       "prompt_number": 14,
       "text": [
        "<class 'statsmodels.iolib.summary.Summary'>\n",
        "\"\"\"\n",
        "                 Generalized Linear Model Regression Results                  \n",
        "==============================================================================\n",
        "Dep. Variable:                   Data   No. Observations:                   72\n",
        "Model:                            GLM   Df Residuals:                       69\n",
        "Model Family:                 Poisson   Df Model:                            2\n",
        "Link Function:                    log   Scale:                             1.0\n",
        "Method:                          IRLS   Log-Likelihood:                -24150.\n",
        "Date:                Mon, 10 Mar 2014   Deviance:                       47719.\n",
        "Time:                        11:58:11   Pearson chi2:                 5.92e+04\n",
        "No. Iterations:                     8                                         \n",
        "==============================================================================\n",
        "                 coef    std err          t      P>|t|      [95.0% Conf. Int.]\n",
        "------------------------------------------------------------------------------\n",
        "Intercept      7.8612      0.010    776.093      0.000         7.841     7.881\n",
        "Dj          6.844e-05   3.41e-07    200.444      0.000      6.78e-05  6.91e-05\n",
        "Dij           -0.0101   4.87e-05   -208.563      0.000        -0.010    -0.010\n",
        "==============================================================================\n",
        "\"\"\""
       ]
      }
     ],
     "prompt_number": 14
    },
    {
     "cell_type": "code",
     "collapsed": false,
     "input": [],
     "language": "python",
     "metadata": {},
     "outputs": [
      {
       "ename": "AttributeError",
       "evalue": "calibrate instance has no attribute 'model'",
       "output_type": "pyerr",
       "traceback": [
        "\u001b[1;31m---------------------------------------------------------------------------\u001b[0m\n\u001b[1;31mAttributeError\u001b[0m                            Traceback (most recent call last)",
        "\u001b[1;32m<ipython-input-7-9f72ac646d53>\u001b[0m in \u001b[0;36m<module>\u001b[1;34m()\u001b[0m\n\u001b[1;32m----> 1\u001b[1;33m \u001b[0mmodel\u001b[0m\u001b[1;33m.\u001b[0m\u001b[0mcheck\u001b[0m\u001b[1;33m(\u001b[0m\u001b[1;33m)\u001b[0m\u001b[1;33m\u001b[0m\u001b[0m\n\u001b[0m",
        "\u001b[1;32mC:\\Ipython Notebooks\\IpythonNotebooks\\pySI.pyc\u001b[0m in \u001b[0;36mcheck\u001b[1;34m(self)\u001b[0m\n\u001b[0;32m     52\u001b[0m \u001b[1;33m\u001b[0m\u001b[0m\n\u001b[0;32m     53\u001b[0m     \u001b[1;32mdef\u001b[0m \u001b[0mcheck\u001b[0m\u001b[1;33m(\u001b[0m\u001b[0mself\u001b[0m\u001b[1;33m)\u001b[0m\u001b[1;33m:\u001b[0m\u001b[1;33m\u001b[0m\u001b[0m\n\u001b[1;32m---> 54\u001b[1;33m         \u001b[1;32mreturn\u001b[0m \u001b[0mself\u001b[0m\u001b[1;33m.\u001b[0m\u001b[0mmethod\u001b[0m\u001b[1;33m,\u001b[0m \u001b[0mself\u001b[0m\u001b[1;33m.\u001b[0m\u001b[0mdata\u001b[0m\u001b[1;33m,\u001b[0m \u001b[0mself\u001b[0m\u001b[1;33m.\u001b[0m\u001b[0mcost\u001b[0m\u001b[1;33m,\u001b[0m \u001b[0mself\u001b[0m\u001b[1;33m.\u001b[0m\u001b[0mmodel\u001b[0m\u001b[1;33m\u001b[0m\u001b[0m\n\u001b[0m\u001b[0;32m     55\u001b[0m \u001b[1;33m\u001b[0m\u001b[0m\n\u001b[0;32m     56\u001b[0m \u001b[1;33m\u001b[0m\u001b[0m\n",
        "\u001b[1;31mAttributeError\u001b[0m: calibrate instance has no attribute 'model'"
       ]
      }
     ],
     "prompt_number": 7
    },
    {
     "cell_type": "code",
     "collapsed": false,
     "input": [
      "model"
     ],
     "language": "python",
     "metadata": {},
     "outputs": []
    },
    {
     "cell_type": "code",
     "collapsed": false,
     "input": [],
     "language": "python",
     "metadata": {},
     "outputs": []
    },
    {
     "cell_type": "code",
     "collapsed": false,
     "input": [],
     "language": "python",
     "metadata": {},
     "outputs": []
    }
   ],
   "metadata": {}
  }
 ]
}