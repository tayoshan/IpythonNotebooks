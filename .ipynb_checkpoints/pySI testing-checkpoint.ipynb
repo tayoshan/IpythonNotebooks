{
 "metadata": {
  "name": ""
 },
 "nbformat": 3,
 "nbformat_minor": 0,
 "worksheets": [
  {
   "cells": [
    {
     "cell_type": "code",
     "collapsed": false,
     "input": [
      "import pySI as SI\n",
      "import pandas as pd\n",
      "import numpy as np\n",
      "import time\n",
      "\n",
      "#data= pd.DataFrame(pd.read_csv('http://dl.dropbox.com/u/8649795/AT_Austria.csv'))\n",
      "data = pd.DataFrame(pd.read_csv(\"C:\\\\Users\\\\Taylor\\\\Documents\\\\london_flows.csv\"))"
     ],
     "language": "python",
     "metadata": {},
     "outputs": [],
     "prompt_number": 9
    },
    {
     "cell_type": "code",
     "collapsed": false,
     "input": [
      "t0 = time.time()\n",
      "\n",
      "model = SI.calibrate(data=data, trips='Data', sep='distance', cost='negexp', constraints={'attraction':'Destination', 'production':'Origin'})\n",
      "\n",
      "results = model.mle(initialParams={'beta':0})\n",
      "\n",
      "t1 = time.time()\n",
      "print t1-t0"
     ],
     "language": "python",
     "metadata": {},
     "outputs": [
      {
       "output_type": "stream",
       "stream": "stdout",
       "text": [
        "After 2272 runs, beta is : -0.00018469787212\n",
        "13.0929999352\n"
       ]
      }
     ],
     "prompt_number": 21
    },
    {
     "cell_type": "code",
     "collapsed": false,
     "input": [
      "\n",
      "results.results.SIM_Estimates"
     ],
     "language": "python",
     "metadata": {},
     "outputs": [
      {
       "metadata": {},
       "output_type": "pyout",
       "prompt_number": 22,
       "text": [
        "0       4.201477\n",
        "1      20.750291\n",
        "2       3.365882\n",
        "3      19.777819\n",
        "4       8.037727\n",
        "5     258.319198\n",
        "6       9.242331\n",
        "7      13.248642\n",
        "8      12.402824\n",
        "9      13.015625\n",
        "10     75.938942\n",
        "11     54.614231\n",
        "12     32.678076\n",
        "13      4.938581\n",
        "14      2.541228\n",
        "...\n",
        "1041     408.671531\n",
        "1042    3313.153046\n",
        "1043    3941.403092\n",
        "1044     146.285336\n",
        "1045    1539.784299\n",
        "1046     250.157193\n",
        "1047     330.346972\n",
        "1048     202.671685\n",
        "1049      89.879152\n",
        "1050     289.623299\n",
        "1051    1831.369337\n",
        "1052     103.257063\n",
        "1053    1728.883501\n",
        "1054     172.653412\n",
        "1055    1333.396920\n",
        "Name: SIM_Estimates, Length: 1056, dtype: float64"
       ]
      }
     ],
     "prompt_number": 22
    },
    {
     "cell_type": "code",
     "collapsed": false,
     "input": [
      "results.results.rsquared"
     ],
     "language": "python",
     "metadata": {},
     "outputs": [
      {
       "metadata": {},
       "output_type": "pyout",
       "prompt_number": 14,
       "text": [
        "0.91021802030145882"
       ]
      }
     ],
     "prompt_number": 14
    },
    {
     "cell_type": "code",
     "collapsed": false,
     "input": [
      "model = SI.calibrate(data=data, trips='Data', sep='distance', cost='negexp', constraints={'attraction':'Destination', 'production':'Origin'})\n",
      "\n",
      "results = model.regression()"
     ],
     "language": "python",
     "metadata": {},
     "outputs": [],
     "prompt_number": 25
    },
    {
     "cell_type": "code",
     "collapsed": false,
     "input": [
      "results.results.fittedvalues"
     ],
     "language": "python",
     "metadata": {},
     "outputs": [
      {
       "metadata": {},
       "output_type": "pyout",
       "prompt_number": 26,
       "text": [
        "0       4.500912\n",
        "1      21.268036\n",
        "2       3.560704\n",
        "3      20.355103\n",
        "4       8.465313\n",
        "5     257.099255\n",
        "6       9.759948\n",
        "7      13.874947\n",
        "8      12.744561\n",
        "9      13.491285\n",
        "10     75.601394\n",
        "11     55.238521\n",
        "12     33.035179\n",
        "13      5.204487\n",
        "14      2.736856\n",
        "...\n",
        "1041     424.936753\n",
        "1042    3296.447432\n",
        "1043    3879.519396\n",
        "1044     152.564128\n",
        "1045    1551.677835\n",
        "1046     258.557902\n",
        "1047     340.452167\n",
        "1048     211.536938\n",
        "1049      95.757009\n",
        "1050     299.103144\n",
        "1051    1847.586903\n",
        "1052     109.015060\n",
        "1053    1752.374062\n",
        "1054     179.105878\n",
        "1055    1341.327116\n",
        "Length: 1056, dtype: float64"
       ]
      }
     ],
     "prompt_number": 26
    },
    {
     "cell_type": "code",
     "collapsed": false,
     "input": [
      "results.results.rsquared"
     ],
     "language": "python",
     "metadata": {},
     "outputs": [
      {
       "metadata": {},
       "output_type": "pyout",
       "prompt_number": 27,
       "text": [
        "0.91081494295104326"
       ]
      }
     ],
     "prompt_number": 27
    },
    {
     "cell_type": "code",
     "collapsed": false,
     "input": [
      "results.results.regstr"
     ],
     "language": "python",
     "metadata": {},
     "outputs": [
      {
       "metadata": {},
       "output_type": "pyout",
       "prompt_number": 28,
       "text": [
        "'Data~Destination+Origin+distance'"
       ]
      }
     ],
     "prompt_number": 28
    },
    {
     "cell_type": "code",
     "collapsed": false,
     "input": [
      "results.results.params"
     ],
     "language": "python",
     "metadata": {},
     "outputs": [
      {
       "metadata": {},
       "output_type": "pyout",
       "prompt_number": 29,
       "text": [
        "Intercept                                8.876199\n",
        "Destination[T.Barnet]                    1.166783\n",
        "Destination[T.Bexley]                   -0.006110\n",
        "Destination[T.Brent]                     0.980584\n",
        "Destination[T.Bromley]                   1.122481\n",
        "Destination[T.Camden]                    2.181669\n",
        "Destination[T.City of London]            2.374973\n",
        "Destination[T.Croydon]                   1.080407\n",
        "Destination[T.Ealing]                    1.225383\n",
        "Destination[T.Enfield]                   0.878654\n",
        "Destination[T.Greenwich]                 0.242628\n",
        "Destination[T.Hackney]                   0.757109\n",
        "Destination[T.Hammersmith and Fulham]    1.271940\n",
        "Destination[T.Haringey]                  0.624734\n",
        "Destination[T.Harrow]                    0.783422\n",
        "...\n",
        "Origin[T.Kensington and Chelsea]   -1.536037\n",
        "Origin[T.Kingston upon Thames]     -0.376262\n",
        "Origin[T.Lambeth]                  -0.451777\n",
        "Origin[T.Lewisham]                 -0.236675\n",
        "Origin[T.Merton]                   -0.368544\n",
        "Origin[T.Newham]                   -0.508104\n",
        "Origin[T.Redbridge]                 0.297714\n",
        "Origin[T.Richmond upon Thames]     -0.463367\n",
        "Origin[T.Southwark]                -0.807658\n",
        "Origin[T.Sutton]                   -0.151884\n",
        "Origin[T.Tower Hamlets]            -1.243713\n",
        "Origin[T.Waltham Forest]           -0.325529\n",
        "Origin[T.Wandsworth]               -0.358099\n",
        "Origin[T.Westminster]              -1.422286\n",
        "distance                           -0.000181\n",
        "Length: 66, dtype: float64"
       ]
      }
     ],
     "prompt_number": 29
    },
    {
     "cell_type": "code",
     "collapsed": false,
     "input": [],
     "language": "python",
     "metadata": {},
     "outputs": []
    }
   ],
   "metadata": {}
  }
 ]
}