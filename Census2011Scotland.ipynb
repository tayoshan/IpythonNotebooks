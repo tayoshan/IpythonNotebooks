{
 "metadata": {
  "name": ""
 },
 "nbformat": 3,
 "nbformat_minor": 0,
 "worksheets": [
  {
   "cells": [
    {
     "cell_type": "code",
     "collapsed": false,
     "input": [
      "import numpy as np\n",
      "import pandas as pd\n",
      "\n",
      "postcodeFlows = pd.DataFrame(pd.read_csv(\"C:\\\\Users\\\\Taylor\\\\Documents\\\\Scotland2011_postcode_flows.csv\"))\n",
      "\n",
      "post_to_zones = pd.DataFrame(pd.read_csv(\"C:\\\\Users\\\\Taylor\\\\Documents\\\\postcodes_datazones.csv\"))\n",
      "\n",
      "dataZones = pd.DataFrame(pd.read_csv(\"C:\\\\Users\\\\Taylor\\\\Documents\\\\datazones_dunfermline.csv\"))\n"
     ],
     "language": "python",
     "metadata": {},
     "outputs": [],
     "prompt_number": 65
    },
    {
     "cell_type": "code",
     "collapsed": false,
     "input": [
      "postcodeFlows[\"Destinations\"] = list(postcodeFlows[\"Destinations\"].str.split(\",\"))"
     ],
     "language": "python",
     "metadata": {},
     "outputs": [],
     "prompt_number": 66
    },
    {
     "cell_type": "code",
     "collapsed": false,
     "input": [
      "dataZones = dataZones.drop(dataZones.columns[3:], 1)\n",
      "len(set(post_to_zones[\"sul_pcsu\"][post_to_zones[\"sul_dtz_co\"] == dataZones[\"DZ_CODE\"].ix[0]]))"
     ],
     "language": "python",
     "metadata": {},
     "outputs": [
      {
       "metadata": {},
       "output_type": "pyout",
       "prompt_number": 72,
       "text": [
        "17"
       ]
      }
     ],
     "prompt_number": 72
    },
    {
     "cell_type": "code",
     "collapsed": false,
     "input": [
      "dataZones[\"postals\"] = np.nan\n",
      "for i, row in dataZones.iterrows():\n",
      "    dataZones[\"postals\"].ix[i] = set(post_to_zones[\"sul_pcsu\"][post_to_zones[\"sul_dtz_co\"] == dataZones[\"DZ_CODE\"].ix[i]])"
     ],
     "language": "python",
     "metadata": {},
     "outputs": [],
     "prompt_number": 74
    },
    {
     "cell_type": "code",
     "collapsed": false,
     "input": [
      "for origin in dataZones.DZ_NAME:\n",
      "    for destination in dataZones.DZ_NAME:\n",
      "        "
     ],
     "language": "python",
     "metadata": {},
     "outputs": [
      {
       "metadata": {},
       "output_type": "pyout",
       "prompt_number": 81,
       "text": [
        "60"
       ]
      }
     ],
     "prompt_number": 81
    },
    {
     "cell_type": "code",
     "collapsed": false,
     "input": [],
     "language": "python",
     "metadata": {},
     "outputs": []
    }
   ],
   "metadata": {}
  }
 ]
}