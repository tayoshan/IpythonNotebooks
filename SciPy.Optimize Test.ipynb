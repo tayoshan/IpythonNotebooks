{
 "metadata": {
  "name": ""
 },
 "nbformat": 3,
 "nbformat_minor": 0,
 "worksheets": [
  {
   "cells": [
    {
     "cell_type": "code",
     "collapsed": false,
     "input": [
      "import pandas as pd\n",
      "import numpy as np\n",
      "import statsmodels.formula.api as smf\n",
      "import statsmodels.api as sm\n",
      "from scipy.stats.stats import pearsonr\n",
      "from scipy.optimize import newton\n",
      "from scipy.optimize import minimize\n",
      "import math\n",
      "import patsy\n",
      "import time\n",
      "import sympy as sp\n",
      "import numdifftools as ndt\n",
      "\n",
      "data= pd.DataFrame(pd.read_csv('http://dl.dropbox.com/u/8649795/AT_Austria.csv'))\n",
      "#data= pd.DataFrame(pd.read_csv('C:\\Users\\Taylor\\Documents\\SI_Data_Dunfermline.csv'))\n",
      "data = data[data[\"Origin\"] != data[\"Destination\"]]\n",
      "data = data.reset_index(level = 0, drop = True)\n",
      "\n"
     ],
     "language": "python",
     "metadata": {},
     "outputs": [],
     "prompt_number": 1
    },
    {
     "cell_type": "code",
     "collapsed": false,
     "input": [
      "#Step 1: Function to Calculate Sum of all Products of observed flows and log distances for unique pairs\n",
      "def setup(data):\n",
      "    observed = np.sum(data[\"Data\"]*np.log(data[\"Dij\"]*data[\"Oi\"]*data[\"Dj\"]))\n",
      "    data[\"beta\"] = .001\n",
      "    data[\"mu\"] = 1\n",
      "    data[\"sigma\"] = 1\n",
      "    data[\"Bj\"] = 1.0\n",
      "    data[\"Ai\"] = 1.0\n",
      "    data[\"OldAi\"] = 10.0000000000\n",
      "    data[\"OldBj\"] = 10.000000000\n",
      "    data[\"diff\"] = abs((data[\"OldAi\"] - data[\"Ai\"])/data[\"OldAi\"])\n",
      "    return observed, data\n",
      "\n",
      "    \n",
      "#Step 2: Function to Calculate Ai values\n",
      "def calcAi(data):\n",
      "    data[\"Ai\"] = data[\"Bj\"]*(data[\"Dj\"]**data[\"sigma\"])*np.exp(data[\"Dij\"]*data[\"beta\"])\n",
      "\n",
      "#Step 3: Function to Calculate Bj values\n",
      "def calcBj(data):\n",
      "    data[\"Bj\"] = data[\"Ai\"]*(data[\"Oi\"]**data[\"mu\"])*np.exp(data[\"Dij\"]*data[\"beta\"])\n",
      "    \n",
      "\n",
      "#Step 4: Function to check if Ai and Bj have stabilised, if not return to step 2\n",
      "def balanceFactors(data):\n",
      "    its = 0\n",
      "    cnvg = 1\n",
      "\n",
      "    while cnvg > .0001:\n",
      "        its = its + 1\n",
      "        calcAi(data)\n",
      "        AiBF = (data.groupby(\"Origin\").aggregate({\"Ai\": np.sum}))\n",
      "        AiBF[\"Ai\"] = 1/AiBF[\"Ai\"]\n",
      "        updates = AiBF.ix[pd.match(data[\"Origin\"], AiBF.index), \"Ai\"]\n",
      "        data[\"Ai\"] = updates.reset_index(level=0, drop=True) if(updates.notnull().any()) else data[\"Ai\"]\n",
      "        if its == 1:\n",
      "            data[\"OldAi\"] = data[\"Ai\"]\n",
      "        else:\n",
      "            data[\"diff\"] = abs((data[\"OldAi\"] - data[\"Ai\"])/data[\"OldAi\"])\n",
      "            data[\"OldAi\"] = data[\"Ai\"]\n",
      "        \n",
      "        calcBj(data)\n",
      "        BjBF = data.groupby(\"Destination\").aggregate({\"Bj\": np.sum})\n",
      "        BjBF[\"Bj\"] = 1/BjBF[\"Bj\"]    \n",
      "        updates = BjBF.ix[pd.match(data[\"Destination\"], BjBF.index), \"Bj\"]\n",
      "        data[\"Bj\"] = updates.reset_index(level=0, drop=True) if(updates.notnull().any()) else data[\"Bj\"]\n",
      "        if its == 1:\n",
      "            data[\"OldBj\"] = data[\"Bj\"]\n",
      "        else:\n",
      "            data[\"diff\"] = abs((data[\"OldBj\"] - data[\"Bj\"])/data[\"OldBj\"])\n",
      "            data[\"OldBj\"] = data[\"Bj\"]\n",
      "        cnvg = np.sum(data[\"diff\"])\n",
      "        #print its, cnvg, data.beta.ix[0]\n",
      "    return data\n",
      "\n",
      "#Step 5: Function to Calculate Tij' (flow estimates)\n",
      "def estimateFlows(data):\n",
      "    data[\"SIM_Estimates\"] = (data[\"Oi\"]**data[\"mu\"])*data[\"Ai\"]*(data[\"Dj\"]**data[\"sigma\"])*data[\"Bj\"]*np.exp(data[\"Dij\"]*data[\"beta\"])\n",
      "    return data\n",
      "\n",
      "#Step 6: Function to Calculate Sum of all products of Tij' and log distances\n",
      "def estimateCum(data):\n",
      "    return np.sum(data[\"SIM_Estimates\"]*np.log(data[\"Dij\"]*data[\"Oi\"]*data[\"Dj\"]))\n",
      "   \n",
      "    \n",
      "def function(x,a,b,c,d,e,f):\n",
      "    return  (np.sum(c*d*e*f*np.exp(b*x)*np.log(b)))- (np.sum(a*np.log(b)))\n",
      "\n",
      "#Function to compute the Jacobian matrix of parameter values\n",
      "def Jac(initParams, data):\n",
      "    #N by 1 array of functions representing the constraints which need to be met to obtain parameters\n",
      "    functionBk = np.array([computef1(initParams, data), computef2(initParams, data), computef3(initParams, data)])\n",
      "    \n",
      "    #Three N by 1 arrays of Jacobian terms which are stacked into an N by N Matrix (jac)\n",
      "    f1Jac = ndt.Jacobian(lambda x: np.sum((data.Oi**x[1])*data.Ai*data.Bj*(data.Dj**x[2])*np.exp(data.Dij*x[0])*np.log(data.Dij))- (np.sum(data.Data*np.log(data.Dij))))\n",
      "    f2Jac = ndt.Jacobian(lambda x: np.sum((data.Oi**x[1])*data.Ai*data.Bj*(data.Dj**x[2])*np.exp(data.Dij*x[0])*np.log(data.Oi))- (np.sum(data.Data*np.log(data.Oi))))\n",
      "    f3Jac = ndt.Jacobian(lambda x: np.sum((data.Oi**x[1])*data.Ai*data.Bj*(data.Dj**x[2])*np.exp(data.Dij*x[0])*np.log(data.Dj))- (np.sum(data.Data*np.log(data.Dj))))\n",
      "    f1 = f1Jac(initParams).flatten() \n",
      "    f2 = f2Jac(initParams).flatten()\n",
      "    f3 = f3Jac(initParams).flatten()\n",
      "    jac = np.array([f1,f2,f3])\n",
      "    #N by 1 array of current parameter values\n",
      "    Bk = np.array([initParams[0], initParams[1], initParams[2]])\n",
      "\n",
      "    #Get new parameter estimates by subtracting from the original estimates the inverse of the product of the jacobian matrix and array of constraints\n",
      "    return Bk - np.dot(np.linalg.inv(jac),functionBk)\n",
      "   \n",
      "\n",
      "#Commputes the value of one    \n",
      "def computef1(x, data):\n",
      "    print  (np.sum((data.Oi**x[1])*data.Ai*data.Bj*(data.Dj**x[2])*np.exp(data.Dij*x[0])*np.log(data.Dij))- (np.sum(data.Data*np.log(data.Dij))))\n",
      "    return (np.sum((data.Oi**x[1])*data.Ai*data.Bj*(data.Dj**x[2])*np.exp(data.Dij*x[0])*np.log(data.Dij))- (np.sum(data.Data*np.log(data.Dij))))\n",
      "    \n",
      "def computef2(x, data):\n",
      "    return (np.sum((data.Oi**x[1])*data.Ai*data.Bj*(data.Dj**x[2])*np.exp(data.Dij*x[0])*np.log(data.Oi))- (np.sum(data.Data*np.log(data.Oi))))\n",
      "\n",
      "def computef3(x, data):\n",
      "    return (np.sum((data.Oi**x[1])*data.Ai*data.Bj*(data.Dj**x[2])*np.exp(data.Dij*x[0])*np.log(data.Dj))- (np.sum(data.Data*np.log(data.Dj))))\n",
      "\n",
      "'''\n",
      "def standErrors(params, data):\n",
      "    logLike = np.sum(data[\"Data\"] * np.log((data[\"SIM_Estimates\"]/np.sum(data[\"SIM_Estimates\"]))))\n",
      "    \n",
      "def altSig(params, data):\n",
      "    for each param in params:\n",
      "        logLike = np.sum(data[\"Data\"] * np.log((data[\"SIM_Estimates\"]/np.sum(data[\"SIM_Estimates\"]))))\n",
      "        sig = 2 * np.sum(data[\"Data\"]) * ()\n",
      "        '''"
     ],
     "language": "python",
     "metadata": {},
     "outputs": [
      {
       "metadata": {},
       "output_type": "pyout",
       "prompt_number": 7,
       "text": [
        "'\\ndef standErrors(params, data):\\n    logLike = np.sum(data[\"Data\"] * np.log((data[\"SIM_Estimates\"]/np.sum(data[\"SIM_Estimates\"]))))\\n    \\ndef altSig(params, data):\\n    for each param in params:\\n        logLike = np.sum(data[\"Data\"] * np.log((data[\"SIM_Estimates\"]/np.sum(data[\"SIM_Estimates\"]))))\\n        sig = 2 * np.sum(data[\"Data\"]) * ()\\n        '"
       ]
      }
     ],
     "prompt_number": 7
    },
    {
     "cell_type": "code",
     "collapsed": false,
     "input": [
      "def dConstrain(data):\n",
      "    its = 0\n",
      "    observed, data = setup(data)\n",
      "    data = balanceFactors(data)\n",
      "    data = estimateFlows(data)\n",
      "    estimates = estimateCum(data)\n",
      "    print abs(estimates-observed)\n",
      "    while abs(estimates - observed) > .0001:\n",
      "        #print abs(estimates-observed)\n",
      "        jac =  Jac([data[\"beta\"].ix[0],data[\"mu\"].ix[0],data[\"sigma\"].ix[0]], data)\n",
      "        data[\"beta\"], data[\"mu\"], data[\"sigma\"] = jac[0], jac[1], jac[2]\n",
      "        #data[\"beta\"] = newton(function, data[\"beta\"].ix[0], args=(data.Data, data.Dij, data.Oi, data.Ai, data.Dj, data.Bj))\n",
      "        data = balanceFactors(data)\n",
      "        data = estimateFlows(data)\n",
      "        estimates = estimateCum(data)\n",
      "        its += 1\n",
      "\n",
      "    print \"After \" + str(its) + \" runs, beta is : \" + str(data[\"beta\"].ix[0])\n",
      "    return data\n"
     ],
     "language": "python",
     "metadata": {},
     "outputs": [],
     "prompt_number": 8
    },
    {
     "cell_type": "code",
     "collapsed": false,
     "input": [
      "\n",
      "t0 = time.time()\n",
      "data = dConstrain(data)\n",
      "t1 = time.time()\n",
      "print t1-t0\n"
     ],
     "language": "python",
     "metadata": {},
     "outputs": [
      {
       "output_type": "stream",
       "stream": "stdout",
       "text": [
        "25521.9303352\n",
        "25521.9400898\n",
        "135952.793961"
       ]
      },
      {
       "output_type": "stream",
       "stream": "stdout",
       "text": [
        "\n",
        "139261.303052"
       ]
      },
      {
       "output_type": "stream",
       "stream": "stdout",
       "text": [
        "\n",
        "110148.820129"
       ]
      },
      {
       "output_type": "stream",
       "stream": "stdout",
       "text": [
        "\n",
        "83298.4922587"
       ]
      },
      {
       "output_type": "stream",
       "stream": "stdout",
       "text": [
        "\n",
        "64088.1877904"
       ]
      },
      {
       "output_type": "stream",
       "stream": "stdout",
       "text": [
        "\n",
        "51754.6052288"
       ]
      },
      {
       "output_type": "stream",
       "stream": "stdout",
       "text": [
        "\n",
        "42728.6237121"
       ]
      },
      {
       "output_type": "stream",
       "stream": "stdout",
       "text": [
        "\n",
        "34539.1827908"
       ]
      },
      {
       "output_type": "stream",
       "stream": "stdout",
       "text": [
        "\n",
        "26738.0153967"
       ]
      },
      {
       "output_type": "stream",
       "stream": "stdout",
       "text": [
        "\n",
        "19818.1865989"
       ]
      },
      {
       "output_type": "stream",
       "stream": "stdout",
       "text": [
        "\n",
        "14208.9232585"
       ]
      },
      {
       "output_type": "stream",
       "stream": "stdout",
       "text": [
        "\n",
        "9971.48246188"
       ]
      },
      {
       "output_type": "stream",
       "stream": "stdout",
       "text": [
        "\n",
        "6912.06702486"
       ]
      },
      {
       "output_type": "stream",
       "stream": "stdout",
       "text": [
        "\n",
        "4758.84465577"
       ]
      },
      {
       "output_type": "stream",
       "stream": "stdout",
       "text": [
        "\n",
        "3263.423907"
       ]
      },
      {
       "output_type": "stream",
       "stream": "stdout",
       "text": [
        "\n",
        "2232.07243317"
       ]
      },
      {
       "output_type": "stream",
       "stream": "stdout",
       "text": [
        "\n",
        "1523.71521994"
       ]
      },
      {
       "output_type": "stream",
       "stream": "stdout",
       "text": [
        "\n",
        "1038.61388901"
       ]
      },
      {
       "output_type": "stream",
       "stream": "stdout",
       "text": [
        "\n",
        "707.156860723"
       ]
      },
      {
       "output_type": "stream",
       "stream": "stdout",
       "text": [
        "\n",
        "481.084142829"
       ]
      },
      {
       "output_type": "stream",
       "stream": "stdout",
       "text": [
        "\n",
        "327.097075123"
       ]
      },
      {
       "output_type": "stream",
       "stream": "stdout",
       "text": [
        "\n",
        "222.311964848"
       ]
      },
      {
       "output_type": "stream",
       "stream": "stdout",
       "text": [
        "\n",
        "151.055393392"
       ]
      },
      {
       "output_type": "stream",
       "stream": "stdout",
       "text": [
        "\n",
        "102.62072374"
       ]
      },
      {
       "output_type": "stream",
       "stream": "stdout",
       "text": [
        "\n",
        "69.7082910227"
       ]
      },
      {
       "output_type": "stream",
       "stream": "stdout",
       "text": [
        "\n",
        "47.3478933382"
       ]
      },
      {
       "output_type": "stream",
       "stream": "stdout",
       "text": [
        "\n",
        "32.1584023376"
       ]
      },
      {
       "output_type": "stream",
       "stream": "stdout",
       "text": [
        "\n",
        "21.841023423"
       ]
      },
      {
       "output_type": "stream",
       "stream": "stdout",
       "text": [
        "\n",
        "14.8334117173"
       ]
      },
      {
       "output_type": "stream",
       "stream": "stdout",
       "text": [
        "\n",
        "10.0740005592"
       ]
      },
      {
       "output_type": "stream",
       "stream": "stdout",
       "text": [
        "\n",
        "6.84160529909"
       ]
      },
      {
       "output_type": "stream",
       "stream": "stdout",
       "text": [
        "\n",
        "4.64633739472"
       ]
      },
      {
       "output_type": "stream",
       "stream": "stdout",
       "text": [
        "\n",
        "3.15544935083"
       ]
      },
      {
       "output_type": "stream",
       "stream": "stdout",
       "text": [
        "\n",
        "2.14294074551"
       ]
      },
      {
       "output_type": "stream",
       "stream": "stdout",
       "text": [
        "\n",
        "1.4553186018"
       ]
      },
      {
       "output_type": "stream",
       "stream": "stdout",
       "text": [
        "\n",
        "0.988337576797"
       ]
      },
      {
       "output_type": "stream",
       "stream": "stdout",
       "text": [
        "\n",
        "0.671200124314"
       ]
      },
      {
       "output_type": "stream",
       "stream": "stdout",
       "text": [
        "\n",
        "0.455825350014"
       ]
      },
      {
       "output_type": "stream",
       "stream": "stdout",
       "text": [
        "\n",
        "0.309559879184"
       ]
      },
      {
       "output_type": "stream",
       "stream": "stdout",
       "text": [
        "\n",
        "0.210228028183"
       ]
      },
      {
       "output_type": "stream",
       "stream": "stdout",
       "text": [
        "\n",
        "0.142769888451"
       ]
      },
      {
       "output_type": "stream",
       "stream": "stdout",
       "text": [
        "\n",
        "0.0969577438664"
       ]
      },
      {
       "output_type": "stream",
       "stream": "stdout",
       "text": [
        "\n",
        "0.065845830366"
       ]
      },
      {
       "output_type": "stream",
       "stream": "stdout",
       "text": [
        "\n",
        "0.0447171692504"
       ]
      },
      {
       "output_type": "stream",
       "stream": "stdout",
       "text": [
        "\n",
        "0.0303682362428"
       ]
      },
      {
       "output_type": "stream",
       "stream": "stdout",
       "text": [
        "\n",
        "0.0206236478407"
       ]
      },
      {
       "output_type": "stream",
       "stream": "stdout",
       "text": [
        "\n",
        "0.0140059109544"
       ]
      },
      {
       "output_type": "stream",
       "stream": "stdout",
       "text": [
        "\n",
        "0.00951172149507"
       ]
      },
      {
       "output_type": "stream",
       "stream": "stdout",
       "text": [
        "\n",
        "0.00645955710206"
       ]
      },
      {
       "output_type": "stream",
       "stream": "stdout",
       "text": [
        "\n",
        "0.00438681390369"
       ]
      },
      {
       "output_type": "stream",
       "stream": "stdout",
       "text": [
        "\n",
        "0.00297917617718"
       ]
      },
      {
       "output_type": "stream",
       "stream": "stdout",
       "text": [
        "\n",
        "0.00202319369419"
       ]
      },
      {
       "output_type": "stream",
       "stream": "stdout",
       "text": [
        "\n",
        "0.00137400947278"
       ]
      },
      {
       "output_type": "stream",
       "stream": "stdout",
       "text": [
        "\n",
        "0.000933101808187"
       ]
      },
      {
       "output_type": "stream",
       "stream": "stdout",
       "text": [
        "\n",
        "0.000633680087049"
       ]
      },
      {
       "output_type": "stream",
       "stream": "stdout",
       "text": [
        "\n",
        "0.000430362066254"
       ]
      },
      {
       "output_type": "stream",
       "stream": "stdout",
       "text": [
        "\n",
        "0.000292274635285"
       ]
      },
      {
       "output_type": "stream",
       "stream": "stdout",
       "text": [
        "\n",
        "0.000198458204977"
       ]
      },
      {
       "output_type": "stream",
       "stream": "stdout",
       "text": [
        "\n",
        "0.000134781235829"
       ]
      },
      {
       "output_type": "stream",
       "stream": "stdout",
       "text": [
        "\n",
        "9.15049458854e-05"
       ]
      },
      {
       "output_type": "stream",
       "stream": "stdout",
       "text": [
        "\n",
        "6.21846411377e-05"
       ]
      },
      {
       "output_type": "stream",
       "stream": "stdout",
       "text": [
        "\n",
        "4.2230647523e-05"
       ]
      },
      {
       "output_type": "stream",
       "stream": "stdout",
       "text": [
        "\n",
        "2.86467256956e-05"
       ]
      },
      {
       "output_type": "stream",
       "stream": "stdout",
       "text": [
        "\n",
        "After 64 runs, beta is : -0.00893922891964"
       ]
      },
      {
       "output_type": "stream",
       "stream": "stdout",
       "text": [
        "\n",
        "17.8169999123\n"
       ]
      }
     ],
     "prompt_number": 9
    },
    {
     "cell_type": "code",
     "collapsed": false,
     "input": [
      "#data[\"SIM_Estimates\"] = data[\"Oi\"]*data[\"Ai\"]*data[\"Dj\"]*data[\"Bj\"]*np.exp(data[\"Dij\"]*-.9024551)\n",
      "\n",
      "cor = pearsonr(data[\"Data\"], (data[\"SIM_Estimates\"]))[0]\n",
      "print cor*cor\n"
     ],
     "language": "python",
     "metadata": {},
     "outputs": [
      {
       "output_type": "stream",
       "stream": "stdout",
       "text": [
        "0.976580709196\n"
       ]
      }
     ],
     "prompt_number": 5
    },
    {
     "cell_type": "code",
     "collapsed": false,
     "input": [
      "data.beta\n"
     ],
     "language": "python",
     "metadata": {},
     "outputs": [
      {
       "metadata": {},
       "output_type": "pyout",
       "prompt_number": 6,
       "text": [
        "0    -0.008939\n",
        "1    -0.008939\n",
        "2    -0.008939\n",
        "3    -0.008939\n",
        "4    -0.008939\n",
        "5    -0.008939\n",
        "6    -0.008939\n",
        "7    -0.008939\n",
        "8    -0.008939\n",
        "9    -0.008939\n",
        "10   -0.008939\n",
        "11   -0.008939\n",
        "12   -0.008939\n",
        "13   -0.008939\n",
        "14   -0.008939\n",
        "...\n",
        "57   -0.008939\n",
        "58   -0.008939\n",
        "59   -0.008939\n",
        "60   -0.008939\n",
        "61   -0.008939\n",
        "62   -0.008939\n",
        "63   -0.008939\n",
        "64   -0.008939\n",
        "65   -0.008939\n",
        "66   -0.008939\n",
        "67   -0.008939\n",
        "68   -0.008939\n",
        "69   -0.008939\n",
        "70   -0.008939\n",
        "71   -0.008939\n",
        "Name: beta, Length: 72, dtype: float64"
       ]
      }
     ],
     "prompt_number": 6
    },
    {
     "cell_type": "code",
     "collapsed": false,
     "input": [],
     "language": "python",
     "metadata": {},
     "outputs": []
    }
   ],
   "metadata": {}
  }
 ]
}