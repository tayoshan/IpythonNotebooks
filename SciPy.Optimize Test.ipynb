{
 "metadata": {
  "name": ""
 },
 "nbformat": 3,
 "nbformat_minor": 0,
 "worksheets": [
  {
   "cells": [
    {
     "cell_type": "code",
     "collapsed": false,
     "input": [
      "import pandas as pd\n",
      "import numpy as np\n",
      "import statsmodels.formula.api as smf\n",
      "import statsmodels.api as sm\n",
      "from scipy.stats.stats import pearsonr\n",
      "from scipy.optimize import newton\n",
      "from scipy.optimize import minimize\n",
      "import math\n",
      "import patsy\n",
      "import time\n",
      "import sympy as sp\n",
      "import numdifftools as ndt\n",
      "\n",
      "data= pd.DataFrame(pd.read_csv('http://dl.dropbox.com/u/8649795/AT_Austria.csv'))\n",
      "#data= pd.DataFrame(pd.read_csv('C:\\Users\\Taylor\\Documents\\SI_Data_Dunfermline.csv'))\n",
      "data = data[data[\"Origin\"] != data[\"Destination\"]]\n",
      "data = data.reset_index(level = 0, drop = True)\n",
      "\n"
     ],
     "language": "python",
     "metadata": {},
     "outputs": [],
     "prompt_number": 6
    },
    {
     "cell_type": "code",
     "collapsed": false,
     "input": [
      "#Step 1: Function to Calculate Sum of all Products of observed flows and log distances for unique pairs\n",
      "def setup(data):\n",
      "    observed = np.sum(data[\"Data\"]*np.log(data[\"Dij\"]*data[\"Oi\"]*data[\"Dj\"]))\n",
      "    data[\"beta\"] = .001\n",
      "    data[\"mu\"] = 1\n",
      "    data[\"sigma\"] = 1\n",
      "    data[\"Bj\"] = 1.0\n",
      "    data[\"Ai\"] = 1.0\n",
      "    data[\"OldAi\"] = 10.0000000000\n",
      "    data[\"OldBj\"] = 10.000000000\n",
      "    data[\"diff\"] = abs((data[\"OldAi\"] - data[\"Ai\"])/data[\"OldAi\"])\n",
      "    return observed, data\n",
      "\n",
      "    \n",
      "#Step 2: Function to Calculate Ai values\n",
      "def calcAi(data):\n",
      "    data[\"Ai\"] = data[\"Bj\"]*(data[\"Dj\"]**data[\"sigma\"])*np.exp(data[\"Dij\"]*data[\"beta\"])\n",
      "\n",
      "#Step 3: Function to Calculate Bj values\n",
      "def calcBj(data):\n",
      "    data[\"Bj\"] = data[\"Ai\"]*(data[\"Oi\"]**data[\"mu\"])*np.exp(data[\"Dij\"]*data[\"beta\"])\n",
      "    \n",
      "\n",
      "#Step 4: Function to check if Ai and Bj have stabilised, if not return to step 2\n",
      "def balanceFactors(data):\n",
      "    its = 0\n",
      "    cnvg = 1\n",
      "\n",
      "    while cnvg > .0001:\n",
      "        its = its + 1\n",
      "        calcAi(data)\n",
      "        AiBF = (data.groupby(\"Origin\").aggregate({\"Ai\": np.sum}))\n",
      "        AiBF[\"Ai\"] = 1/AiBF[\"Ai\"]\n",
      "        updates = AiBF.ix[pd.match(data[\"Origin\"], AiBF.index), \"Ai\"]\n",
      "        data[\"Ai\"] = updates.reset_index(level=0, drop=True) if(updates.notnull().any()) else data[\"Ai\"]\n",
      "        if its == 1:\n",
      "            data[\"OldAi\"] = data[\"Ai\"]\n",
      "        else:\n",
      "            data[\"diff\"] = abs((data[\"OldAi\"] - data[\"Ai\"])/data[\"OldAi\"])\n",
      "            data[\"OldAi\"] = data[\"Ai\"]\n",
      "        \n",
      "        calcBj(data)\n",
      "        BjBF = data.groupby(\"Destination\").aggregate({\"Bj\": np.sum})\n",
      "        BjBF[\"Bj\"] = 1/BjBF[\"Bj\"]    \n",
      "        updates = BjBF.ix[pd.match(data[\"Destination\"], BjBF.index), \"Bj\"]\n",
      "        data[\"Bj\"] = updates.reset_index(level=0, drop=True) if(updates.notnull().any()) else data[\"Bj\"]\n",
      "        if its == 1:\n",
      "            data[\"OldBj\"] = data[\"Bj\"]\n",
      "        else:\n",
      "            data[\"diff\"] = abs((data[\"OldBj\"] - data[\"Bj\"])/data[\"OldBj\"])\n",
      "            data[\"OldBj\"] = data[\"Bj\"]\n",
      "        cnvg = np.sum(data[\"diff\"])\n",
      "        #print its, cnvg, data.beta.ix[0]\n",
      "    return data\n",
      "\n",
      "#Step 5: Function to Calculate Tij' (flow estimates)\n",
      "def estimateFlows(data):\n",
      "    data[\"SIM_Estimates\"] = (data[\"Oi\"]**data[\"mu\"])*data[\"Ai\"]*(data[\"Dj\"]**data[\"sigma\"])*data[\"Bj\"]*np.exp(data[\"Dij\"]*data[\"beta\"])\n",
      "    return data\n",
      "\n",
      "#Step 6: Function to Calculate Sum of all products of Tij' and log distances\n",
      "def estimateCum(data):\n",
      "    return np.sum(data[\"SIM_Estimates\"]*np.log(data[\"Dij\"]*data[\"Oi\"]*data[\"Dj\"]))\n",
      "   \n",
      "    \n",
      "def function(x,a,b,c,d,e,f):\n",
      "    return  (np.sum(c*d*e*f*np.exp(b*x)*np.log(b)))- (np.sum(a*np.log(b)))\n",
      "\n",
      "#Function to compute the Jacobian matrix of parameter values\n",
      "def Jac(initParams, data):\n",
      "    #N by 1 array of functions representing the constraints which need to be met to obtain parameters\n",
      "    functionBk = np.array([computef1(initParams, data), computef2(initParams, data), computef3(initParams, data)])\n",
      "    \n",
      "    #Three N by 1 arrays of Jacobian terms which are stacked into an N by N Matrix (jac)\n",
      "    f1Jac = ndt.Jacobian(lambda x: np.sum((data.Oi**x[1])*data.Ai*data.Bj*(data.Dj**x[2])*np.exp(data.Dij*x[0])*np.log(data.Dij))- (np.sum(data.Data*np.log(data.Dij))))\n",
      "    f2Jac = ndt.Jacobian(lambda x: np.sum((data.Oi**x[1])*data.Ai*data.Bj*(data.Dj**x[2])*np.exp(data.Dij*x[0])*np.log(data.Oi))- (np.sum(data.Data*np.log(data.Oi))))\n",
      "    f3Jac = ndt.Jacobian(lambda x: np.sum((data.Oi**x[1])*data.Ai*data.Bj*(data.Dj**x[2])*np.exp(data.Dij*x[0])*np.log(data.Dj))- (np.sum(data.Data*np.log(data.Dj))))\n",
      "    f1 = f1Jac(initParams).flatten() \n",
      "    f2 = f2Jac(initParams).flatten()\n",
      "    f3 = f3Jac(initParams).flatten()\n",
      "    jac = np.array([f1,f2,f3])\n",
      "    #N by 1 array of current parameter values\n",
      "    Bk = np.array([initParams[0], initParams[1], initParams[2]])\n",
      "\n",
      "    #Get new parameter estimates by subtracting from the original estimates the inverse of the product of the jacobian matrix and array of constraints\n",
      "    return Bk - np.dot(np.linalg.inv(jac),functionBk)\n",
      "   \n",
      "\n",
      "#Commputes the value of one    \n",
      "def computef1(x, data):\n",
      "    return (np.sum((data.Oi**x[1])*data.Ai*data.Bj*(data.Dj**x[2])*np.exp(data.Dij*x[0])*np.log(data.Dij))- (np.sum(data.Data*np.log(data.Dij))))\n",
      "    \n",
      "def computef2(x, data):\n",
      "    return (np.sum((data.Oi**x[1])*data.Ai*data.Bj*(data.Dj**x[2])*np.exp(data.Dij*x[0])*np.log(data.Oi))- (np.sum(data.Data*np.log(data.Oi))))\n",
      "\n",
      "def computef3(x, data):\n",
      "    return (np.sum((data.Oi**x[1])*data.Ai*data.Bj*(data.Dj**x[2])*np.exp(data.Dij*x[0])*np.log(data.Dj))- (np.sum(data.Data*np.log(data.Dj))))\n",
      "\n",
      "'''\n",
      "def standErrors(params, data):\n",
      "    logLike = np.sum(data[\"Data\"] * np.log((data[\"SIM_Estimates\"]/np.sum(data[\"SIM_Estimates\"]))))\n",
      "    \n",
      "def altSig(params, data):\n",
      "    for each param in params:\n",
      "        logLike = np.sum(data[\"Data\"] * np.log((data[\"SIM_Estimates\"]/np.sum(data[\"SIM_Estimates\"]))))\n",
      "        sig = 2 * np.sum(data[\"Data\"]) * ()\n",
      "        '''"
     ],
     "language": "python",
     "metadata": {},
     "outputs": [
      {
       "metadata": {},
       "output_type": "pyout",
       "prompt_number": 16,
       "text": [
        "'\\ndef standErrors(params, data):\\n    logLike = np.sum(data[\"Data\"] * np.log((data[\"SIM_Estimates\"]/np.sum(data[\"SIM_Estimates\"]))))\\n    \\ndef altSig(params, data):\\n    for each param in params:\\n        logLike = np.sum(data[\"Data\"] * np.log((data[\"SIM_Estimates\"]/np.sum(data[\"SIM_Estimates\"]))))\\n        sig = 2 * np.sum(data[\"Data\"]) * ()\\n        '"
       ]
      }
     ],
     "prompt_number": 16
    },
    {
     "cell_type": "code",
     "collapsed": false,
     "input": [
      "def dConstrain(data):\n",
      "    its = 0\n",
      "    observed, data = setup(data)\n",
      "    data = balanceFactors(data)\n",
      "    data = estimateFlows(data)\n",
      "    estimates = estimateCum(data)\n",
      "    print abs(estimates-observed)\n",
      "    while abs(estimates - observed) > .0001:\n",
      "        #print abs(estimates-observed)\n",
      "        jac =  Jac([data[\"beta\"].ix[0],data[\"mu\"].ix[0],data[\"sigma\"].ix[0]], data)\n",
      "        data[\"beta\"], data[\"mu\"], data[\"sigma\"] = jac[0], jac[1], jac[2]\n",
      "        #data[\"beta\"] = newton(function, data[\"beta\"].ix[0], args=(data.Data, data.Dij, data.Oi, data.Ai, data.Dj, data.Bj))\n",
      "        data = balanceFactors(data)\n",
      "        data = estimateFlows(data)\n",
      "        estimates = estimateCum(data)\n",
      "        its += 1\n",
      "\n",
      "    print \"After \" + str(its) + \" runs, beta is : \" + str(data[\"beta\"].ix[0])\n",
      "    return data\n"
     ],
     "language": "python",
     "metadata": {},
     "outputs": [],
     "prompt_number": 17
    },
    {
     "cell_type": "code",
     "collapsed": false,
     "input": [
      "\n",
      "t0 = time.time()\n",
      "data = dConstrain(data)\n",
      "t1 = time.time()\n",
      "print t1-t0\n"
     ],
     "language": "python",
     "metadata": {},
     "outputs": [
      {
       "output_type": "stream",
       "stream": "stdout",
       "text": [
        "25521.9303352\n",
        "<numdifftools.core.Jacobian object at 0x000000001747EDA0>"
       ]
      },
      {
       "output_type": "stream",
       "stream": "stdout",
       "text": [
        " [0.001, 1, 1]\n",
        "<numdifftools.core.Jacobian object at 0x000000001747EE10>"
       ]
      },
      {
       "output_type": "stream",
       "stream": "stdout",
       "text": [
        " [-0.0019230227044629436, 1.0233464677701145, 1.0256033693836317]\n",
        "<numdifftools.core.Jacobian object at 0x00000000170C6F98>"
       ]
      },
      {
       "output_type": "stream",
       "stream": "stdout",
       "text": [
        " [-0.0035914072612465396, 1.0245546648214214, 1.0272426702153206]\n",
        "<numdifftools.core.Jacobian object at 0x0000000017497400>"
       ]
      },
      {
       "output_type": "stream",
       "stream": "stdout",
       "text": [
        " [-0.0049419005381446937, 1.0250971274783234, 1.0224333894550717]\n",
        "<numdifftools.core.Jacobian object at 0x00000000174975F8>"
       ]
      },
      {
       "output_type": "stream",
       "stream": "stdout",
       "text": [
        " [-0.0060449389777854591, 1.0250992822634466, 1.0176326191402676]\n",
        "<numdifftools.core.Jacobian object at 0x00000000174979E8>"
       ]
      },
      {
       "output_type": "stream",
       "stream": "stdout",
       "text": [
        " [-0.0068969541548473592, 1.0238831667224202, 1.014042703035928]\n",
        "<numdifftools.core.Jacobian object at 0x0000000017497D68>"
       ]
      },
      {
       "output_type": "stream",
       "stream": "stdout",
       "text": [
        " [-0.0075172574135761562, 1.021151369846971, 1.0116805335501939]\n",
        "<numdifftools.core.Jacobian object at 0x000000001747E710>"
       ]
      },
      {
       "output_type": "stream",
       "stream": "stdout",
       "text": [
        " [-0.0079515631653151175, 1.0173996052184839, 1.0098764578528443]\n",
        "<numdifftools.core.Jacobian object at 0x0000000016FE6F98>"
       ]
      },
      {
       "output_type": "stream",
       "stream": "stdout",
       "text": [
        " [-0.0082522106637357689, 1.0134541063858293, 1.008134776973733]\n",
        "<numdifftools.core.Jacobian object at 0x0000000017497978>"
       ]
      },
      {
       "output_type": "stream",
       "stream": "stdout",
       "text": [
        " [-0.0084613640251113235, 1.009939426785933, 1.0063909085281573]\n",
        "<numdifftools.core.Jacobian object at 0x0000000017497940>"
       ]
      },
      {
       "output_type": "stream",
       "stream": "stdout",
       "text": [
        " [-0.0086077884591664842, 1.0071225236790347, 1.0047910447163009]\n",
        "<numdifftools.core.Jacobian object at 0x0000000017497160>"
       ]
      },
      {
       "output_type": "stream",
       "stream": "stdout",
       "text": [
        " [-0.008710371523907693, 1.0050085423333701, 1.0034641629945122]\n",
        "<numdifftools.core.Jacobian object at 0x000000001748E048>"
       ]
      },
      {
       "output_type": "stream",
       "stream": "stdout",
       "text": [
        " [-0.0087819239736885955, 1.0034825427563183, 1.0024459239599022]\n",
        "<numdifftools.core.Jacobian object at 0x0000000017497F98>"
       ]
      },
      {
       "output_type": "stream",
       "stream": "stdout",
       "text": [
        " [-0.0088315105922376971, 1.002404819387702, 1.0017028008095739]\n",
        "<numdifftools.core.Jacobian object at 0x00000000174977B8>"
       ]
      },
      {
       "output_type": "stream",
       "stream": "stdout",
       "text": [
        " [-0.0088656661336288505, 1.001652995614257, 1.0011759077549316]\n",
        "<numdifftools.core.Jacobian object at 0x0000000017497978>"
       ]
      },
      {
       "output_type": "stream",
       "stream": "stdout",
       "text": [
        " [-0.0088890830991500535, 1.0011324348396859, 1.0008081034293186]\n",
        "<numdifftools.core.Jacobian object at 0x00000000170C32E8>"
       ]
      },
      {
       "output_type": "stream",
       "stream": "stdout",
       "text": [
        " [-0.0089050865169021352, 1.0007738588908432, 1.0005535347425423]\n",
        "<numdifftools.core.Jacobian object at 0x000000001747E1D0>"
       ]
      },
      {
       "output_type": "stream",
       "stream": "stdout",
       "text": [
        " [-0.0089160008531600464, 1.0005278247816585, 1.0003782564949479]\n",
        "<numdifftools.core.Jacobian object at 0x0000000016F894A8>"
       ]
      },
      {
       "output_type": "stream",
       "stream": "stdout",
       "text": [
        " [-0.0089234345772380135, 1.0003595173990767, 1.0002580142554673]\n",
        "<numdifftools.core.Jacobian object at 0x000000001748E4A8>"
       ]
      },
      {
       "output_type": "stream",
       "stream": "stdout",
       "text": [
        " [-0.0089284932509652078, 1.0002446412487658, 1.0001757580309059]\n",
        "<numdifftools.core.Jacobian object at 0x0000000016FD3FD0>"
       ]
      },
      {
       "output_type": "stream",
       "stream": "stdout",
       "text": [
        " [-0.0089319336361283665, 1.0001663614867227, 1.0001196088053281]\n",
        "<numdifftools.core.Jacobian object at 0x000000001747EDA0>"
       ]
      },
      {
       "output_type": "stream",
       "stream": "stdout",
       "text": [
        " [-0.0089342724374060784, 1.0001130796259732, 1.000081342124252]\n",
        "<numdifftools.core.Jacobian object at 0x0000000016FF2898>"
       ]
      },
      {
       "output_type": "stream",
       "stream": "stdout",
       "text": [
        " [-0.0089358618888634722, 1.0000768403058107, 1.0000552926251181]\n",
        "<numdifftools.core.Jacobian object at 0x0000000017497748>"
       ]
      },
      {
       "output_type": "stream",
       "stream": "stdout",
       "text": [
        " [-0.0089369418458555543, 1.0000522047112279, 1.0000375737904785]\n",
        "<numdifftools.core.Jacobian object at 0x0000000017497518>"
       ]
      },
      {
       "output_type": "stream",
       "stream": "stdout",
       "text": [
        " [-0.008937675512316735, 1.0000354628896848, 1.0000255278339771]\n",
        "<numdifftools.core.Jacobian object at 0x000000001748E828>"
       ]
      },
      {
       "output_type": "stream",
       "stream": "stdout",
       "text": [
        " [-0.0089381738735432002, 1.000024087994946, 1.0000173413851601]\n",
        "<numdifftools.core.Jacobian object at 0x000000001748E908>"
       ]
      },
      {
       "output_type": "stream",
       "stream": "stdout",
       "text": [
        " [-0.008938512372866329, 1.0000163606830743, 1.0000117791488545]\n",
        "<numdifftools.core.Jacobian object at 0x0000000017497518>"
       ]
      },
      {
       "output_type": "stream",
       "stream": "stdout",
       "text": [
        " [-0.0089387422784771298, 1.0000111118057695, 1.0000080005006109]\n",
        "<numdifftools.core.Jacobian object at 0x0000000017497B38>"
       ]
      },
      {
       "output_type": "stream",
       "stream": "stdout",
       "text": [
        " [-0.0089388984229325386, 1.000007546678557, 1.0000054337806703]\n",
        "<numdifftools.core.Jacobian object at 0x0000000016FF24A8>"
       ]
      },
      {
       "output_type": "stream",
       "stream": "stdout",
       "text": [
        " [-0.0089390044687540846, 1.0000051252951681, 1.0000036904092813]\n",
        "<numdifftools.core.Jacobian object at 0x000000001747EF28>"
       ]
      },
      {
       "output_type": "stream",
       "stream": "stdout",
       "text": [
        " [-0.0089390764888618718, 1.0000034807781695, 1.0000025063309443]\n",
        "<numdifftools.core.Jacobian object at 0x000000001748EB00>"
       ]
      },
      {
       "output_type": "stream",
       "stream": "stdout",
       "text": [
        " [-0.0089391254001788736, 1.000002363905077, 1.0000017021446841]\n",
        "<numdifftools.core.Jacobian object at 0x000000001748E518>"
       ]
      },
      {
       "output_type": "stream",
       "stream": "stdout",
       "text": [
        " [-0.0089391586172855829, 1.0000016053922389, 1.0000011559806539]\n",
        "<numdifftools.core.Jacobian object at 0x000000001748ED68>"
       ]
      },
      {
       "output_type": "stream",
       "stream": "stdout",
       "text": [
        " [-0.0089391811758834754, 1.0000010902611911, 1.0000007850583976]\n",
        "<numdifftools.core.Jacobian object at 0x00000000170C6208>"
       ]
      },
      {
       "output_type": "stream",
       "stream": "stdout",
       "text": [
        " [-0.0089391964959602433, 1.0000007404210767, 1.0000005331526129]\n",
        "<numdifftools.core.Jacobian object at 0x000000001748E630>"
       ]
      },
      {
       "output_type": "stream",
       "stream": "stdout",
       "text": [
        " [-0.0089392069001624323, 1.0000005028358041, 1.000000362076124]\n",
        "<numdifftools.core.Jacobian object at 0x000000001748EB00>"
       ]
      },
      {
       "output_type": "stream",
       "stream": "stdout",
       "text": [
        " [-0.0089392139658747132, 1.0000003414861267, 1.0000002458937018]\n",
        "<numdifftools.core.Jacobian object at 0x000000001748E4A8>"
       ]
      },
      {
       "output_type": "stream",
       "stream": "stdout",
       "text": [
        " [-0.0089392187643433756, 1.0000002319100556, 1.0000001669914833]\n",
        "<numdifftools.core.Jacobian object at 0x0000000017497DA0>"
       ]
      },
      {
       "output_type": "stream",
       "stream": "stdout",
       "text": [
        " [-0.0089392220230784265, 1.0000001574946571, 1.0000001134072718]\n",
        "<numdifftools.core.Jacobian object at 0x0000000017497668>"
       ]
      },
      {
       "output_type": "stream",
       "stream": "stdout",
       "text": [
        " [-0.0089392242361489033, 1.0000001069576612, 1.0000000770171047]\n",
        "<numdifftools.core.Jacobian object at 0x0000000017497358>"
       ]
      },
      {
       "output_type": "stream",
       "stream": "stdout",
       "text": [
        " [-0.0089392257390876473, 1.0000000726370035, 1.0000000523037944]\n",
        "<numdifftools.core.Jacobian object at 0x0000000016FF2DA0>"
       ]
      },
      {
       "output_type": "stream",
       "stream": "stdout",
       "text": [
        " [-0.008939226759761958, 1.000000049329173, 1.0000000355205141]\n",
        "<numdifftools.core.Jacobian object at 0x00000000174972B0>"
       ]
      },
      {
       "output_type": "stream",
       "stream": "stdout",
       "text": [
        " [-0.00893922745292129, 1.0000000335003778, 1.0000000241226576]\n",
        "<numdifftools.core.Jacobian object at 0x0000000017497E48>"
       ]
      },
      {
       "output_type": "stream",
       "stream": "stdout",
       "text": [
        " [-0.0089392279236588656, 1.0000000227507431, 1.0000000163821519]\n",
        "<numdifftools.core.Jacobian object at 0x000000001748E710>"
       ]
      },
      {
       "output_type": "stream",
       "stream": "stdout",
       "text": [
        " [-0.0089392282433456444, 1.0000000154504562, 1.0000000111254348]\n",
        "<numdifftools.core.Jacobian object at 0x000000001748EC88>"
       ]
      },
      {
       "output_type": "stream",
       "stream": "stdout",
       "text": [
        " [-0.0089392284604509833, 1.0000000104927032, 1.0000000075554834]\n",
        "<numdifftools.core.Jacobian object at 0x000000001748ECF8>"
       ]
      },
      {
       "output_type": "stream",
       "stream": "stdout",
       "text": [
        " [-0.0089392286078912673, 1.0000000071257971, 1.0000000051310729]\n",
        "<numdifftools.core.Jacobian object at 0x000000001747EF98>"
       ]
      },
      {
       "output_type": "stream",
       "stream": "stdout",
       "text": [
        " [-0.0089392287080206721, 1.0000000048392661, 1.000000003484609]\n",
        "<numdifftools.core.Jacobian object at 0x000000001747E8D0>"
       ]
      },
      {
       "output_type": "stream",
       "stream": "stdout",
       "text": [
        " [-0.0089392287760204706, 1.0000000032864289, 1.0000000023664748]\n",
        "<numdifftools.core.Jacobian object at 0x000000001748ECF8>"
       ]
      },
      {
       "output_type": "stream",
       "stream": "stdout",
       "text": [
        " [-0.0089392288222004505, 1.0000000022318767, 1.0000000016071093]\n",
        "<numdifftools.core.Jacobian object at 0x000000001748E940>"
       ]
      },
      {
       "output_type": "stream",
       "stream": "stdout",
       "text": [
        " [-0.0089392288535621953, 1.0000000015157091, 1.0000000010914201]\n",
        "<numdifftools.core.Jacobian object at 0x000000001748E4A8>"
       ]
      },
      {
       "output_type": "stream",
       "stream": "stdout",
       "text": [
        " [-0.0089392288748605039, 1.0000000010293435, 1.000000000741206]\n",
        "<numdifftools.core.Jacobian object at 0x0000000017497A90>"
       ]
      },
      {
       "output_type": "stream",
       "stream": "stdout",
       "text": [
        " [-0.0089392288893246387, 1.0000000006990497, 1.0000000005033616]\n",
        "<numdifftools.core.Jacobian object at 0x00000000174977F0>"
       ]
      },
      {
       "output_type": "stream",
       "stream": "stdout",
       "text": [
        " [-0.0089392288991474878, 1.0000000004747354, 1.0000000003418477]\n",
        "<numdifftools.core.Jacobian object at 0x000000001747C9B0>"
       ]
      },
      {
       "output_type": "stream",
       "stream": "stdout",
       "text": [
        " [-0.0089392289058183583, 1.0000000003224028, 1.0000000002321516]\n",
        "<numdifftools.core.Jacobian object at 0x000000001747CEB8>"
       ]
      },
      {
       "output_type": "stream",
       "stream": "stdout",
       "text": [
        " [-0.0089392289103486736, 1.0000000002189526, 1.0000000001576568]\n",
        "<numdifftools.core.Jacobian object at 0x0000000017497BA8>"
       ]
      },
      {
       "output_type": "stream",
       "stream": "stdout",
       "text": [
        " [-0.0089392289134252682, 1.0000000001486926, 1.0000000001070724]\n",
        "<numdifftools.core.Jacobian object at 0x0000000017497E48>"
       ]
      },
      {
       "output_type": "stream",
       "stream": "stdout",
       "text": [
        " [-0.0089392289155146246, 1.0000000001009757, 1.0000000000727167]\n",
        "<numdifftools.core.Jacobian object at 0x000000001748E978>"
       ]
      },
      {
       "output_type": "stream",
       "stream": "stdout",
       "text": [
        " [-0.0089392289169336076, 1.0000000000685789, 1.0000000000493754]\n",
        "<numdifftools.core.Jacobian object at 0x000000001748E240>"
       ]
      },
      {
       "output_type": "stream",
       "stream": "stdout",
       "text": [
        " [-0.0089392289178972222, 1.0000000000465761, 1.000000000033533]\n",
        "<numdifftools.core.Jacobian object at 0x000000001747EF28>"
       ]
      },
      {
       "output_type": "stream",
       "stream": "stdout",
       "text": [
        " [-0.0089392289185516345, 1.0000000000316405, 1.0000000000227658]\n",
        "<numdifftools.core.Jacobian object at 0x00000000174953C8>"
       ]
      },
      {
       "output_type": "stream",
       "stream": "stdout",
       "text": [
        " [-0.0089392289189960429, 1.0000000000214866, 1.0000000000154714]\n",
        "<numdifftools.core.Jacobian object at 0x00000000170C6208>"
       ]
      },
      {
       "output_type": "stream",
       "stream": "stdout",
       "text": [
        " [-0.0089392289192978674, 1.000000000014591, 1.0000000000105069]\n",
        "<numdifftools.core.Jacobian object at 0x000000001748EC88>"
       ]
      },
      {
       "output_type": "stream",
       "stream": "stdout",
       "text": [
        " [-0.0089392289195028164, 1.0000000000099163, 1.000000000007127]\n",
        "After 64 runs, beta is : -0.00893922891964\n",
        "17.4110000134\n"
       ]
      }
     ],
     "prompt_number": 18
    },
    {
     "cell_type": "code",
     "collapsed": false,
     "input": [
      "#data[\"SIM_Estimates\"] = data[\"Oi\"]*data[\"Ai\"]*data[\"Dj\"]*data[\"Bj\"]*np.exp(data[\"Dij\"]*-.9024551)\n",
      "\n",
      "cor = pearsonr(data[\"Data\"], (data[\"SIM_Estimates\"]))[0]\n",
      "print cor*cor\n"
     ],
     "language": "python",
     "metadata": {},
     "outputs": [
      {
       "output_type": "stream",
       "stream": "stdout",
       "text": [
        "0.976580709196\n"
       ]
      }
     ],
     "prompt_number": 5
    },
    {
     "cell_type": "code",
     "collapsed": false,
     "input": [],
     "language": "python",
     "metadata": {},
     "outputs": [],
     "prompt_number": 5
    },
    {
     "cell_type": "code",
     "collapsed": false,
     "input": [],
     "language": "python",
     "metadata": {},
     "outputs": []
    }
   ],
   "metadata": {}
  }
 ]
}