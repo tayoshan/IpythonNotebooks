{
 "metadata": {
  "name": ""
 },
 "nbformat": 3,
 "nbformat_minor": 0,
 "worksheets": [
  {
   "cells": [
    {
     "cell_type": "code",
     "collapsed": false,
     "input": [
      "import pandas as pd\n",
      "import numpy as np\n",
      "import statsmodels.formula.api as smf\n",
      "import statsmodels.api as sm\n",
      "from scipy.stats.stats import pearsonr\n",
      "from scipy.optimize import newton\n",
      "from scipy.optimize import minimize\n",
      "\n",
      "import math\n",
      "import patsy\n",
      "import time\n",
      "import sympy as sp\n",
      "import numdifftools as ndt\n",
      "\n",
      "data= pd.DataFrame(pd.read_csv('http://dl.dropbox.com/u/8649795/AT_Austria.csv'))\n",
      "#data= pd.DataFrame(pd.read_csv('C:\\Users\\Taylor\\Documents\\SI_Data_Dunfermline.csv'))\n",
      "data = data[data[\"Origin\"] != data[\"Destination\"]]\n",
      "data = data.reset_index(level = 0, drop = True)\n",
      "\n"
     ],
     "language": "python",
     "metadata": {},
     "outputs": [],
     "prompt_number": 2
    },
    {
     "cell_type": "code",
     "collapsed": false,
     "input": [
      "#Step 1: Function to Calculate Sum of all Products of observed flows and log distances for unique pairs\n",
      "def setup(data):\n",
      "    observed = np.sum(data[\"Data\"]*np.log(data[\"Dij\"]*data[\"Oi\"]*data[\"Dj\"]))\n",
      "    data[\"beta\"] = .001\n",
      "    data[\"mu\"] = 1\n",
      "    data[\"sigma\"] = 1\n",
      "    data[\"Bj\"] = 1.0\n",
      "    data[\"Ai\"] = 1.0\n",
      "    data[\"OldAi\"] = 10.0000000000\n",
      "    data[\"OldBj\"] = 10.000000000\n",
      "    data[\"diff\"] = abs((data[\"OldAi\"] - data[\"Ai\"])/data[\"OldAi\"])\n",
      "    return observed, data\n",
      "\n",
      "    \n",
      "#Step 2: Function to Calculate Ai values\n",
      "def calcAi(data):\n",
      "    data[\"Ai\"] = data[\"Bj\"]*(data[\"Dj\"]**data[\"sigma\"])*np.exp(data[\"Dij\"]*data[\"beta\"])\n",
      "\n",
      "#Step 3: Function to Calculate Bj values\n",
      "def calcBj(data):\n",
      "    data[\"Bj\"] = data[\"Ai\"]*(data[\"Oi\"]**data[\"mu\"])*np.exp(data[\"Dij\"]*data[\"beta\"])\n",
      "    \n",
      "\n",
      "#Step 4: Function to check if Ai and Bj have stabilised, if not return to step 2\n",
      "def balanceFactors(data):\n",
      "    its = 0\n",
      "    cnvg = 1\n",
      "\n",
      "    while cnvg > .0001:\n",
      "        its = its + 1\n",
      "        calcAi(data)\n",
      "        AiBF = (data.groupby(\"Origin\").aggregate({\"Ai\": np.sum}))\n",
      "        AiBF[\"Ai\"] = 1/AiBF[\"Ai\"]\n",
      "        updates = AiBF.ix[pd.match(data[\"Origin\"], AiBF.index), \"Ai\"]\n",
      "        data[\"Ai\"] = updates.reset_index(level=0, drop=True) if(updates.notnull().any()) else data[\"Ai\"]\n",
      "        if its == 1:\n",
      "            data[\"OldAi\"] = data[\"Ai\"]\n",
      "        else:\n",
      "            data[\"diff\"] = abs((data[\"OldAi\"] - data[\"Ai\"])/data[\"OldAi\"])\n",
      "            data[\"OldAi\"] = data[\"Ai\"]\n",
      "        \n",
      "        calcBj(data)\n",
      "        BjBF = data.groupby(\"Destination\").aggregate({\"Bj\": np.sum})\n",
      "        BjBF[\"Bj\"] = 1/BjBF[\"Bj\"]    \n",
      "        updates = BjBF.ix[pd.match(data[\"Destination\"], BjBF.index), \"Bj\"]\n",
      "        data[\"Bj\"] = updates.reset_index(level=0, drop=True) if(updates.notnull().any()) else data[\"Bj\"]\n",
      "        if its == 1:\n",
      "            data[\"OldBj\"] = data[\"Bj\"]\n",
      "        else:\n",
      "            data[\"diff\"] = abs((data[\"OldBj\"] - data[\"Bj\"])/data[\"OldBj\"])\n",
      "            data[\"OldBj\"] = data[\"Bj\"]\n",
      "        cnvg = np.sum(data[\"diff\"])\n",
      "        #print its, cnvg, data.beta.ix[0]\n",
      "    return data\n",
      "\n",
      "#Step 5: Function to Calculate Tij' (flow estimates)\n",
      "def estimateFlows(data):\n",
      "    data[\"SIM_Estimates\"] = (data[\"Oi\"]**data[\"mu\"])*data[\"Ai\"]*(data[\"Dj\"]**data[\"sigma\"])*data[\"Bj\"]*np.exp(data[\"Dij\"]*data[\"beta\"])\n",
      "    return data\n",
      "\n",
      "#Step 6: Function to Calculate Sum of all products of Tij' and log distances\n",
      "def estimateCum(data):\n",
      "    return np.sum(data[\"SIM_Estimates\"]*np.log(data[\"Dij\"]*data[\"Oi\"]*data[\"Dj\"]))\n",
      "   \n",
      "    \n",
      "def function(x,a,b,c,d,e,f):\n",
      "    return  (np.sum(c*d*e*f*np.exp(b*x)*np.log(b)))- (np.sum(a*np.log(b)))\n",
      "\n",
      "#Function to compute the Jacobian matrix of parameter values\n",
      "def Jac(initParams, data):\n",
      "    #N by 1 array of functions representing the constraints which need to be met to obtain parameters\n",
      "    functionBk = np.array([computef1(initParams, data), computef2(initParams, data), computef3(initParams, data)])\n",
      "    \n",
      "    #Three N by 1 arrays of Jacobian terms which are stacked into an N by N Matrix (jac)\n",
      "    f1Jac = ndt.Jacobian(lambda x: np.sum((data.Oi**x[1])*data.Ai*data.Bj*(data.Dj**x[2])*np.exp(data.Dij*x[0])*np.log(data.Dij))- (np.sum(data.Data*np.log(data.Dij))))\n",
      "    f2Jac = ndt.Jacobian(lambda x: np.sum((data.Oi**x[1])*data.Ai*data.Bj*(data.Dj**x[2])*np.exp(data.Dij*x[0])*np.log(data.Oi))- (np.sum(data.Data*np.log(data.Oi))))\n",
      "    f3Jac = ndt.Jacobian(lambda x: np.sum((data.Oi**x[1])*data.Ai*data.Bj*(data.Dj**x[2])*np.exp(data.Dij*x[0])*np.log(data.Dj))- (np.sum(data.Data*np.log(data.Dj))))\n",
      "    f1 = f1Jac(initParams).flatten() \n",
      "    f2 = f2Jac(initParams).flatten()\n",
      "    f3 = f3Jac(initParams).flatten()\n",
      "    jac = np.array([f1,f2,f3])\n",
      "    \n",
      "    #N by 1 array of current parameter values\n",
      "    Bk = np.array([initParams[0], initParams[1], initParams[2]])\n",
      "\n",
      "    #Get new parameter estimates by subtracting from the original estimates the inverse of the product of the jacobian matrix and array of constraints\n",
      "    return Bk - np.dot(np.linalg.inv(jac),functionBk)\n",
      "   \n",
      "\n",
      "#Commputes the value of one    \n",
      "def computef1(x, data):\n",
      "    return (np.sum((data.Oi**x[1])*data.Ai*data.Bj*(data.Dj**x[2])*np.exp(data.Dij*x[0])*np.log(data.Dij))- (np.sum(data.Data*np.log(data.Dij))))\n",
      "    \n",
      "def computef2(x, data):\n",
      "    return (np.sum((data.Oi**x[1])*data.Ai*data.Bj*(data.Dj**x[2])*np.exp(data.Dij*x[0])*np.log(data.Oi))- (np.sum(data.Data*np.log(data.Oi))))\n",
      "\n",
      "def computef3(x, data):\n",
      "    return (np.sum((data.Oi**x[1])*data.Ai*data.Bj*(data.Dj**x[2])*np.exp(data.Dij*x[0])*np.log(data.Dj))- (np.sum(data.Data*np.log(data.Dj))))\n",
      "\n",
      "'''\n",
      "def standErrors(params, data):\n",
      "    logLike = np.sum(data[\"Data\"] * np.log((data[\"SIM_Estimates\"]/np.sum(data[\"SIM_Estimates\"]))))\n",
      "    \n",
      "def altSig(params, data):\n",
      "    for each param in params:\n",
      "        logLike = np.sum(data[\"Data\"] * np.log((data[\"SIM_Estimates\"]/np.sum(data[\"SIM_Estimates\"]))))\n",
      "        sig = 2 * np.sum(data[\"Data\"]) * ()\n",
      "        '''"
     ],
     "language": "python",
     "metadata": {},
     "outputs": [
      {
       "metadata": {},
       "output_type": "pyout",
       "prompt_number": 3,
       "text": [
        "'\\ndef standErrors(params, data):\\n    logLike = np.sum(data[\"Data\"] * np.log((data[\"SIM_Estimates\"]/np.sum(data[\"SIM_Estimates\"]))))\\n    \\ndef altSig(params, data):\\n    for each param in params:\\n        logLike = np.sum(data[\"Data\"] * np.log((data[\"SIM_Estimates\"]/np.sum(data[\"SIM_Estimates\"]))))\\n        sig = 2 * np.sum(data[\"Data\"]) * ()\\n        '"
       ]
      }
     ],
     "prompt_number": 3
    },
    {
     "cell_type": "code",
     "collapsed": false,
     "input": [
      "def dConstrain(data):\n",
      "    its = 0\n",
      "    observed, data = setup(data)\n",
      "    data = balanceFactors(data)\n",
      "    data = estimateFlows(data)\n",
      "    estimates = estimateCum(data)\n",
      "    print abs(estimates-observed)\n",
      "    while abs(estimates - observed) > .0001:\n",
      "        #print abs(estimates-observed)\n",
      "        jac =  Jac([data[\"beta\"].ix[0],data[\"mu\"].ix[0],data[\"sigma\"].ix[0]], data)\n",
      "        data[\"beta\"], data[\"mu\"], data[\"sigma\"] = jac[0], jac[1], jac[2]\n",
      "        #data[\"beta\"] = newton(function, data[\"beta\"].ix[0], args=(data.Data, data.Dij, data.Oi, data.Ai, data.Dj, data.Bj))\n",
      "        data = balanceFactors(data)\n",
      "        data = estimateFlows(data)\n",
      "        estimates = estimateCum(data)\n",
      "        its += 1\n",
      "\n",
      "    print \"After \" + str(its) + \" runs, beta is : \" + str(data[\"beta\"].ix[0])\n",
      "    return data\n"
     ],
     "language": "python",
     "metadata": {},
     "outputs": [],
     "prompt_number": 4
    },
    {
     "cell_type": "code",
     "collapsed": false,
     "input": [
      "\n",
      "t0 = time.time()\n",
      "data = dConstrain(data)\n",
      "t1 = time.time()\n",
      "print t1-t0\n"
     ],
     "language": "python",
     "metadata": {},
     "outputs": [
      {
       "output_type": "stream",
       "stream": "stdout",
       "text": [
        "25521.9303352\n",
        "After 64 runs, beta is : -0.00893922891964"
       ]
      },
      {
       "output_type": "stream",
       "stream": "stdout",
       "text": [
        "\n",
        "17.993999958\n"
       ]
      }
     ],
     "prompt_number": 5
    },
    {
     "cell_type": "code",
     "collapsed": false,
     "input": [
      "#data[\"SIM_Estimates\"] = data[\"Oi\"]*data[\"Ai\"]*data[\"Dj\"]*data[\"Bj\"]*np.exp(data[\"Dij\"]*-.9024551)\n",
      "\n",
      "cor = pearsonr(data[\"Data\"], (data[\"SIM_Estimates\"]))[0]\n",
      "print cor*cor\n"
     ],
     "language": "python",
     "metadata": {},
     "outputs": [
      {
       "output_type": "stream",
       "stream": "stdout",
       "text": [
        "0.976580709196\n"
       ]
      }
     ],
     "prompt_number": 6
    },
    {
     "cell_type": "code",
     "collapsed": false,
     "input": [],
     "language": "python",
     "metadata": {},
     "outputs": [],
     "prompt_number": 8
    },
    {
     "cell_type": "code",
     "collapsed": false,
     "input": [],
     "language": "python",
     "metadata": {},
     "outputs": []
    }
   ],
   "metadata": {}
  }
 ]
}