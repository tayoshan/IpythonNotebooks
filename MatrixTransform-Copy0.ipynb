{
 "metadata": {
  "name": ""
 },
 "nbformat": 3,
 "nbformat_minor": 0,
 "worksheets": [
  {
   "cells": [
    {
     "cell_type": "code",
     "collapsed": false,
     "input": [
      "import networkx as nx\n",
      "import numpy as np\n",
      "import pandas as pd\n",
      "import statsmodels.formula.api as smf\n",
      "from scipy.stats.stats import pearsonr\n",
      "import statsmodels.api as sm\n",
      "import geopandas as gp\n",
      "import matplotlib as plt\n",
      "import string\n",
      "import math\n",
      "import patsy\n",
      "\n",
      "#LOAD AND PREPARE MATRIX \n",
      "\n",
      "dZones = pd.read_csv('C:\\Users\\Taylor\\Documents\\datazones_dunfermline.csv')\n",
      "\n",
      "dZones = pd.DataFrame(dZones)\n",
      "\n",
      "data = pd.read_csv('C:\\Users\\Taylor\\Documents\\TestMatrix5.csv')\n",
      "\n",
      "data = pd.DataFrame(data)\n",
      "\n",
      "dists = pd.read_csv('C:\\Users\\Taylor\\Documents\\dists_dunfermline.csv')\n",
      "\n",
      "dists = pd.DataFrame(dists)\n",
      "\n",
      "data = data.drop(\"Total Origin\", 1)\n",
      "\n",
      "data = data.drop(data.tail(1).index)\n",
      "\n",
      "data = data.fillna(0)\n",
      "\n",
      "data = data.set_index('Row Labels')\n",
      "\n",
      "origins, destinations, trips, Oi, Dj, Oid, Did, Dij, Off = [], [], [], [], [], [], [], [], []\n"
     ],
     "language": "python",
     "metadata": {},
     "outputs": [],
     "prompt_number": 1
    },
    {
     "cell_type": "code",
     "collapsed": false,
     "input": [
      "#FILTER DOWN MATRIX TO ONLY PLACES OF INTEREST\n",
      "\n",
      "for i, row in data.T.iteritems():\n",
      "    if dZones['DZ_NAME'].str.contains(i.translate(None, \",\" + string.digits)).any() == False:\n",
      "        data = data.drop(i)\n",
      "\n",
      " \n",
      "for j, col in data.iteritems():\n",
      "    if dZones['DZ_NAME'].str.contains(j.translate(None, \",\" + string.digits)).any() == False:\n",
      "        data = data.drop(j,1)\n",
      "      \n",
      "\n",
      "print \"Number of Origins and Destinations: \" + str(len(data)), str(len(data.columns))"
     ],
     "language": "python",
     "metadata": {},
     "outputs": [
      {
       "output_type": "stream",
       "stream": "stdout",
       "text": [
        "Number of Origins and Destinations: 57 57\n"
       ]
      }
     ],
     "prompt_number": 2
    },
    {
     "cell_type": "code",
     "collapsed": false,
     "input": [
      "#MAKE ALL INTERNAL COMMUTES EQUAL TO ZERO\n",
      "for i, row in data.T.iteritems():\n",
      "    for j, col in data.iteritems():\n",
      "        if i == j:\n",
      "            data[i].ix[data.columns.get_loc(j)] = 0"
     ],
     "language": "python",
     "metadata": {},
     "outputs": [],
     "prompt_number": 3
    },
    {
     "cell_type": "code",
     "collapsed": false,
     "input": [
      "            \n",
      "#NOW TAKE TOTALS FOR ORIGIN AND DESTINATION \n",
      "totalOrigin = data.sum()\n",
      "totalDestination = data.sum(1)\n",
      "print \"Total trips for Origins and Destinations: \" + str(sum(totalOrigin)), str(sum(totalDestination))\n",
      "print \"Number of Origins and Destinations: \" + str(len(data)), str(len(data.columns))"
     ],
     "language": "python",
     "metadata": {},
     "outputs": [
      {
       "output_type": "stream",
       "stream": "stdout",
       "text": [
        "Total trips for Origins and Destinations: 827.0 827.0\n",
        "Number of Origins and Destinations: 57 57\n"
       ]
      }
     ],
     "prompt_number": 4
    },
    {
     "cell_type": "code",
     "collapsed": false,
     "input": [
      "for i, row in data.T.iteritems():\n",
      "    for j, col in data.iteritems():\n",
      "        origins.append(i.translate(None, \",\" + string.digits))\n",
      "        Oid.append(i.translate(None, \",\" + string.letters + \"&\"))\n",
      "        destinations.append(j.translate(None, \",\" + string.digits))\n",
      "        Did.append(j.translate(None, \",\" + string.letters + \"&\"))\n",
      "        Oi.append(totalOrigin.ix[data.index.get_loc(i)])\n",
      "        Dj.append(totalDestination.ix[data.index.get_loc(j)])\n",
      "        trips.append(data.ix[i,data.columns.get_loc(j)])\n",
      "        if i == j:\n",
      "            Dij.append(10**-300)\n",
      "            Off.append(10**-300)\n",
      "        else:\n",
      "            Off.append(1)\n",
      "            dist = dists[((dists[\"InputID\"] == int(i.translate(None, \",\" + string.letters + \"&\"))) & (dists[\"TargetID\"] ==    int(j.translate(None, \",\" + string.letters + \"&\"))))]\n",
      "            Dij.append(int(dist['Distance']))\n",
      "\n",
      "\n",
      "names = [\"Origin\", \"Destination\", \"Data\", \"Oi\", \"Dj\", \"OID\", \"DID\", \"Dij\", \"Offset\"]\n",
      "ints = zip( origins, destinations, trips, Oi, Dj, Oid, Did, Dij, Off)\n",
      "\n",
      "\n",
      "Dunfermline = pd.DataFrame(ints, columns=names)\n",
      "\n",
      "\n",
      "Dunfermline = Dunfermline.reset_index().ix[:,1:]\n",
      "        \n",
      "        \n",
      "Dunfermline.to_csv('C:\\Users\\Taylor\\Documents\\SI_Data_Dunfermline.csv', index = False)\n",
      "\n"
     ],
     "language": "python",
     "metadata": {},
     "outputs": [],
     "prompt_number": 5
    },
    {
     "cell_type": "code",
     "collapsed": false,
     "input": [
      "#Dunfermline = Dunfermline[Dunfermline[\"Origin\"]!=Dunfermline[\"Destination\"]]\n",
      "\n",
      "results = smf.glm('Data~Origin+Destination+np.log(Dij)', offset=np.log(Dunfermline[\"Offset\"]), data=Dunfermline, family=sm.families.Poisson()).fit()"
     ],
     "language": "python",
     "metadata": {},
     "outputs": [],
     "prompt_number": 6
    },
    {
     "cell_type": "code",
     "collapsed": false,
     "input": [
      "\n",
      "\n",
      "cor = pearsonr(results.fittedvalues, Dunfermline[\"Data\"])[0]\n",
      "print cor*cor"
     ],
     "language": "python",
     "metadata": {},
     "outputs": [
      {
       "output_type": "stream",
       "stream": "stdout",
       "text": [
        "0.64060806681\n"
       ]
      }
     ],
     "prompt_number": 9
    },
    {
     "cell_type": "code",
     "collapsed": false,
     "input": [],
     "language": "python",
     "metadata": {},
     "outputs": [],
     "prompt_number": 8
    },
    {
     "cell_type": "code",
     "collapsed": false,
     "input": [
      "Data = Dunfermline[Dunfermline[\"Origin\"] != Dunfermline[\"Destination\"]]\n",
      "#Data[Data[\"Dij\"] < .00001] = 1e-300\n",
      "\n",
      "\n",
      "#Models using inverse power distance function\n",
      "unConstrained = smf.glm('Data~np.log(Dij)', data=Data, family=sm.families.Poisson(link=sm.families.links.log)).fit()\n",
      "originConstrained = smf.glm('Data~Origin+np.log(Dij)', data=Data, family=sm.families.Poisson(link=sm.families.links.log)).fit()\n",
      "destConstrained = smf.glm('Data~Destination+np.log(Dij)', data=Data, family=sm.families.Poisson(link=sm.families.links.log)).fit()\n",
      "doubleConstrained = smf.glm('Data~Origin+Destination+np.log(Dij)', data=Data, family=sm.families.Poisson(link=sm.families.links.log)).fit()\n",
      "\n",
      "print \"MODEL RESULTS USING INVERSE POWER DISTANCE FUNCTION\"\n",
      "\n",
      "cor = pearsonr(unConstrained.fittedvalues, Data[\"Data\"])[0]\n",
      "print \"R-squared for unconstrained model is: \" + str(cor*cor)\n",
      "\n",
      "\n",
      "cor = pearsonr(originConstrained.fittedvalues, Data[\"Data\"])[0]\n",
      "print \"R-squared for origin-constrained model is: \" + str(cor*cor)\n",
      "\n",
      "cor = pearsonr(destConstrained.fittedvalues, Data[\"Data\"])[0]\n",
      "print \"R-squared for destination-constrained model is: \" + str(cor*cor)\n",
      "\n",
      "cor = pearsonr(doubleConstrained.fittedvalues, Data[\"Data\"])[0]\n",
      "print \"R-squared for doubly-constrained model is: \" + str(cor*cor)\n",
      "\n",
      "\n",
      "#Models using negative exponential distance function\n",
      "unConstrained = smf.glm('Data~Dij', data=Data, family=sm.families.Poisson(link=sm.families.links.log)).fit()\n",
      "originConstrained = smf.glm('Data~Origin+Dij', data=Data, family=sm.families.Poisson(link=sm.families.links.log)).fit()\n",
      "destConstrained = smf.glm('Data~Destination+Dij', data=Data, family=sm.families.Poisson(link=sm.families.links.log)).fit(maxiter = 5000)\n",
      "doubleConstrained = smf.glm('Data~Origin+Destination+Dij', data=Data, family=sm.families.Poisson(link=sm.families.links.log)).fit(maxiter=5000)\n",
      "print \"MODEL RESULTS USING NEGATIVE EXPONENTIAL DISTANCE FUNCTION\"\n",
      "\n",
      "cor = pearsonr(unConstrained.fittedvalues, Data[\"Data\"])[0]\n",
      "print \"R-squared for unconstrained model is: \" + str(cor*cor)\n",
      "\n",
      "\n",
      "cor = pearsonr(originConstrained.fittedvalues, Data[\"Data\"])[0]\n",
      "print \"R-squared for origin-constrained model is: \" + str(cor*cor)\n",
      "\n",
      "\n",
      "cor = pearsonr(destConstrained.fittedvalues, Data[\"Data\"])[0]\n",
      "print \"R-squared for destination-constrained model is: \" + str(cor*cor)\n",
      "\n",
      "cor = pearsonr(doubleConstrained.fittedvalues, Data[\"Data\"])[0]\n",
      "print \"R-squared for doubly-constrained model is: \" + str(cor*cor)\n"
     ],
     "language": "python",
     "metadata": {},
     "outputs": [
      {
       "output_type": "stream",
       "stream": "stdout",
       "text": [
        "MODEL RESULTS USING INVERSE POWER DISTANCE FUNCTION\n",
        "R-squared for unconstrained model is: 0.0216500408699\n",
        "R-squared for origin-constrained model is: 0.201858475602\n",
        "R-squared for destination-constrained model is: 0.197279565236\n",
        "R-squared for doubly-constrained model is: 0.65398880927\n",
        "MODEL RESULTS USING NEGATIVE EXPONENTIAL DISTANCE FUNCTION"
       ]
      },
      {
       "output_type": "stream",
       "stream": "stdout",
       "text": [
        "\n",
        "R-squared for unconstrained model is: 0.0017368691029\n",
        "R-squared for origin-constrained model is: 0.113604880741\n",
        "R-squared for destination-constrained model is: 0.103089979779\n",
        "R-squared for doubly-constrained model is: 0.389157256015\n"
       ]
      }
     ],
     "prompt_number": 13
    },
    {
     "cell_type": "code",
     "collapsed": false,
     "input": [],
     "language": "python",
     "metadata": {},
     "outputs": []
    }
   ],
   "metadata": {}
  }
 ]
}