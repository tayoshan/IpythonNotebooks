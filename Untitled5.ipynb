{
 "metadata": {
  "name": ""
 },
 "nbformat": 3,
 "nbformat_minor": 0,
 "worksheets": [
  {
   "cells": [
    {
     "cell_type": "code",
     "collapsed": false,
     "input": [
      "import pySI as SI\n",
      "import pandas as pd\n",
      "import numpy as np\n",
      "import time\n",
      "import sympy\n",
      "\n",
      "\n",
      "\n",
      "data = pd.DataFrame(pd.read_csv(\"C:\\\\Users\\\\Taylor\\\\Documents\\\\london_flows.csv\"))\n",
      "\n"
     ],
     "language": "python",
     "metadata": {},
     "outputs": [],
     "prompt_number": 1
    },
    {
     "cell_type": "code",
     "collapsed": false,
     "input": [
      "t0 = time.time()\n",
      "\n",
      "model = SI.calibrate(data=data, trips='Data', sep='distance', cost='pow', constraints={'production':'Origin', 'attraction':'Destination'})\n",
      "\n",
      "results = model.mle(initialParams={'beta':0})\n",
      "\n",
      "\n",
      "#results = model.regression()\n",
      "\n",
      "t1 = time.time()\n",
      "print t1-t0"
     ],
     "language": "python",
     "metadata": {},
     "outputs": [
      {
       "output_type": "stream",
       "stream": "stdout",
       "text": [
        "2\n",
        "0     2068\n",
        "1     2068\n",
        "2     2068\n",
        "3     2068\n",
        "4     2068\n",
        "5     2068\n",
        "6     2068\n",
        "7     2068\n",
        "8     2068\n",
        "9     2068\n",
        "10    2068\n",
        "11    2068\n",
        "12    2068\n",
        "13    2068\n",
        "14    2068\n",
        "...\n",
        "1041    39265\n",
        "1042    39265\n",
        "1043    39265\n",
        "1044    39265\n",
        "1045    39265\n",
        "1046    39265\n",
        "1047    39265\n",
        "1048    39265\n",
        "1049    39265\n",
        "1050    39265\n",
        "1051    39265\n",
        "1052    39265\n",
        "1053    39265\n",
        "1054    39265\n",
        "1055    39265\n",
        "Name: Oi, Length: 1056, dtype: int64\n",
        "4\n",
        "After 1 runs, beta is : -1.9243164"
       ]
      },
      {
       "output_type": "stream",
       "stream": "stdout",
       "text": [
        "\n",
        "1.15499997139\n"
       ]
      }
     ],
     "prompt_number": 5
    },
    {
     "cell_type": "code",
     "collapsed": false,
     "input": [],
     "language": "python",
     "metadata": {},
     "outputs": []
    }
   ],
   "metadata": {}
  }
 ]
}