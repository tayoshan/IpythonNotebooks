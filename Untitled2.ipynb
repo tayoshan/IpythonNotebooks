{
 "metadata": {
  "name": ""
 },
 "nbformat": 3,
 "nbformat_minor": 0,
 "worksheets": [
  {
   "cells": [
    {
     "cell_type": "code",
     "collapsed": false,
     "input": [
      "import numpy as np\n",
      "import pandas as pd\n",
      "import statsmodels.formula.api as smf\n",
      "\n",
      "# Load data\n",
      "url = 'http://vincentarelbundock.github.io/Rdatasets/csv/HistData/Guerry.csv'\n",
      "dat = pd.read_csv(url)\n",
      "\n",
      "# Fit regression model (using the natural log of one of the regressors)\n",
      "results = smf.glm('Lottery ~ Literacy + np.log(Pop1831)', data=dat).fit()\n",
      "\n",
      "# Inspect the results\n",
      "print results.summary()"
     ],
     "language": "python",
     "metadata": {},
     "outputs": [
      {
       "output_type": "stream",
       "stream": "stdout",
       "text": [
        "                            OLS Regression Results                            \n",
        "==============================================================================\n",
        "Dep. Variable:                Lottery   R-squared:                       0.348\n",
        "Model:                            OLS   Adj. R-squared:                  0.333\n",
        "Method:                 Least Squares   F-statistic:                     22.20\n",
        "Date:                Mon, 10 Feb 2014   Prob (F-statistic):           1.90e-08\n",
        "Time:                        15:23:47   Log-Likelihood:                -379.82\n",
        "No. Observations:                  86   AIC:                             765.6\n",
        "Df Residuals:                      83   BIC:                             773.0\n",
        "Df Model:                           2                                         \n",
        "===================================================================================\n",
        "                      coef    std err          t      P>|t|      [95.0% Conf. Int.]\n",
        "-----------------------------------------------------------------------------------\n",
        "Intercept         246.4341     35.233      6.995      0.000       176.358   316.510\n",
        "Literacy           -0.4889      0.128     -3.832      0.000        -0.743    -0.235\n",
        "np.log(Pop1831)   -31.3114      5.977     -5.239      0.000       -43.199   -19.424\n",
        "==============================================================================\n",
        "Omnibus:                        3.713   Durbin-Watson:                   2.019\n",
        "Prob(Omnibus):                  0.156   Jarque-Bera (JB):                3.394\n",
        "Skew:                          -0.487   Prob(JB):                        0.183\n",
        "Kurtosis:                       3.003   Cond. No.                         702.\n",
        "==============================================================================\n"
       ]
      }
     ],
     "prompt_number": 1
    },
    {
     "cell_type": "code",
     "collapsed": false,
     "input": [],
     "language": "python",
     "metadata": {},
     "outputs": []
    }
   ],
   "metadata": {}
  }
 ]
}