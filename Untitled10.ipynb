{
 "metadata": {
  "name": ""
 },
 "nbformat": 3,
 "nbformat_minor": 0,
 "worksheets": [
  {
   "cells": [
    {
     "cell_type": "code",
     "collapsed": false,
     "input": [
      "import geopandas as gp\n",
      "import matplotlib.pyplot as plt\n",
      "\n",
      "%pylab inline"
     ],
     "language": "python",
     "metadata": {},
     "outputs": [
      {
       "output_type": "stream",
       "stream": "stdout",
       "text": [
        "Populating the interactive namespace from numpy and matplotlib\n"
       ]
      }
     ],
     "prompt_number": 19
    },
    {
     "cell_type": "code",
     "collapsed": false,
     "input": [
      "states = gp.read_file('C:\\Users\\Taylor\\Documents\\states\\states.shp')"
     ],
     "language": "python",
     "metadata": {},
     "outputs": [],
     "prompt_number": 32
    },
    {
     "cell_type": "code",
     "collapsed": false,
     "input": [
      "states = states[states['STATE_NAME'] == 'Hawaii']"
     ],
     "language": "python",
     "metadata": {},
     "outputs": [],
     "prompt_number": 24
    },
    {
     "cell_type": "code",
     "collapsed": false,
     "input": [
      "states.geometry"
     ],
     "language": "python",
     "metadata": {},
     "outputs": [
      {
       "metadata": {},
       "output_type": "pyout",
       "prompt_number": 35,
       "text": [
        "0     (POLYGON ((-160.0738033454682 22.0041773479577...\n",
        "1     (POLYGON ((-122.4020153103836 48.2252163723779...\n",
        "2     POLYGON ((-111.4754253002074 44.70216236909688...\n",
        "3     (POLYGON ((-69.77727626137293 44.0741483685119...\n",
        "4     POLYGON ((-98.73043728833767 45.93827137024809...\n",
        "5     POLYGON ((-102.7883842921169 42.99530336750724...\n",
        "6     POLYGON ((-104.0536152932953 41.69821836629923...\n",
        "7     (POLYGON ((-87.74855527810999 44.9616163693385...\n",
        "8     POLYGON ((-117.026295305377 43.67903136814401,...\n",
        "9     POLYGON ((-73.25806026461467 42.74605836727511...\n",
        "10    POLYGON ((-91.73036628181835 43.49957136797688...\n",
        "11    POLYGON ((-121.441509309489 41.99433436657502,...\n",
        "12    POLYGON ((-72.27991726370371 42.72046736725127...\n",
        "13    POLYGON ((-91.12013228125002 40.70544336537464...\n",
        "14    (POLYGON ((-71.31932826280908 41.7721953663681...\n",
        "15    POLYGON ((-101.4073932908308 40.00100336471859...\n",
        "16    (POLYGON ((-79.76323527067309 42.2673273668292...\n",
        "17    POLYGON ((-77.47579326854275 39.71962336445652...\n",
        "18    POLYGON ((-73.5303922648683 41.52274536613581,...\n",
        "19    (POLYGON ((-71.79019426324761 41.6013073662089...\n",
        "20    POLYGON ((-75.48928026669266 39.71485836445208...\n",
        "21    POLYGON ((-86.34160627679967 38.17728836302011...\n",
        "22    POLYGON ((-119.1524503073572 38.41180136323852...\n",
        "23    POLYGON ((-114.0472733026026 38.1376523629832,...\n",
        "24    (POLYGON ((-121.6652203096974 38.1692853630126...\n",
        "25    POLYGON ((-83.27275527394158 38.60925736342242...\n",
        "26    POLYGON ((-88.07159127841085 37.51103836239962...\n",
        "27    POLYGON ((-77.007930268107 38.96666736375528, ...\n",
        "28    POLYGON ((-75.70707326689549 38.5575913633743,...\n",
        "29    POLYGON ((-79.23166327017802 38.48049636330249...\n",
        "30    (POLYGON ((-75.71071226689888 38.6496653634600...\n",
        "31    POLYGON ((-102.0444562914241 37.6414743625211,...\n",
        "32    (POLYGON ((-86.51066827695712 36.6550743616024...\n",
        "33    POLYGON ((-95.07193128493042 37.00147836192505...\n",
        "34    (POLYGON ((-79.14406327009644 36.5461983615010...\n",
        "35    POLYGON ((-89.10503427937331 36.95392236188076...\n",
        "36    POLYGON ((-114.5206273030434 33.02770735822419...\n",
        "37    POLYGON ((-94.43932228434126 34.92915135999505...\n",
        "38    (POLYGON ((-83.98845427460813 34.9891513600509...\n",
        "39    POLYGON ((-83.9546082745766 35.45554436048529,...\n",
        "40    (POLYGON ((-105.9988862951069 31.3939403567026...\n",
        "41    POLYGON ((-109.049495297948 32.44204435767875,...\n",
        "42    POLYGON ((-85.07006727561546 31.98070335724909...\n",
        "43    POLYGON ((-88.45080327876401 31.43561735674144...\n",
        "44    (POLYGON ((-85.13016527567143 31.7788533570611...\n",
        "45    (POLYGON ((-81.75959327253234 33.1953813583803...\n",
        "46    POLYGON ((-94.46169128436209 34.19676535931296...\n",
        "47    (POLYGON ((-93.70752428365972 30.2395783556275...\n",
        "48    (POLYGON ((-80.7856622716253 28.78519435427305...\n",
        "49    (POLYGON ((-88.49752727880752 48.1737953723300...\n",
        "50    (POLYGON ((-161.3337853466416 58.7332483821643...\n",
        "Name: geometry, Length: 51, dtype: object"
       ]
      }
     ],
     "prompt_number": 35
    },
    {
     "cell_type": "code",
     "collapsed": false,
     "input": [
      "\n"
     ],
     "language": "python",
     "metadata": {},
     "outputs": [],
     "prompt_number": 25
    },
    {
     "cell_type": "code",
     "collapsed": false,
     "input": [],
     "language": "python",
     "metadata": {},
     "outputs": []
    }
   ],
   "metadata": {}
  }
 ]
}