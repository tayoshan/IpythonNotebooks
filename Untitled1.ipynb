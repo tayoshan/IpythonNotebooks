{
 "metadata": {
  "name": ""
 },
 "nbformat": 3,
 "nbformat_minor": 0,
 "worksheets": [
  {
   "cells": [
    {
     "cell_type": "code",
     "collapsed": false,
     "input": [
      "import geopandas as gp\n",
      "%matplotlib inline\n",
      "import matplotlib as plt\n",
      "subway = gp.GeoDataFrame.from_file('C:\\\\Users\\\\Taylor\\\\Documents\\\\nyctsubwayroutes_100627.shp')\n",
      "\n",
      "import networkx as nx\n",
      "\n",
      "nodes = {0:(1,3),1:(1,2),2:(2,1),3:(2,2),4:(2,3),5:(2,6),6:(2,7),7:(3,2),8:(3,3),9:(3,5),10:(3,7),11:(4,1),12:(4,2),13:(4,4),14:(4,5),15:(4,6),16:(5,1),17:(5,3),18:(5,4),19:(5,5),20:(5,6),21:(6,1),22:(6,3),23:(6,4),24:(6,5),25:(7,3),26:(7,6)}\n",
      "\n",
      "net = nx.Graph()\n",
      "\n",
      "\n",
      "nx.draw(net, nodes)\n",
      "plt.pyplot.plot()import geopandas as gp\n",
      "%matplotlib inline\n",
      "import matplotlib as plt\n",
      "subway = gp.GeoDataFrame.from_file('C:\\\\Users\\\\Taylor\\\\Documents\\\\nyctsubwayroutes_100627.shp')\n",
      "\n",
      "import networkx as nx\n",
      "\n",
      "nodes = {0:(1,3),1:(1,2),2:(2,1),3:(2,2),4:(2,3),5:(2,6),6:(2,7),7:(3,2),8:(3,3),9:(3,5),10:(3,7),11:(4,1),12:(4,2),13:(4,4),14:(4,5),15:(4,6),16:(5,1),17:(5,3),18:(5,4),19:(5,5),20:(5,6),21:(6,1),22:(6,3),23:(6,4),24:(6,5),25:(7,3),26:(7,6)}\n",
      "\n",
      "net = nx.Graph()\n",
      "\n",
      "\n",
      "nx.draw(net, nodes)\n",
      "plt.pyplot.plot()"
     ],
     "language": "python",
     "metadata": {},
     "outputs": [
      {
       "metadata": {},
       "output_type": "pyout",
       "prompt_number": 88,
       "text": [
        "[]"
       ]
      },
      {
       "metadata": {},
       "output_type": "display_data",
       "png": "[encoded data removed]",
       "text": [
        "<matplotlib.figure.Figure at 0xf3de940>"
       ]
      }
     ],
     "prompt_number": 88
    }
   ],
   "metadata": {}
  }
 ]
}