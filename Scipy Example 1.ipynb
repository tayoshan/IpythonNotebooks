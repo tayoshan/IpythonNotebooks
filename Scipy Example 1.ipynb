{
 "metadata": {
  "name": ""
 },
 "nbformat": 3,
 "nbformat_minor": 0,
 "worksheets": [
  {
   "cells": [
    {
     "cell_type": "code",
     "collapsed": false,
     "input": [
      "import pySI as SI\n",
      "import pandas as pd\n",
      "import numpy as np\n",
      "import time\n",
      "import matplotlib.pyplot as plt\n",
      "%pylab inline\n",
      "\n",
      "\n",
      "data = pd.DataFrame(pd.read_csv(\"C:\\\\Users\\\\Taylor\\\\Documents\\\\SIMODELTESTDATA2.csv\"))\n",
      "data[['Origin', 'Destination']] = data[['Origin', 'Destination']].astype(str)\n",
      "\n"
     ],
     "language": "python",
     "metadata": {},
     "outputs": [
      {
       "output_type": "stream",
       "stream": "stdout",
       "text": [
        "Populating the interactive namespace from numpy and matplotlib\n"
       ]
      }
     ],
     "prompt_number": 3
    },
    {
     "cell_type": "code",
     "collapsed": false,
     "input": [
      "data = pd.DataFrame(pd.read_csv(\"C:\\\\Users\\\\Taylor\\\\Documents\\\\SIMODELTESTDATA2.csv\"))\n",
      "\n",
      "O = 'Origin'\n",
      "D = 'Destination'\n",
      "T = 'Data'\n",
      "S = 'Dij'\n",
      "C = 'pow'\n",
      "F= {'destinations':['Pop']}\n",
      "CS = {'production':'Origin'}\n",
      "\n",
      "model = SI.calibrate(data=data, origins=O, destinations=D, trips=T, sep=S, cost=C, factors=F, constraints=CS)\n",
      "\n",
      "mleResults = model.mle(initialParams={'beta':0, 'Pop':1})\n",
      "\n",
      "\n"
     ],
     "language": "python",
     "metadata": {},
     "outputs": [],
     "prompt_number": 4
    },
    {
     "cell_type": "code",
     "collapsed": false,
     "input": [
      "plt.scatter(mleResults.results.Data, mleResults.results.SIM_Estimates)\n",
      "plt.xlim(xmin=0)\n",
      "plt.ylim(ymin=0)\n",
      "plt.xlabel('Observed Flows')\n",
      "plt.ylabel('Predicted Flows')\n",
      "plt.plot([0,50000], [0,50000])\n",
      "plt.draw()"
     ],
     "language": "python",
     "metadata": {},
     "outputs": [
      {
       "metadata": {},
       "output_type": "display_data",
       "png": "[encoded data removed]",
       "text": [
        "<matplotlib.figure.Figure at 0x14b39630>"
       ]
      }
     ],
     "prompt_number": 5
    },
    {
     "cell_type": "code",
     "collapsed": false,
     "input": [
      "mleResults.summary()"
     ],
     "language": "python",
     "metadata": {},
     "outputs": [
      {
       "output_type": "stream",
       "stream": "stdout",
       "text": [
        "\n",
        "\n",
        "Model type: prodConstrained\n",
        "With 1 origins and 24 destinations.\n",
        "\n",
        "After 1 iterations of the calibration routine,\n",
        "With a cost/distance function of: pow\n",
        "\n",
        "The number of origin-destination pairs considered = 24\n",
        "\n",
        "System Descriptive Statistics\n",
        "+-------------------------------+---------------+\n",
        "| Statistic                     | Value         |\n",
        "+-------------------------------+---------------+\n",
        "| Observed Mean Trip Length     | 736.528341973 |\n",
        "| Predicted Mean Trip Length    | 734.409742048 |\n",
        "| # of Origin-Destination Pairs | 24            |\n",
        "| Total Observed Interaction    | 242873        |\n",
        "| Total Predicted Interaction   | 242873.0      |\n",
        "| Asymmetry Index               | N/A           |\n",
        "+-------------------------------+---------------+\n",
        "\n",
        "Parameter Estimates and Associated Statistics\n",
        "+--------------------------------+-----------------+\n",
        "| Statistic                      | Value           |\n",
        "+--------------------------------+-----------------+\n",
        "| beta Parameter Estimate        | -0.7365098      |\n",
        "| Pop Parameter Estimate         | 0.7818262       |\n",
        "| Standard Error of beta         | 0.0446797031252 |\n",
        "| Standard Error of Pop          | 0.0189802819992 |\n",
        "| Log-Likelihood with All Params | -3.00629092751  |\n",
        "| Log-Likelihood without beta    | -3.05741583974  |\n",
        "| Lambda LL Statistic for beta   | 24833.7216143   |\n",
        "| Log-Likelihood without Pop     | -3.17734742694  |\n",
        "| Lambda LL Statistic for Pop    | 83090.0103739   |\n",
        "+--------------------------------+-----------------+\n",
        "\n",
        "Goodness-of-fit Statistics\n",
        "+---------------------------------------------+------------------+\n",
        "| Statistic                                   | Value            |\n",
        "+---------------------------------------------+------------------+\n",
        "| R-Squared                                   | 0.60516003721    |\n",
        "| T-Statistic of R-Squared                    | Not computed     |\n",
        "| % Deviation of Observed from Mean           | 57.965           |\n",
        "| % Deviation of Predicted from Observed      | 42.189           |\n",
        "| % Reductin in Deviation                     | 27.216423704     |\n",
        "| Ayeni S Information Statistic (PSI)         | 0.0617061961253  |\n",
        "| Minimum Discriminant Information Stat       | 29973.5379431    |\n",
        "| SRMSE Statistic                             | 0.578732067181   |\n",
        "| Max Entropy for 24 Cases                    | 3.1781           |\n",
        "| The Entropy of Predicted Data               | 3.0063           |\n",
        "| The Entropy of Observed Data                | 2.8736           |\n",
        "| Max Entropy - Predicted Data Entropy        | 0.1718           |\n",
        "| Entropy of Predicted - Entropy of Observed  | 0.1327           |\n",
        "| Entropy Ratio Statistic                     | 0.5642           |\n",
        "| Variance of Entropy of Predicted Data       | 1.39664e-06      |\n",
        "| Variance of Entropy of Observed Data        | 2.55421e-06      |\n",
        "| T-Statistic for Absolute Entropy Difference | 66.7614          |\n",
        "| Information Gain Statistic                  | 0.132705733873   |\n",
        "| Rho-Squared Statistic                       | 0.0540465681222  |\n",
        "| Adjusted Rho-Squared Statistic              | -0.0319491984122 |\n",
        "| Likelihood Value of Mean Model              | -3.17805383035   |\n",
        "+---------------------------------------------+------------------+\n"
       ]
      }
     ],
     "prompt_number": 6
    },
    {
     "cell_type": "code",
     "collapsed": false,
     "input": [
      "mleResults.rsquared()"
     ],
     "language": "python",
     "metadata": {},
     "outputs": [
      {
       "output_type": "stream",
       "stream": "stdout",
       "text": [
        "0.60516003721\n"
       ]
      }
     ],
     "prompt_number": 7
    },
    {
     "cell_type": "code",
     "collapsed": false,
     "input": [],
     "language": "python",
     "metadata": {},
     "outputs": [
      {
       "metadata": {},
       "output_type": "pyout",
       "prompt_number": 7,
       "text": [
        "array([  8502.66789819,   7739.95982707,  20443.04678878,   9967.02921654,\n",
        "         8664.58188316,   7837.68162983,   4434.54932029,  12742.20111549,\n",
        "         7416.81316748,   6562.38649686,   9382.26106936,   9813.28722924,\n",
        "         7178.22445821,   6148.90078032,   8641.53809195,  44981.60157946,\n",
        "        12709.98798003,   3512.38624316,   9602.9624457 ,  10172.5713768 ,\n",
        "         4054.66107969,   3083.01254346,   8923.1274085 ,  10357.56037   ])"
       ]
      }
     ],
     "prompt_number": 7
    },
    {
     "cell_type": "code",
     "collapsed": false,
     "input": [
      "mleResults.results.SIM_Estimates"
     ],
     "language": "python",
     "metadata": {},
     "outputs": [
      {
       "metadata": {},
       "output_type": "pyout",
       "prompt_number": 9,
       "text": [
        "0      9476.392542\n",
        "1      9635.388792\n",
        "2     23858.440054\n",
        "3      9312.645548\n",
        "4      9662.197958\n",
        "5      9078.839175\n",
        "6      3675.500078\n",
        "7     16637.255910\n",
        "8      8052.685102\n",
        "9      5729.371261\n",
        "10    10110.366683\n",
        "11     6983.064042\n",
        "12     6305.009789\n",
        "13     6515.203610\n",
        "14     6949.595875\n",
        "15    30924.735537\n",
        "16    16384.904730\n",
        "17     2480.702271\n",
        "18    11373.424818\n",
        "19    12127.726224\n",
        "20     4621.080700\n",
        "21     2652.653897\n",
        "22     7364.305981\n",
        "23    12961.509424\n",
        "Name: SIM_Estimates, dtype: float64"
       ]
      }
     ],
     "prompt_number": 9
    },
    {
     "cell_type": "code",
     "collapsed": false,
     "input": [],
     "language": "python",
     "metadata": {},
     "outputs": []
    }
   ],
   "metadata": {}
  }
 ]
}