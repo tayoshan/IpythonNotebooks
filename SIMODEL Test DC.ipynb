{
 "metadata": {
  "name": ""
 },
 "nbformat": 3,
 "nbformat_minor": 0,
 "worksheets": [
  {
   "cells": [
    {
     "cell_type": "code",
     "collapsed": false,
     "input": [
      "import pySI as SI\n",
      "import pandas as pd\n",
      "import numpy as np\n",
      "import time\n",
      "\n",
      "#data= pd.DataFrame(pd.read_csv('http://dl.dropbox.com/u/8649795/AT_Austria.csv'))\n",
      "data = pd.DataFrame(pd.read_csv(\"C:\\\\Users\\\\Taylor\\\\Documents\\\\SIMODELTESTDATA1.csv\"))\n",
      "\n"
     ],
     "language": "python",
     "metadata": {},
     "outputs": [],
     "prompt_number": 8
    },
    {
     "cell_type": "code",
     "collapsed": false,
     "input": [
      "t0 = time.time()\n",
      "\n",
      "model = SI.calibrate(data=data, origins='Origin', destinations='Destination', trips='Data', sep='Dij', cost='exp', factors={'destinations':['Dj']}, constraints={'production':'Origin'})\n",
      "\n",
      "results = model.mle(initialParams={'beta':0, 'Dj':1})\n",
      "#results = model.regression()\n",
      "\n",
      "t1 = time.time()\n",
      "print t1-t0"
     ],
     "language": "python",
     "metadata": {},
     "outputs": [
      {
       "output_type": "stream",
       "stream": "stdout",
       "text": [
        "After 1 runs, beta is : -0.0005482\n",
        "0.101999998093\n"
       ]
      }
     ],
     "prompt_number": 10
    },
    {
     "cell_type": "code",
     "collapsed": false,
     "input": [
      "print results.results.sumStr\n",
      "results = model.regression()"
     ],
     "language": "python",
     "metadata": {},
     "outputs": [
      {
       "output_type": "stream",
       "stream": "stdout",
       "text": [
        "\n",
        "\n",
        "Model type: prodConstrained\n",
        "With Origin origins and Destination destinations.\n",
        "\n",
        "The observed mean trip length: 1250.95555216\n",
        "The predicted mean trip length: 1250.95555216\n",
        "\n",
        "Maximum Likelihood beta parameter: -0.0005482\n",
        "\n",
        "Maximum Likelihood Dj parameter: 1.3001119\n",
        "\n",
        "After 1 iterations of the calibration routine with a cost/distance function of: exp\n",
        "\n",
        "The number of origin-destination pairs considered = 72\n",
        "\n",
        "The total interactions observed: 12314322\n",
        "The total interactions predicted: 12314322.0\n",
        "\n",
        "The Asymmetry Index for this interaction data: 15.6820814008\n",
        "\n",
        "Regressing the observed interactions on the predicted interactions yields and r-squared value of: 0.798993077045\n",
        "\n",
        "T statistic for regression: 4.57171723527e-06\n",
        "\n",
        "Percentage deviation of observed interaction from the mean: 60.047\n",
        "\n",
        "Percentage deviation of predicted interaction from the observed interaction: 27.967\n",
        "\n",
        "Percentage reduction in deviation: 53.4248172265\n",
        "\n",
        "Ayeni S Information Statistic (psi) = 0.0277040626754\n",
        "\n",
        "Minimum Discriminant Information Statistic: 682313.496987\n",
        "\n",
        "The standardied root mean square error statistic: 0.346666996221\n",
        "\n",
        "The maximum entropy for 72 cases: 4.2767\n",
        "The entropy of the predicted interactions: 4.0577\n",
        "The entropy of the observed interactions: 4.0024\n",
        "\n",
        "Maximum entropy - entropy of predicted interactions: 0.219\n",
        "\n",
        "Entropy of predicted interactions - entropy of observed interactions: 0.0553\n",
        "\n",
        "Entropy ratio statistic: 0.7984\n",
        "\n",
        "Variance of the entropy of predicted interactions: 3.3e-08\n",
        "\n",
        "Variance of the entropy of observed interactions: 3.667e-08\n",
        "\n",
        "T statistic for the absolute entropy difference: 209.5088\n",
        "\n",
        "Information gain statistic: 0.0552804758788\n",
        "\n",
        "Average distance traveled in system: 1251.0\n",
        "Average origin-destination separation: 1414.0\n",
        "\n",
        "Standard error of the beta parameter: 7.67879456081e-12\n",
        "\n",
        "Standard error of the Dj parameter: 0.000251376299842\n",
        "\n"
       ]
      }
     ],
     "prompt_number": 11
    },
    {
     "cell_type": "code",
     "collapsed": false,
     "input": [
      "results.results.summary()"
     ],
     "language": "python",
     "metadata": {},
     "outputs": [
      {
       "html": [
        "<table class=\"simpletable\">\n",
        "<caption>Generalized Linear Model Regression Results</caption>\n",
        "<tr>\n",
        "  <th>Dep. Variable:</th>        <td>Data</td>       <th>  No. Observations:  </th>   <td>    72</td>   \n",
        "</tr>\n",
        "<tr>\n",
        "  <th>Model:</th>                 <td>GLM</td>       <th>  Df Residuals:      </th>   <td>    61</td>   \n",
        "</tr>\n",
        "<tr>\n",
        "  <th>Model Family:</th>        <td>Poisson</td>     <th>  Df Model:          </th>   <td>    10</td>   \n",
        "</tr>\n",
        "<tr>\n",
        "  <th>Link Function:</th>         <td>log</td>       <th>  Scale:             </th>     <td>1.0</td>    \n",
        "</tr>\n",
        "<tr>\n",
        "  <th>Method:</th>               <td>IRLS</td>       <th>  Log-Likelihood:    </th> <td>-7.2665e+05</td>\n",
        "</tr>\n",
        "<tr>\n",
        "  <th>Date:</th>           <td>Sun, 04 May 2014</td> <th>  Deviance:          </th> <td>1.4523e+06</td> \n",
        "</tr>\n",
        "<tr>\n",
        "  <th>Time:</th>               <td>14:43:49</td>     <th>  Pearson chi2:      </th>  <td>1.47e+06</td>  \n",
        "</tr>\n",
        "<tr>\n",
        "  <th>No. Iterations:</th>        <td>101</td>       <th>                     </th>      <td> </td>     \n",
        "</tr>\n",
        "</table>\n",
        "<table class=\"simpletable\">\n",
        "<tr>\n",
        "       <td></td>          <th>coef</th>     <th>std err</th>      <th>t</th>      <th>P>|t|</th> <th>[95.0% Conf. Int.]</th> \n",
        "</tr>\n",
        "<tr>\n",
        "  <th>Intercept</th>   <td>   10.7358</td> <td>    0.002</td> <td> 7156.110</td> <td> 0.000</td> <td>   10.733    10.739</td>\n",
        "</tr>\n",
        "<tr>\n",
        "  <th>Origin[T.2]</th> <td>    0.9728</td> <td>    0.001</td> <td>  686.368</td> <td> 0.000</td> <td>    0.970     0.976</td>\n",
        "</tr>\n",
        "<tr>\n",
        "  <th>Origin[T.3]</th> <td>    1.1072</td> <td>    0.001</td> <td>  793.453</td> <td> 0.000</td> <td>    1.104     1.110</td>\n",
        "</tr>\n",
        "<tr>\n",
        "  <th>Origin[T.4]</th> <td>    0.4560</td> <td>    0.002</td> <td>  300.653</td> <td> 0.000</td> <td>    0.453     0.459</td>\n",
        "</tr>\n",
        "<tr>\n",
        "  <th>Origin[T.5]</th> <td>    1.1940</td> <td>    0.001</td> <td>  827.343</td> <td> 0.000</td> <td>    1.191     1.197</td>\n",
        "</tr>\n",
        "<tr>\n",
        "  <th>Origin[T.6]</th> <td>    0.1728</td> <td>    0.002</td> <td>  109.071</td> <td> 0.000</td> <td>    0.170     0.176</td>\n",
        "</tr>\n",
        "<tr>\n",
        "  <th>Origin[T.7]</th> <td>    0.4690</td> <td>    0.002</td> <td>  306.255</td> <td> 0.000</td> <td>    0.466     0.472</td>\n",
        "</tr>\n",
        "<tr>\n",
        "  <th>Origin[T.8]</th> <td>    0.4713</td> <td>    0.002</td> <td>  298.375</td> <td> 0.000</td> <td>    0.468     0.474</td>\n",
        "</tr>\n",
        "<tr>\n",
        "  <th>Origin[T.9]</th> <td>    1.4061</td> <td>    0.002</td> <td>  922.771</td> <td> 0.000</td> <td>    1.403     1.409</td>\n",
        "</tr>\n",
        "<tr>\n",
        "  <th>Dj</th>          <td> 8.539e-07</td> <td> 4.67e-10</td> <td> 1829.915</td> <td> 0.000</td> <td> 8.53e-07  8.55e-07</td>\n",
        "</tr>\n",
        "<tr>\n",
        "  <th>Dij</th>         <td>   -0.0005</td> <td> 4.72e-07</td> <td>-1156.067</td> <td> 0.000</td> <td>   -0.001    -0.001</td>\n",
        "</tr>\n",
        "</table>"
       ],
       "metadata": {},
       "output_type": "pyout",
       "prompt_number": 12,
       "text": [
        "<class 'statsmodels.iolib.summary.Summary'>\n",
        "\"\"\"\n",
        "                 Generalized Linear Model Regression Results                  \n",
        "==============================================================================\n",
        "Dep. Variable:                   Data   No. Observations:                   72\n",
        "Model:                            GLM   Df Residuals:                       61\n",
        "Model Family:                 Poisson   Df Model:                           10\n",
        "Link Function:                    log   Scale:                             1.0\n",
        "Method:                          IRLS   Log-Likelihood:            -7.2665e+05\n",
        "Date:                Sun, 04 May 2014   Deviance:                   1.4523e+06\n",
        "Time:                        14:43:49   Pearson chi2:                 1.47e+06\n",
        "No. Iterations:                   101                                         \n",
        "===============================================================================\n",
        "                  coef    std err          t      P>|t|      [95.0% Conf. Int.]\n",
        "-------------------------------------------------------------------------------\n",
        "Intercept      10.7358      0.002   7156.110      0.000        10.733    10.739\n",
        "Origin[T.2]     0.9728      0.001    686.368      0.000         0.970     0.976\n",
        "Origin[T.3]     1.1072      0.001    793.453      0.000         1.104     1.110\n",
        "Origin[T.4]     0.4560      0.002    300.653      0.000         0.453     0.459\n",
        "Origin[T.5]     1.1940      0.001    827.343      0.000         1.191     1.197\n",
        "Origin[T.6]     0.1728      0.002    109.071      0.000         0.170     0.176\n",
        "Origin[T.7]     0.4690      0.002    306.255      0.000         0.466     0.472\n",
        "Origin[T.8]     0.4713      0.002    298.375      0.000         0.468     0.474\n",
        "Origin[T.9]     1.4061      0.002    922.771      0.000         1.403     1.409\n",
        "Dj           8.539e-07   4.67e-10   1829.915      0.000      8.53e-07  8.55e-07\n",
        "Dij            -0.0005   4.72e-07  -1156.067      0.000        -0.001    -0.001\n",
        "===============================================================================\n",
        "\"\"\""
       ]
      }
     ],
     "prompt_number": 12
    },
    {
     "cell_type": "code",
     "collapsed": false,
     "input": [
      "results.results.Data"
     ],
     "language": "python",
     "metadata": {},
     "outputs": [
      {
       "metadata": {},
       "output_type": "pyout",
       "prompt_number": 6,
       "text": [
        "0     180048\n",
        "1      79223\n",
        "2      26887\n",
        "3     198144\n",
        "4      17995\n",
        "5      35563\n",
        "6      30528\n",
        "7     110792\n",
        "8     283049\n",
        "9     300345\n",
        "10     67280\n",
        "11    718673\n",
        "12     55094\n",
        "13     93434\n",
        "14     87987\n",
        "...\n",
        "57     43749\n",
        "58     97808\n",
        "59    113683\n",
        "60     89806\n",
        "61     25574\n",
        "62    158006\n",
        "63    437255\n",
        "64     72114\n",
        "65    133122\n",
        "66    229764\n",
        "67    165405\n",
        "68    266305\n",
        "69     66324\n",
        "70    252039\n",
        "71    342948\n",
        "Name: Data, Length: 72, dtype: int64"
       ]
      }
     ],
     "prompt_number": 6
    },
    {
     "cell_type": "code",
     "collapsed": false,
     "input": [
      "results.results.params"
     ],
     "language": "python",
     "metadata": {},
     "outputs": [
      {
       "metadata": {},
       "output_type": "pyout",
       "prompt_number": 16,
       "text": [
        "Intercept           11.448836\n",
        "Destination[T.2]     0.637154\n",
        "Destination[T.3]     0.964032\n",
        "Destination[T.4]     0.225959\n",
        "Destination[T.5]     1.454816\n",
        "Destination[T.6]     0.030930\n",
        "Destination[T.7]     0.591884\n",
        "Destination[T.8]     0.537601\n",
        "Destination[T.9]     1.997514\n",
        "Origin[T.2]          0.996608\n",
        "Origin[T.3]          1.049487\n",
        "Origin[T.4]          0.361108\n",
        "Origin[T.5]          1.146618\n",
        "Origin[T.6]          0.114941\n",
        "Origin[T.7]          0.414284\n",
        "Origin[T.8]          0.267321\n",
        "Origin[T.9]          1.582179\n",
        "Dij                 -0.000737\n",
        "dtype: float64"
       ]
      }
     ],
     "prompt_number": 16
    },
    {
     "cell_type": "code",
     "collapsed": false,
     "input": [
      "np.sum(data.Data*data.Dij)/np.sum(data.Data)"
     ],
     "language": "python",
     "metadata": {},
     "outputs": [
      {
       "metadata": {},
       "output_type": "pyout",
       "prompt_number": 17,
       "text": [
        "1250"
       ]
      }
     ],
     "prompt_number": 17
    },
    {
     "cell_type": "code",
     "collapsed": false,
     "input": [
      "np.sum(results.results.SIM_Estimates*data.Dij)/np.sum(results.results.SIM_Estimates)"
     ],
     "language": "python",
     "metadata": {},
     "outputs": [
      {
       "ename": "AttributeError",
       "evalue": "'GLMResults' object has no attribute 'SIM_Estimates'",
       "output_type": "pyerr",
       "traceback": [
        "\u001b[1;31m---------------------------------------------------------------------------\u001b[0m\n\u001b[1;31mAttributeError\u001b[0m                            Traceback (most recent call last)",
        "\u001b[1;32m<ipython-input-18-36c036491bac>\u001b[0m in \u001b[0;36m<module>\u001b[1;34m()\u001b[0m\n\u001b[1;32m----> 1\u001b[1;33m \u001b[0mnp\u001b[0m\u001b[1;33m.\u001b[0m\u001b[0msum\u001b[0m\u001b[1;33m(\u001b[0m\u001b[0mresults\u001b[0m\u001b[1;33m.\u001b[0m\u001b[0mresults\u001b[0m\u001b[1;33m.\u001b[0m\u001b[0mSIM_Estimates\u001b[0m\u001b[1;33m*\u001b[0m\u001b[0mdata\u001b[0m\u001b[1;33m.\u001b[0m\u001b[0mDij\u001b[0m\u001b[1;33m)\u001b[0m\u001b[1;33m/\u001b[0m\u001b[0mnp\u001b[0m\u001b[1;33m.\u001b[0m\u001b[0msum\u001b[0m\u001b[1;33m(\u001b[0m\u001b[0mresults\u001b[0m\u001b[1;33m.\u001b[0m\u001b[0mresults\u001b[0m\u001b[1;33m.\u001b[0m\u001b[0mSIM_Estimates\u001b[0m\u001b[1;33m)\u001b[0m\u001b[1;33m\u001b[0m\u001b[0m\n\u001b[0m",
        "\u001b[1;32mC:\\Python27\\lib\\site-packages\\statsmodels\\base\\wrapper.pyc\u001b[0m in \u001b[0;36m__getattribute__\u001b[1;34m(self, attr)\u001b[0m\n\u001b[0;32m     33\u001b[0m             \u001b[1;32mpass\u001b[0m\u001b[1;33m\u001b[0m\u001b[0m\n\u001b[0;32m     34\u001b[0m \u001b[1;33m\u001b[0m\u001b[0m\n\u001b[1;32m---> 35\u001b[1;33m         \u001b[0mobj\u001b[0m \u001b[1;33m=\u001b[0m \u001b[0mgetattr\u001b[0m\u001b[1;33m(\u001b[0m\u001b[0mresults\u001b[0m\u001b[1;33m,\u001b[0m \u001b[0mattr\u001b[0m\u001b[1;33m)\u001b[0m\u001b[1;33m\u001b[0m\u001b[0m\n\u001b[0m\u001b[0;32m     36\u001b[0m         \u001b[0mdata\u001b[0m \u001b[1;33m=\u001b[0m \u001b[0mresults\u001b[0m\u001b[1;33m.\u001b[0m\u001b[0mmodel\u001b[0m\u001b[1;33m.\u001b[0m\u001b[0mdata\u001b[0m\u001b[1;33m\u001b[0m\u001b[0m\n\u001b[0;32m     37\u001b[0m         \u001b[0mhow\u001b[0m \u001b[1;33m=\u001b[0m \u001b[0mself\u001b[0m\u001b[1;33m.\u001b[0m\u001b[0m_wrap_attrs\u001b[0m\u001b[1;33m.\u001b[0m\u001b[0mget\u001b[0m\u001b[1;33m(\u001b[0m\u001b[0mattr\u001b[0m\u001b[1;33m)\u001b[0m\u001b[1;33m\u001b[0m\u001b[0m\n",
        "\u001b[1;31mAttributeError\u001b[0m: 'GLMResults' object has no attribute 'SIM_Estimates'"
       ]
      }
     ],
     "prompt_number": 18
    },
    {
     "cell_type": "code",
     "collapsed": false,
     "input": [
      "np.sum(results.results.SIM_Estimates)"
     ],
     "language": "python",
     "metadata": {},
     "outputs": [
      {
       "ename": "AttributeError",
       "evalue": "'GLMResults' object has no attribute 'SIM_Estimates'",
       "output_type": "pyerr",
       "traceback": [
        "\u001b[1;31m---------------------------------------------------------------------------\u001b[0m\n\u001b[1;31mAttributeError\u001b[0m                            Traceback (most recent call last)",
        "\u001b[1;32m<ipython-input-19-e3eb1fab74b3>\u001b[0m in \u001b[0;36m<module>\u001b[1;34m()\u001b[0m\n\u001b[1;32m----> 1\u001b[1;33m \u001b[0mnp\u001b[0m\u001b[1;33m.\u001b[0m\u001b[0msum\u001b[0m\u001b[1;33m(\u001b[0m\u001b[0mresults\u001b[0m\u001b[1;33m.\u001b[0m\u001b[0mresults\u001b[0m\u001b[1;33m.\u001b[0m\u001b[0mSIM_Estimates\u001b[0m\u001b[1;33m)\u001b[0m\u001b[1;33m\u001b[0m\u001b[0m\n\u001b[0m",
        "\u001b[1;32mC:\\Python27\\lib\\site-packages\\statsmodels\\base\\wrapper.pyc\u001b[0m in \u001b[0;36m__getattribute__\u001b[1;34m(self, attr)\u001b[0m\n\u001b[0;32m     33\u001b[0m             \u001b[1;32mpass\u001b[0m\u001b[1;33m\u001b[0m\u001b[0m\n\u001b[0;32m     34\u001b[0m \u001b[1;33m\u001b[0m\u001b[0m\n\u001b[1;32m---> 35\u001b[1;33m         \u001b[0mobj\u001b[0m \u001b[1;33m=\u001b[0m \u001b[0mgetattr\u001b[0m\u001b[1;33m(\u001b[0m\u001b[0mresults\u001b[0m\u001b[1;33m,\u001b[0m \u001b[0mattr\u001b[0m\u001b[1;33m)\u001b[0m\u001b[1;33m\u001b[0m\u001b[0m\n\u001b[0m\u001b[0;32m     36\u001b[0m         \u001b[0mdata\u001b[0m \u001b[1;33m=\u001b[0m \u001b[0mresults\u001b[0m\u001b[1;33m.\u001b[0m\u001b[0mmodel\u001b[0m\u001b[1;33m.\u001b[0m\u001b[0mdata\u001b[0m\u001b[1;33m\u001b[0m\u001b[0m\n\u001b[0;32m     37\u001b[0m         \u001b[0mhow\u001b[0m \u001b[1;33m=\u001b[0m \u001b[0mself\u001b[0m\u001b[1;33m.\u001b[0m\u001b[0m_wrap_attrs\u001b[0m\u001b[1;33m.\u001b[0m\u001b[0mget\u001b[0m\u001b[1;33m(\u001b[0m\u001b[0mattr\u001b[0m\u001b[1;33m)\u001b[0m\u001b[1;33m\u001b[0m\u001b[0m\n",
        "\u001b[1;31mAttributeError\u001b[0m: 'GLMResults' object has no attribute 'SIM_Estimates'"
       ]
      }
     ],
     "prompt_number": 19
    },
    {
     "cell_type": "code",
     "collapsed": false,
     "input": [
      "results.results.bse"
     ],
     "language": "python",
     "metadata": {},
     "outputs": [
      {
       "metadata": {},
       "output_type": "pyout",
       "prompt_number": 20,
       "text": [
        "Intercept           0.001840\n",
        "Destination[T.2]    0.001560\n",
        "Destination[T.3]    0.001442\n",
        "Destination[T.4]    0.001608\n",
        "Destination[T.5]    0.001391\n",
        "Destination[T.6]    0.001653\n",
        "Destination[T.7]    0.001527\n",
        "Destination[T.8]    0.001599\n",
        "Destination[T.9]    0.001531\n",
        "Origin[T.2]         0.001440\n",
        "Origin[T.3]         0.001409\n",
        "Origin[T.4]         0.001534\n",
        "Origin[T.5]         0.001449\n",
        "Origin[T.6]         0.001591\n",
        "Origin[T.7]         0.001545\n",
        "Origin[T.8]         0.001637\n",
        "Origin[T.9]         0.001553\n",
        "Dij                 0.000001\n",
        "dtype: float64"
       ]
      }
     ],
     "prompt_number": 20
    },
    {
     "cell_type": "code",
     "collapsed": false,
     "input": [
      "test = {}"
     ],
     "language": "python",
     "metadata": {},
     "outputs": [],
     "prompt_number": 6
    },
    {
     "cell_type": "code",
     "collapsed": false,
     "input": [
      "test['hello']= 4"
     ],
     "language": "python",
     "metadata": {},
     "outputs": [],
     "prompt_number": 12
    },
    {
     "cell_type": "code",
     "collapsed": false,
     "input": [
      "test"
     ],
     "language": "python",
     "metadata": {},
     "outputs": [
      {
       "metadata": {},
       "output_type": "pyout",
       "prompt_number": 13,
       "text": [
        "{'hello': 4}"
       ]
      }
     ],
     "prompt_number": 13
    },
    {
     "cell_type": "code",
     "collapsed": false,
     "input": [
      "test.keys()[0]"
     ],
     "language": "python",
     "metadata": {},
     "outputs": [
      {
       "metadata": {},
       "output_type": "pyout",
       "prompt_number": 16,
       "text": [
        "'hello'"
       ]
      }
     ],
     "prompt_number": 16
    },
    {
     "cell_type": "code",
     "collapsed": false,
     "input": [
      "test"
     ],
     "language": "python",
     "metadata": {},
     "outputs": [
      {
       "metadata": {},
       "output_type": "pyout",
       "prompt_number": 10,
       "text": [
        "{}"
       ]
      }
     ],
     "prompt_number": 10
    },
    {
     "cell_type": "code",
     "collapsed": false,
     "input": [],
     "language": "python",
     "metadata": {},
     "outputs": []
    }
   ],
   "metadata": {}
  }
 ]
}