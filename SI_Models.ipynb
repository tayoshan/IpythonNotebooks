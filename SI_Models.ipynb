{
 "metadata": {
  "name": ""
 },
 "nbformat": 3,
 "nbformat_minor": 0,
 "worksheets": [
  {
   "cells": [
    {
     "cell_type": "code",
     "collapsed": false,
     "input": [
      "import pandas as pd\n",
      "import numpy as np\n",
      "import statsmodels.formula.api as smf\n",
      "import statsmodels.api as sm\n",
      "from scipy.stats.stats import pearsonr\n",
      "import math\n",
      "import patsy\n",
      "from decimal import Decimal\n",
      "\n",
      "\n",
      "#convert = {\"Dij\": np.longdouble}\n",
      "#Load Data from URL as CSVs and then convert to DataFrame\n",
      "#Data= pd.DataFrame(pd.read_csv('http://dl.dropbox.com/u/8649795/AT_Austria.csv'))\n",
      "Data= pd.DataFrame(pd.read_csv('C:\\Users\\Taylor\\Documents\\SI_Data_Dunfermline.csv'))\n",
      "Data = Data[Data[\"Origin\"] != Data[\"Destination\"]]\n",
      "Data = Data.reset_index(level = 0, drop = True)\n",
      "#Data[Data[\"Dij\"] < .00001] = 10**-25\n",
      "\n",
      "#Models using inverse power distance function\n",
      "#unConstrained = smf.glm('Data~np.log(Dij)', data=Data, family=sm.families.Poisson(link=sm.families.links.log)).fit()\n",
      "#originConstrained = smf.glm('Data~Origin+np.log(Dij)', data=Data, family=sm.families.Poisson(link=sm.families.links.log)).fit()\n",
      "#destConstrained = smf.glm('Data~Destination+np.log(Dij)', data=Data, family=sm.families.Poisson(link=sm.families.links.log)).fit()\n",
      "doubleConstrained = smf.glm('Data~Origin+Destination+np.log(Dij)', data=Data, family=sm.families.Poisson(link=sm.families.links.log)).fit()\n",
      "\n",
      "print \"MODEL RESULTS USING INVERSE POWER DISTANCE FUNCTION\"\n",
      "\n",
      "#cor = pearsonr(unConstrained.fittedvalues, Data[\"Data\"])[0]\n",
      "#print \"R-squared for unconstrained model is: \" + str(cor*cor)\n",
      "\n",
      "\n",
      "#cor = pearsonr(originConstrained.fittedvalues, Data[\"Data\"])[0]\n",
      "#print \"R-squared for origin-constrained model is: \" + str(cor*cor)\n",
      "\n",
      "#cor = pearsonr(destConstrained.fittedvalues, Data[\"Data\"])[0]\n",
      "#print \"R-squared for destination-constrained model is: \" + str(cor*cor)\n",
      "\n",
      "cor = pearsonr(doubleConstrained.fittedvalues, Data[\"Data\"])[0]\n",
      "print \"R-squared for doubly-constrained model is: \" + str(cor*cor)\n",
      "\n",
      "\n",
      "#Models using negative exponential distance function\n",
      "#unConstrained = smf.glm('Data~Dij', data=Data, family=sm.families.Poisson(link=sm.families.links.log)).fit()\n",
      "#originConstrained = smf.glm('Data~Origin+Dij', data=Data, family=sm.families.Poisson(link=sm.families.links.log)).fit()\n",
      "#destConstrained = smf.glm('Data~Destination+Dij', data=Data, offset = np.log(Data[\"Offset\"]), family=sm.families.Poisson(link=sm.families.links.log)).fit()\n",
      "doubleConstrained = smf.glm('Data~Origin+Destination+Dij', data=Data, family=sm.families.Poisson(link=sm.families.links.log)).fit(maxiter= 5000)\n",
      "print \"MODEL RESULTS USING NEGATIVE EXPONENTIAL DISTANCE FUNCTION\"\n",
      "\n",
      "#cor = pearsonr(unConstrained.fittedvalues, Data[\"Data\"])[0]\n",
      "#print \"R-squared for unconstrained model is: \" + str(cor*cor)\n",
      "\n",
      "\n",
      "#cor = pearsonr(originConstrained.fittedvalues, Data[\"Data\"])[0]\n",
      "#print \"R-squared for origin-constrained model is: \" + str(cor*cor)\n",
      "\n",
      "\n",
      "#cor = pearsonr(destConstrained.fittedvalues, Data[\"Data\"])[0]\n",
      "#print \"R-squared for destination-constrained model is: \" + str(cor*cor)\n",
      "\n",
      "cor = pearsonr(doubleConstrained.fittedvalues, Data[\"Data\"])[0]\n",
      "print \"R-squared for doubly-constrained model is: \" + str(cor*cor)\n"
     ],
     "language": "python",
     "metadata": {},
     "outputs": [
      {
       "output_type": "stream",
       "stream": "stdout",
       "text": [
        "MODEL RESULTS USING INVERSE POWER DISTANCE FUNCTION\n",
        "R-squared for doubly-constrained model is: 0.65398880927\n",
        "MODEL RESULTS USING NEGATIVE EXPONENTIAL DISTANCE FUNCTION"
       ]
      },
      {
       "output_type": "stream",
       "stream": "stdout",
       "text": [
        "\n",
        "R-squared for doubly-constrained model is: 0.389157256015\n"
       ]
      }
     ],
     "prompt_number": 309
    },
    {
     "cell_type": "code",
     "collapsed": false,
     "input": [
      "def prep(Model, Data):\n",
      "    if Model.params.tail(1).keys()[0] == \"Dij\":\n",
      "        Data[\"beta\"] = Model.params[\"Dij\"]\n",
      "        disdecay = 0\n",
      "    else:\n",
      "        Data[\"beta\"] = Model.params[\"np.log(Dij)\"]\n",
      "        disdecay = 1\n",
      "    Data[\"Ai\"] = 1.000000000\n",
      "    Data[\"Bj\"] = 1.000000000\n",
      "    Data[\"OldAi\"] = 10.0000000000\n",
      "    Data[\"OldBj\"] = 10.000000000\n",
      "    Data[\"diff\"] = abs((Data[\"OldAi\"] - Data[\"Ai\"])/Data[\"OldAi\"])\n",
      "    cnvg = 1.000000000000\n",
      "    its = 0\n",
      "    print \"Disdecay: \" + str(disdecay)\n",
      "    return disdecay, cnvg, its\n"
     ],
     "language": "python",
     "metadata": {},
     "outputs": [],
     "prompt_number": 310
    },
    {
     "cell_type": "code",
     "collapsed": false,
     "input": [
      "\n",
      "\n",
      "\n",
      "def dConstrain(Model, Data):    \n",
      "    disdecay, cnvg, its = prep(Model, Data)\n",
      "    while cnvg > .0000001:\n",
      "        its = its + 1\n",
      "        if disdecay == 0:\n",
      "            Data[\"Ai\"] = Data[\"Bj\"]*Data[\"Dj\"]*np.exp(Data[\"Dij\"]*Data[\"beta\"])\n",
      "        else:\n",
      "            Data[\"Ai\"] = Data[\"Bj\"]*Data[\"Dj\"]*np.exp(np.log(Data[\"Dij\"])*Data[\"beta\"])\n",
      "        AiBF = (Data.groupby(\"Origin\").aggregate({\"Ai\": np.sum}))\n",
      "        AiBF[\"Ai\"] = 1/AiBF[\"Ai\"]\n",
      "        updates = AiBF.ix[pd.match(Data[\"Origin\"], AiBF.index), \"Ai\"]\n",
      "        Data[\"Ai\"] = updates.reset_index(level=0, drop=True) if(updates.notnull().any()) else Data[\"Ai\"]\n",
      "        if its == 1:\n",
      "            Data[\"OldAi\"] = Data[\"Ai\"]\n",
      "        else:\n",
      "            Data[\"diff\"] = abs((Data[\"OldAi\"] - Data[\"Ai\"])/Data[\"OldAi\"])\n",
      "            Data[\"OldAi\"] = Data[\"Ai\"]\n",
      "        if disdecay == 0:\n",
      "            Data[\"Bj\"] = Data[\"Ai\"]*Data[\"Oi\"]*np.exp(Data[\"Dij\"]*Data[\"beta\"])\n",
      "        else:\n",
      "            Data[\"Bj\"] = Data[\"Ai\"]*Data[\"Oi\"]*np.exp(np.log(Data[\"Dij\"])*Data[\"beta\"])\n",
      "        BjBF = Data.groupby(\"Destination\").aggregate({\"Bj\": np.sum})\n",
      "        BjBF[\"Bj\"] = 1/BjBF[\"Bj\"]    \n",
      "        updates = BjBF.ix[pd.match(Data[\"Destination\"], BjBF.index), \"Bj\"]\n",
      "        Data[\"Bj\"] = updates.reset_index(level=0, drop=True) if(updates.notnull().any()) else Data[\"Bj\"]\n",
      "        if its == 1:\n",
      "            Data[\"OldBj\"] = Data[\"Bj\"]\n",
      "        else:\n",
      "            Data[\"diff\"] = abs((Data[\"OldBj\"] - Data[\"Bj\"])/Data[\"OldBj\"])\n",
      "            Data[\"OldBj\"] = Data[\"Bj\"]\n",
      "        cnvg = np.sum(Data[\"diff\"])\n",
      "        print its, cnvg\n",
      "\n",
      "\n",
      "            \n",
      "        \n",
      "    if disdecay == 0:\n",
      "        Data[\"SIM_Estimates\"] = Data[\"Oi\"]*Data[\"Ai\"]*Data[\"Dj\"]*Data[\"Bj\"]*np.exp(Data[\"Dij\"]*Data[\"beta\"])\n",
      "    else:\n",
      "        Data[\"SIM_Estimates\"] = Data[\"Oi\"]*Data[\"Ai\"]*Data[\"Dj\"]*Data[\"Bj\"]*np.exp(np.log(Data[\"Dij\"])*Data[\"beta\"])\n",
      "\n",
      "    return cnvg, its, Data, Data[\"Ai\"]"
     ],
     "language": "python",
     "metadata": {},
     "outputs": [],
     "prompt_number": 311
    },
    {
     "cell_type": "code",
     "collapsed": false,
     "input": [],
     "language": "python",
     "metadata": {},
     "outputs": [],
     "prompt_number": 311
    },
    {
     "cell_type": "code",
     "collapsed": false,
     "input": [
      "cnvg, its, Data, test = dConstrain(doubleConstrained, Data)\n",
      "cor = pearsonr(Data[\"Data\"], Data[\"SIM_Estimates\"])[0]\n",
      "print cor*cor\n"
     ],
     "language": "python",
     "metadata": {},
     "outputs": [
      {
       "output_type": "stream",
       "stream": "stdout",
       "text": [
        "Disdecay: 0\n",
        "1 2872.8\n",
        "2 45.4347907363\n",
        "3 7.33891494612\n",
        "4 1.24887015903\n",
        "5 0.214837528637\n",
        "6"
       ]
      },
      {
       "output_type": "stream",
       "stream": "stdout",
       "text": [
        " 0.0372087181314\n",
        "7 0.00648604249012\n",
        "8 0.00113801229849\n",
        "9 0.000201313731242\n",
        "10 3.78388777865e-05\n",
        "11 7.12863473747e-06\n",
        "12"
       ]
      },
      {
       "output_type": "stream",
       "stream": "stdout",
       "text": [
        " 1.34571452856e-06\n",
        "13 2.54486876523e-07\n",
        "14 4.81995219612e-08\n",
        "0.3697318314\n"
       ]
      }
     ],
     "prompt_number": 312
    },
    {
     "cell_type": "code",
     "collapsed": false,
     "input": [
      "Data[\"SIM_Estimates\"]"
     ],
     "language": "python",
     "metadata": {},
     "outputs": [
      {
       "metadata": {},
       "output_type": "pyout",
       "prompt_number": 313,
       "text": [
        "0     0.002503\n",
        "1     0.027203\n",
        "2     0.004773\n",
        "3     0.096641\n",
        "4     0.025513\n",
        "5     0.039921\n",
        "6     0.017179\n",
        "7     0.000000\n",
        "8     0.034703\n",
        "9     0.010366\n",
        "10    0.010194\n",
        "11    0.015338\n",
        "12    0.002396\n",
        "13    0.010510\n",
        "14    0.022740\n",
        "...\n",
        "3177    0.058248\n",
        "3178    0.891434\n",
        "3179    0.038164\n",
        "3180    0.095619\n",
        "3181    0.083874\n",
        "3182    0.036210\n",
        "3183    0.037041\n",
        "3184    0.072267\n",
        "3185    0.425535\n",
        "3186    0.085185\n",
        "3187    0.098998\n",
        "3188    0.045477\n",
        "3189    0.164784\n",
        "3190    0.063663\n",
        "3191    6.132012\n",
        "Name: SIM_Estimates, Length: 3192, dtype: float64"
       ]
      }
     ],
     "prompt_number": 313
    },
    {
     "cell_type": "code",
     "collapsed": false,
     "input": [
      "doubleConstrained.fittedvalues"
     ],
     "language": "python",
     "metadata": {},
     "outputs": [
      {
       "metadata": {},
       "output_type": "pyout",
       "prompt_number": 314,
       "text": [
        "0     0.004941\n",
        "1     0.051254\n",
        "2     0.016412\n",
        "3     0.165710\n",
        "4     0.027818\n",
        "5     0.081728\n",
        "6     0.041096\n",
        "7     0.000000\n",
        "8     0.074084\n",
        "9     0.006898\n",
        "10    0.020137\n",
        "11    0.037294\n",
        "12    0.009497\n",
        "13    0.021050\n",
        "14    0.025421\n",
        "...\n",
        "3177    0.035358\n",
        "3178    0.988378\n",
        "3179    0.031034\n",
        "3180    0.149003\n",
        "3181    0.131300\n",
        "3182    0.058910\n",
        "3183    0.090059\n",
        "3184    0.087749\n",
        "3185    0.534235\n",
        "3186    0.074698\n",
        "3187    0.179288\n",
        "3188    0.082237\n",
        "3189    0.119095\n",
        "3190    0.096968\n",
        "3191    7.794471\n",
        "Length: 3192, dtype: float64"
       ]
      }
     ],
     "prompt_number": 314
    },
    {
     "cell_type": "code",
     "collapsed": false,
     "input": [],
     "language": "python",
     "metadata": {},
     "outputs": []
    }
   ],
   "metadata": {}
  }
 ]
}