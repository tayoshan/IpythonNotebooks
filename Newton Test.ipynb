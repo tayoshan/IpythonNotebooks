{
 "metadata": {
  "name": ""
 },
 "nbformat": 3,
 "nbformat_minor": 0,
 "worksheets": [
  {
   "cells": [
    {
     "cell_type": "code",
     "collapsed": false,
     "input": [
      "def derivative(f):\n",
      "    def compute(x, dx):\n",
      "        return (f(x+dx) - f(x))/dx\n",
      "    return compute\n",
      "\n",
      "def newtons_method(f, x, dx=0.000001, tolerance=0.000001):\n",
      "    '''f is the function f(x)'''\n",
      "    df = derivative(f)\n",
      "    while True:\n",
      "        x1 = x - f(x)/df(x, dx)\n",
      "        t = abs(x1 - x)\n",
      "        if t < tolerance:\n",
      "            break\n",
      "        x = x1\n",
      "    print x\n",
      "    return x\n",
      "    \n",
      "def f(x):\n",
      "    '''\n",
      "    here solve x for ...\n",
      "    3*x**5 - 2*x**3 + 1*x - 37 = 0\n",
      "    '''\n",
      "    return 3*x**5 - 2*x**3 + 1*x - 37\n",
      "\n",
      "x_approx = 1 # rough guess\n",
      "# f refers to the function f(x)\n",
      "x = newtons_method(f, x_approx)\n",
      "print(\"Solve for x in 3*x**5 - 2*x**3 + 1*x - 37 = 0\")\n",
      "print(\"x = %0.12f\" % x)\n",
      "''' result ...\n",
      "Solve for x in 3*x**5 - 2*x**3 + 1*x - 37 = 0\n",
      "x = 1.722575335786\n",
      "'''\n",
      "# optional test (result should be close to zero)\n",
      "# change dx and tolerance level to make it a little closer\n",
      "print(\"Testing with the above x value ...\")\n",
      "print(\"%0.12f\" % (3*x**5 - 2*x**3 + 1*x - 37)) "
     ],
     "language": "python",
     "metadata": {},
     "outputs": [
      {
       "output_type": "stream",
       "stream": "stdout",
       "text": [
        "Solve for x in 3*x**5 - 2*x**3 + 1*x - 37 = 0\n",
        "x = 1.722575335786\n",
        "Testing with the above x value ...\n",
        "0.000000399251\n"
       ]
      }
     ],
     "prompt_number": 1
    }
   ],
   "metadata": {}
  }
 ]
}