{
 "metadata": {
  "name": ""
 },
 "nbformat": 3,
 "nbformat_minor": 0,
 "worksheets": [
  {
   "cells": [
    {
     "cell_type": "code",
     "collapsed": false,
     "input": [
      "import pandas as pd\n",
      "import numpy as np\n",
      "import statsmodels.formula.api as smf\n",
      "import statsmodels.api as sm\n",
      "from scipy.stats.stats import pearsonr\n",
      "import math\n",
      "import patsy\n",
      "import time\n",
      "\n",
      "data= pd.DataFrame(pd.read_csv('http://dl.dropbox.com/u/8649795/AT_Austria.csv'))\n",
      "#data= pd.DataFrame(pd.read_csv('C:\\Users\\Taylor\\Documents\\SI_Data_Dunfermline.csv'))\n",
      "data = data[data[\"Origin\"] != data[\"Destination\"]]\n",
      "data = data.reset_index(level = 0, drop = True)\n"
     ],
     "language": "python",
     "metadata": {},
     "outputs": [],
     "prompt_number": 56
    },
    {
     "cell_type": "code",
     "collapsed": false,
     "input": [
      "    data[\"Bj\"] = 1.0\n",
      "    data[\"Ai\"] = 1.0\n",
      "    data[\"OldAi\"] = 10.0000000000\n",
      "    data[\"OldBj\"] = 10.000000000\n",
      "    data[\"diff\"] = abs((data[\"OldAi\"] - data[\"Ai\"])/data[\"OldAi\"])#Step 1: Function to Calculate Sum of all Products of observed flows and log distances for unique pairs\n",
      "def setup(data):\n",
      "    observed = np.sum(data[\"Data\"]*np.log(data[\"Dij\"]))\n",
      "    data[\"beta\"] = -0.00785\n",
      "    data[\"Bj\"] = 1.0\n",
      "    data[\"Ai\"] = 1.0\n",
      "    data[\"OldAi\"] = 10.0000000000\n",
      "    data[\"OldBj\"] = 10.000000000\n",
      "    data[\"diff\"] = abs((data[\"OldAi\"] - data[\"Ai\"])/data[\"OldAi\"])\n",
      "    return observed, data\n",
      "\n",
      "    \n",
      "#Step 2: Function to Calculate Ai values\n",
      "def calcAi(data):\n",
      "    data[\"Ai\"] = data[\"Bj\"]*data[\"Dj\"]*np.exp(data[\"Dij\"]*data[\"beta\"])\n",
      "\n",
      "#Step 3: Function to Calculate Bj values\n",
      "def calcBj(data):\n",
      "    data[\"Bj\"] = data[\"Ai\"]*data[\"Oi\"]*np.exp(data[\"Dij\"]*data[\"beta\"])\n",
      "    \n",
      "\n",
      "#Step 4: Function to check if Ai and Bj have stabilised, if not return to step 2\n",
      "def balanceFactors(data):\n",
      "    its = 0\n",
      "    cnvg = 1\n",
      "\n",
      "    while cnvg > .0001:\n",
      "        its = its + 1\n",
      "        calcAi(data)\n",
      "        AiBF = (data.groupby(\"Origin\").aggregate({\"Ai\": np.sum}))\n",
      "        AiBF[\"Ai\"] = 1/AiBF[\"Ai\"]\n",
      "        updates = AiBF.ix[pd.match(data[\"Origin\"], AiBF.index), \"Ai\"]\n",
      "        data[\"Ai\"] = updates.reset_index(level=0, drop=True) if(updates.notnull().any()) else data[\"Ai\"]\n",
      "        if its == 1:\n",
      "            data[\"OldAi\"] = data[\"Ai\"]\n",
      "        else:\n",
      "            data[\"diff\"] = abs((data[\"OldAi\"] - data[\"Ai\"])/data[\"OldAi\"])\n",
      "            data[\"OldAi\"] = data[\"Ai\"]\n",
      "        \n",
      "        calcBj(data)\n",
      "        BjBF = data.groupby(\"Destination\").aggregate({\"Bj\": np.sum})\n",
      "        BjBF[\"Bj\"] = 1/BjBF[\"Bj\"]    \n",
      "        updates = BjBF.ix[pd.match(data[\"Destination\"], BjBF.index), \"Bj\"]\n",
      "        data[\"Bj\"] = updates.reset_index(level=0, drop=True) if(updates.notnull().any()) else data[\"Bj\"]\n",
      "        if its == 1:\n",
      "            data[\"OldBj\"] = data[\"Bj\"]\n",
      "        else:\n",
      "            data[\"diff\"] = abs((data[\"OldBj\"] - data[\"Bj\"])/data[\"OldBj\"])\n",
      "            data[\"OldBj\"] = data[\"Bj\"]\n",
      "        cnvg = np.sum(data[\"diff\"])\n",
      "        #print its, cnvg, data.beta.ix[0]\n",
      "    return data\n",
      "\n",
      "#Step 5: Function to Calculate Tij' (flow estimates)\n",
      "def estimateFlows(data):\n",
      "    data[\"SIM_Estimates\"] = data[\"Oi\"]*data[\"Ai\"]*data[\"Dj\"]*data[\"Bj\"]*np.exp(data[\"Dij\"]*data[\"beta\"])\n",
      "    return data\n",
      "\n",
      "#Step 6: Function to Calculate Sum of all products of Tij' and log distances\n",
      "def estimateCum(data):\n",
      "    return np.sum(data[\"SIM_Estimates\"]*np.log(data[\"Dij\"]))\n",
      "    \n",
      "\n",
      "\n",
      "    \n"
     ],
     "language": "python",
     "metadata": {},
     "outputs": [],
     "prompt_number": 57
    },
    {
     "cell_type": "code",
     "collapsed": false,
     "input": [
      "#def dConstrain(data):\n",
      "    its = 0\n",
      "    observed, data = setup(data)\n",
      "    data = balanceFactors(data)\n",
      "    data = estimateFlows(data)\n",
      "    estimates = estimateCum(data)\n",
      "    while its < 1000:\n",
      "        if observed == estimates:\n",
      "            print \"Equalized\"\n",
      "            print \"Beta is : \" + data[\"beta\"]\n",
      "            break\n",
      "        else:\n",
      "            if estimates < observed:\n",
      "                #print \"beta increased\"\n",
      "                data[\"beta\"] += .000005\n",
      "            else:\n",
      "                #print \"beta decreased\"\n",
      "                data[\"beta\"] -= .000005\n",
      "            #print str(data[\"beta\"].ix[0])\n",
      "            data = balanceFactors(data)\n",
      "            data = estimateFlows(data)\n",
      "            estimates = estimateCum(data)\n",
      "        its += 1\n",
      "    print \"After 100 runs, beta is : \" + str(data[\"beta\"].ix[0])\n",
      "    return data\n",
      "    "
     ],
     "language": "python",
     "metadata": {},
     "outputs": [],
     "prompt_number": 58
    },
    {
     "cell_type": "code",
     "collapsed": false,
     "input": [
      "t0 = time.time()\n",
      "data = dConstrain(data)\n",
      "t1 = time.time()\n",
      "print t1-t0"
     ],
     "language": "python",
     "metadata": {},
     "outputs": [
      {
       "output_type": "stream",
       "stream": "stdout",
       "text": [
        "After 100 runs, beta is : -0.00894\n",
        "5.65400004387\n"
       ]
      }
     ],
     "prompt_number": 59
    },
    {
     "cell_type": "code",
     "collapsed": false,
     "input": [
      "estimateCum(data)*-.00894\n",
      "setup(data)[0]"
     ],
     "language": "python",
     "metadata": {},
     "outputs": [
      {
       "metadata": {},
       "output_type": "pyout",
       "prompt_number": 55,
       "text": [
        "409646.27843847114"
       ]
      }
     ],
     "prompt_number": 55
    },
    {
     "cell_type": "code",
     "collapsed": false,
     "input": [
      "cor = pearsonr(data[\"Data\"], data[\"SIM_Estimates\"])[0]\n",
      "print cor*cor\n"
     ],
     "language": "python",
     "metadata": {},
     "outputs": [
      {
       "output_type": "stream",
       "stream": "stdout",
       "text": [
        "0.976579872167\n"
       ]
      }
     ],
     "prompt_number": 25
    },
    {
     "cell_type": "code",
     "collapsed": false,
     "input": [],
     "language": "python",
     "metadata": {},
     "outputs": []
    }
   ],
   "metadata": {}
  }
 ]
}